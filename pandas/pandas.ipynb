{
 "cells": [
  {
   "cell_type": "markdown",
   "metadata": {},
   "source": [
    "---\n",
    "# PANDAS"
   ]
  },
  {
   "cell_type": "code",
   "execution_count": null,
   "metadata": {},
   "outputs": [],
   "source": [
    "import pandas as pd # primeiro instale o pandas: pip install pandas"
   ]
  },
  {
   "cell_type": "code",
   "execution_count": null,
   "metadata": {},
   "outputs": [],
   "source": [
    "# recursos do pandas\n",
    "print(len(dir(pd)))"
   ]
  },
  {
   "cell_type": "code",
   "execution_count": null,
   "metadata": {},
   "outputs": [],
   "source": [
    "# Recursos do pandas\n",
    "print(dir(pd))"
   ]
  },
  {
   "cell_type": "code",
   "execution_count": null,
   "metadata": {},
   "outputs": [],
   "source": [
    "lista_json = [{\"nome\": \"igor\", \"idade\": 28, \"cidade\": \"sao paulo\"},\n",
    "              {\"nome\": \"joao\", \"idade\": 30, \"cidade\": \"rio de janeiro\"},\n",
    "              {\"nome\": \"maria\", \"idade\": 25, \"cidade\": \"minas gerais\"},\n",
    "              {\"nome\": \"jose\", \"idade\": 27, \"cidade\": \"sao paulo\"}]"
   ]
  },
  {
   "cell_type": "code",
   "execution_count": null,
   "metadata": {},
   "outputs": [],
   "source": [
    "# Pandas Dataframe são o tipo de dado mais utilizado em ciência de dados (dados tabulares)\n",
    "# note que as linhas tem nomes (index) e as colunas também tem nomes\n",
    "\n",
    "df = pd.DataFrame(lista_json, index=['a', 'b', 'c', 'd'])\n",
    "df"
   ]
  },
  {
   "cell_type": "code",
   "execution_count": null,
   "metadata": {},
   "outputs": [],
   "source": [
    "dados = [[1, 2, 3], \n",
    "         [4, 5, 6], \n",
    "         [7, 8, 9]]"
   ]
  },
  {
   "cell_type": "code",
   "execution_count": null,
   "metadata": {},
   "outputs": [],
   "source": [
    "df__dados = pd.DataFrame(dados, columns=[\"coluna a\", \"coluna b\", \"coluna c\"])\n",
    "df__dados"
   ]
  },
  {
   "cell_type": "code",
   "execution_count": null,
   "metadata": {},
   "outputs": [],
   "source": [
    "dados = {\"coluna a\": [1, 4, 7],\n",
    "         \"coluna b\": [2, 5, 8],\n",
    "         \"coluna c\": [3, 6, 9]}"
   ]
  },
  {
   "cell_type": "code",
   "execution_count": null,
   "metadata": {},
   "outputs": [],
   "source": [
    "df_dados = pd.DataFrame(dados)\n",
    "df_dados"
   ]
  },
  {
   "cell_type": "markdown",
   "metadata": {},
   "source": [
    "---\n",
    "# Pandas filtering (iloc and loc)"
   ]
  },
  {
   "cell_type": "code",
   "execution_count": null,
   "metadata": {},
   "outputs": [],
   "source": [
    "df[[True, False, True, False]]        # filtragem simples (manual)"
   ]
  },
  {
   "cell_type": "code",
   "execution_count": null,
   "metadata": {},
   "outputs": [],
   "source": [
    "df[\"nome\"]      # retorna a coluna 'nome' da tabela (padas.dataframe). O tipo de uma coluna é chamado de pandas.series"
   ]
  },
  {
   "cell_type": "code",
   "execution_count": null,
   "metadata": {},
   "outputs": [],
   "source": [
    "df[\"idade\"]     # retorna a coluna 'idade' da tabela (padas.dataframe). O tipo de uma coluna é chamado de pandas.series"
   ]
  },
  {
   "cell_type": "code",
   "execution_count": null,
   "metadata": {},
   "outputs": [],
   "source": [
    "df[[\"nome\", \"idade\"]]       # retorna um pandas.dataframe com as colunas 'nome' e 'idade'"
   ]
  },
  {
   "cell_type": "code",
   "execution_count": null,
   "metadata": {},
   "outputs": [],
   "source": [
    "df.loc[\"a\"]     # retorna a linha 'a' (usando o nome da linha) da tabela (pandas.series)"
   ]
  },
  {
   "cell_type": "code",
   "execution_count": null,
   "metadata": {},
   "outputs": [],
   "source": [
    "df.iloc[0]    # retorna a linha 'a' (usando o indice da linha) da tabela (pandas.series)"
   ]
  },
  {
   "cell_type": "code",
   "execution_count": null,
   "metadata": {},
   "outputs": [],
   "source": [
    "df.iloc[:3]     # mesma sintaxe de slicing (fatiamento) das listas/arrays etc."
   ]
  },
  {
   "cell_type": "code",
   "execution_count": null,
   "metadata": {},
   "outputs": [],
   "source": [
    "df.loc[:, \"idade\"] < 30\n",
    "# df[df[\"idade\"] < 30]        # filtrando com condições (retorna um pandas.dataframe)"
   ]
  },
  {
   "cell_type": "code",
   "execution_count": null,
   "metadata": {},
   "outputs": [],
   "source": [
    "(df[\"idade\"] < 30)"
   ]
  },
  {
   "cell_type": "code",
   "execution_count": null,
   "metadata": {},
   "outputs": [],
   "source": [
    "(df[\"cidade\"] == \"sao paulo\")"
   ]
  },
  {
   "cell_type": "code",
   "execution_count": null,
   "metadata": {},
   "outputs": [],
   "source": [
    "# bitwie and\n",
    "(df[\"idade\"] < 30) & (df[\"cidade\"] == \"sao paulo\")"
   ]
  },
  {
   "cell_type": "code",
   "execution_count": null,
   "metadata": {},
   "outputs": [],
   "source": [
    "# bitwise or\n",
    "(df[\"idade\"] < 30) | (df[\"cidade\"] == \"sao paulo\")"
   ]
  },
  {
   "cell_type": "code",
   "execution_count": null,
   "metadata": {},
   "outputs": [],
   "source": [
    "df.loc[(df[\"idade\"] < 30) & (df[\"cidade\"] == \"sao paulo\"), \"nome\"]    # filtrando com múltiplas condições (retorna um pandas.dataframe)"
   ]
  },
  {
   "cell_type": "code",
   "execution_count": null,
   "metadata": {},
   "outputs": [],
   "source": [
    "# & - bitwise and (and bit a bit)\n",
    "# | - bitwise or  (or bit a bit)\n",
    "# >> - right shift\n",
    "# << - left shift\n",
    "\n",
    "print(30 & 20)     # 11110 & 10100 = 10100 = 20\n",
    "\n",
    "print(30 | 20)     # 11110 | 10100 = 11110 = 30\n",
    "\n",
    "print(30 << 2)     # 11110 << 2 = 1111000\n",
    "\n",
    "print (30 >> 2)    # 11110 >> 2 = 00111"
   ]
  },
  {
   "cell_type": "markdown",
   "metadata": {},
   "source": [
    "---\n",
    "# Número de métodos/propriedades de dataframes pandas"
   ]
  },
  {
   "cell_type": "code",
   "execution_count": null,
   "metadata": {},
   "outputs": [],
   "source": [
    "# Métodos/Propriedades Pandas DataFrame \n",
    "print(dir(df))"
   ]
  },
  {
   "cell_type": "code",
   "execution_count": null,
   "metadata": {},
   "outputs": [],
   "source": [
    "# Main properties of a Pandas DataFrame?\n",
    "# 1: df.columns\n",
    "# 2: df.index\n",
    "# 3: df.shape\n",
    "# 4: df.size\n",
    "# 5: df.dtypes\n",
    "# 6: df.values"
   ]
  },
  {
   "cell_type": "markdown",
   "metadata": {},
   "source": [
    "---\n",
    "# Pandas properties"
   ]
  },
  {
   "cell_type": "code",
   "execution_count": null,
   "metadata": {},
   "outputs": [],
   "source": [
    "df.shape        # retorna uma tupla com o número de linhas e colunas do dataframe"
   ]
  },
  {
   "cell_type": "code",
   "execution_count": null,
   "metadata": {},
   "outputs": [],
   "source": [
    "df.columns      # retorna um objeto Index (parece uma lista) com os nomes das colunas"
   ]
  },
  {
   "cell_type": "code",
   "execution_count": null,
   "metadata": {},
   "outputs": [],
   "source": [
    "df.index        # retorna um objeto Index (parece uma lista) com os nomes das linhas"
   ]
  },
  {
   "cell_type": "code",
   "execution_count": null,
   "metadata": {},
   "outputs": [],
   "source": [
    "df.values   # transforma os valores de um dataframe (valores entre as linhas e colunas) em um array numpy"
   ]
  },
  {
   "cell_type": "code",
   "execution_count": null,
   "metadata": {},
   "outputs": [],
   "source": [
    "df.size      # número de elementos do dataframe (número de linhas * número de colunas)"
   ]
  },
  {
   "cell_type": "code",
   "execution_count": null,
   "metadata": {},
   "outputs": [],
   "source": [
    "# retorna um pandas.series com o tipo de cada coluna\n",
    "df.dtypes   # para o pacote pandas, 'object' é uma string"
   ]
  },
  {
   "cell_type": "markdown",
   "metadata": {},
   "source": [
    "---\n",
    "# Baixando dados da web"
   ]
  },
  {
   "cell_type": "code",
   "execution_count": null,
   "metadata": {},
   "outputs": [],
   "source": [
    "# download iris dataset from pandas\n",
    "df_iris = pd.read_csv('https://raw.githubusercontent.com/mwaskom/seaborn-data/master/iris.csv')\n",
    "df_iris"
   ]
  },
  {
   "cell_type": "markdown",
   "metadata": {},
   "source": [
    "---\n",
    "# Usando alguns métodos de dataframes pandas"
   ]
  },
  {
   "cell_type": "code",
   "execution_count": null,
   "metadata": {},
   "outputs": [],
   "source": [
    "# principais métodos de um pandas.dataframe\n",
    "# 1: df.head\n",
    "# 2: df.tail\n",
    "# 3: df.info\n",
    "# 4: df.describe\n",
    "# 5: df.sample\n",
    "# 6: df.nunique\n",
    "# 7: df.value_counts\n",
    "# 8: df.isna\n",
    "# 9: df.dropna\n",
    "# 10: df.fillna\n",
    "# 11: df.groupby\n",
    "# 12: df.sort_values\n",
    "# 13: df.sort_index\n",
    "# 14: df.apply\n",
    "# 15: df.merge\n",
    "# 16: df.pivot_table"
   ]
  },
  {
   "cell_type": "markdown",
   "metadata": {},
   "source": [
    "---\n",
    "# 1. Pandas head"
   ]
  },
  {
   "cell_type": "code",
   "execution_count": null,
   "metadata": {},
   "outputs": [],
   "source": [
    "# 1. df.head -> retorna as primeiras n linhas do dataframe (padrão é 5)\n",
    "df_iris.head(3)      # padrão é 5"
   ]
  },
  {
   "cell_type": "markdown",
   "metadata": {},
   "source": [
    "---\n",
    "# 2. Pandas tail"
   ]
  },
  {
   "cell_type": "code",
   "execution_count": null,
   "metadata": {},
   "outputs": [],
   "source": [
    "# 2. df.tail -> retorna as últimas n linhas do dataframe (padrão é 5)\n",
    "df_iris.tail(3)      # padrão é 5"
   ]
  },
  {
   "cell_type": "markdown",
   "metadata": {},
   "source": [
    "---\n",
    "# 3. Pandas info"
   ]
  },
  {
   "cell_type": "code",
   "execution_count": null,
   "metadata": {},
   "outputs": [],
   "source": [
    "# 3. df.info -> mostra o número de valores não nulos de cada coluna e o tipo de cada coluna\n",
    "df_iris.info()"
   ]
  },
  {
   "cell_type": "markdown",
   "metadata": {},
   "source": [
    "---\n",
    "# 4. Pandas describe"
   ]
  },
  {
   "cell_type": "code",
   "execution_count": null,
   "metadata": {},
   "outputs": [],
   "source": [
    "# 4. df.describe -> mostra as principais estatísticas do dataframe (apenas para colunas numéricas)\n",
    "df_iris.describe()"
   ]
  },
  {
   "cell_type": "markdown",
   "metadata": {},
   "source": [
    "---\n",
    "# 5. Pandas sample"
   ]
  },
  {
   "cell_type": "code",
   "execution_count": null,
   "metadata": {},
   "outputs": [],
   "source": [
    "# 5. df.sample -> retorna uma amostra aleatória do dataframe\n",
    "df_iris.sample(5, replace=False, random_state=42)"
   ]
  },
  {
   "cell_type": "code",
   "execution_count": null,
   "metadata": {},
   "outputs": [],
   "source": [
    "# 1: n                  -> número de amostras (padrão é 1)\n",
    "# 2: replace            -> se True, a mesma linha pode ser amostrada mais de uma vez (padrão é False)\n",
    "# 3: random_state       -> semente para o gerador de números aleatórios (padrão é None)\n",
    "# 4: axis               -> eixo para amostrar (0 para linhas e 1 para colunas) (padrão é 0)\n",
    "\n",
    "df_iris.sample(n=3, replace=False, random_state=42, axis=0)"
   ]
  },
  {
   "cell_type": "markdown",
   "metadata": {},
   "source": [
    "---\n",
    "# 6. Pandas nunique"
   ]
  },
  {
   "cell_type": "code",
   "execution_count": null,
   "metadata": {},
   "outputs": [],
   "source": [
    "# 6. df.nunique -> retorna o número de valores únicos de cada coluna\n",
    "# principais parâmetros de df.nunique\n",
    "# 1: axis               -> eixo para amostrar (0 para linhas e 1 para colunas) (padrão é 0)\n",
    "# 2: dropna             -> se True, não conta os valores NaN (padrão é True)\n",
    "\n",
    "df_iris.nunique(axis=0, dropna=False)"
   ]
  },
  {
   "cell_type": "markdown",
   "metadata": {},
   "source": [
    "---\n",
    "# 7. Pandas value_counts"
   ]
  },
  {
   "cell_type": "code",
   "execution_count": null,
   "metadata": {},
   "outputs": [],
   "source": [
    "# 7. df.value_counts -> retorna o número de ocorrências de cada valor de uma coluna\n",
    "# principais parâmetros de df.value_counts\n",
    "# 1: subset             -> coluna para contar as ocorrências\n",
    "# 2: normalize          -> se verdadeiro, retorna a porcentagem de ocorrências de cada valor\n",
    "# 3: ascending          -> se True, retorna os valores em ordem crescente (padrão é False)\n",
    "\n",
    "df_iris.value_counts(subset=['species'], normalize=True, ascending=False)"
   ]
  },
  {
   "cell_type": "markdown",
   "metadata": {},
   "source": [
    "---\n",
    "# 8. Pandas isna"
   ]
  },
  {
   "cell_type": "code",
   "execution_count": null,
   "metadata": {},
   "outputs": [],
   "source": [
    "# 8. df.isna -> retorna um dataframe booleano com True para valores NaN (not a number) e False para valores não NaN (not a number)\n",
    "# df.isna não tem parâmetros. NaN é um objeto existente no pacote numpy, e por consequencia, no pandas\n",
    "\n",
    "df_iris.isna()"
   ]
  },
  {
   "cell_type": "markdown",
   "metadata": {},
   "source": [
    "---\n",
    "# 9. Pandas dropna"
   ]
  },
  {
   "cell_type": "code",
   "execution_count": null,
   "metadata": {},
   "outputs": [],
   "source": [
    "df_teste = pd.DataFrame([[None, None, None, None, None], \n",
    "                         [None, 1, 2, 3, \"Versicolor\"]], \n",
    "                         columns=df_iris.columns)\n",
    "df_teste"
   ]
  },
  {
   "cell_type": "code",
   "execution_count": null,
   "metadata": {},
   "outputs": [],
   "source": [
    "df_iris = pd.concat([df_iris, df_teste], axis=0).reset_index(drop=True)\n",
    "df_iris"
   ]
  },
  {
   "cell_type": "code",
   "execution_count": null,
   "metadata": {},
   "outputs": [],
   "source": [
    "df_iris.tail()"
   ]
  },
  {
   "cell_type": "code",
   "execution_count": null,
   "metadata": {},
   "outputs": [],
   "source": [
    "# 9. df.dropna -> remove as linhas ou colunas com valores NaN\n",
    "# principais parâmetros de df.dropna\n",
    "# 1: axis               -> eixo para amostrar (0 para linhas e 1 para colunas) (padrão é 0)\n",
    "# 2: how                -> se 'any' (padrão), remove as linhas/colunas com pelo menos um NaN. Se 'all', remove as linhas/colunas com todos os valores NaN\n",
    "# 3: subset             -> colunas para considerar na remoção de linhas/colunas com NaN (padrão é None, considera todas as colunas)\n",
    "# 4: inplace            -> se True, modifica o dataframe original (padrão é False)\n",
    "\n",
    "df_iris.dropna(axis=0, how='all', subset=None, inplace=False)"
   ]
  },
  {
   "cell_type": "markdown",
   "metadata": {},
   "source": [
    "---\n",
    "# 10. Pandas fillna"
   ]
  },
  {
   "cell_type": "code",
   "execution_count": null,
   "metadata": {},
   "outputs": [],
   "source": [
    "# 10. df.fillna -> preenche os valores NaN com um valor específico\n",
    "# principais parametros de df.fillna\n",
    "# 1: value              -> valor para preencher os NaN\n",
    "# 2: axis               -> eixo para amostrar (0 para linhas e 1 para colunas) (padrão é 0)\n",
    "# 3: inplace            -> se True, modifica o dataframe original (padrão é False)\n",
    "\n",
    "df_iris.fillna(value=0, axis=0, inplace=False)"
   ]
  },
  {
   "cell_type": "code",
   "execution_count": null,
   "metadata": {},
   "outputs": [],
   "source": [
    "df_iris.dropna(axis=0, how='any', subset=None, inplace=True)"
   ]
  },
  {
   "cell_type": "code",
   "execution_count": null,
   "metadata": {},
   "outputs": [],
   "source": [
    "df_iris"
   ]
  },
  {
   "cell_type": "markdown",
   "metadata": {},
   "source": [
    "---\n",
    "# 11. Pandas groupby"
   ]
  },
  {
   "cell_type": "code",
   "execution_count": null,
   "metadata": {},
   "outputs": [],
   "source": [
    "# 11. df.groupby -> agrupa o dataframe por uma coluna específica\n",
    "# 1: by                 -> coluna(s) para agrupar\n",
    "\n",
    "grouped = df_iris.groupby(by='species')"
   ]
  },
  {
   "cell_type": "code",
   "execution_count": null,
   "metadata": {},
   "outputs": [],
   "source": [
    "type(grouped)"
   ]
  },
  {
   "cell_type": "code",
   "execution_count": null,
   "metadata": {},
   "outputs": [],
   "source": [
    "print(*dir(grouped)[102:])"
   ]
  },
  {
   "cell_type": "code",
   "execution_count": null,
   "metadata": {},
   "outputs": [],
   "source": [
    "# fique atento que a propriedade groups é um dicionário\n",
    "grouped.groups"
   ]
  },
  {
   "cell_type": "code",
   "execution_count": null,
   "metadata": {},
   "outputs": [],
   "source": [
    "grouped.groups.keys()"
   ]
  },
  {
   "cell_type": "code",
   "execution_count": null,
   "metadata": {},
   "outputs": [],
   "source": [
    "# o método get_group retorna um dataframe com as linhas do grupo especificado\n",
    "grouped.get_group('setosa').head()"
   ]
  },
  {
   "cell_type": "code",
   "execution_count": null,
   "metadata": {},
   "outputs": [],
   "source": [
    "# retorna a primeira linha de cada grupo\n",
    "grouped.first()"
   ]
  },
  {
   "cell_type": "code",
   "execution_count": null,
   "metadata": {},
   "outputs": [],
   "source": [
    "# retorna a última linha de cada grupo\n",
    "grouped.last()"
   ]
  },
  {
   "cell_type": "code",
   "execution_count": null,
   "metadata": {},
   "outputs": [],
   "source": [
    "# retorna o n-ésimo + 1 elemento de cada grupo\n",
    "grouped.nth(5)"
   ]
  },
  {
   "cell_type": "code",
   "execution_count": null,
   "metadata": {},
   "outputs": [],
   "source": [
    "# retorna a média de cada coluna para cada grupo\n",
    "grouped.mean()"
   ]
  },
  {
   "cell_type": "code",
   "execution_count": null,
   "metadata": {},
   "outputs": [],
   "source": [
    "# retorna a soma ACUMULADA de cada coluna para cada grupo\n",
    "grouped.cumsum()"
   ]
  },
  {
   "cell_type": "code",
   "execution_count": null,
   "metadata": {},
   "outputs": [],
   "source": [
    "# configura a quantidade máxima de linhas a serem exibidas no notebook\n",
    "pd.set_option('display.max_rows', 150)"
   ]
  },
  {
   "cell_type": "code",
   "execution_count": null,
   "metadata": {},
   "outputs": [],
   "source": [
    "grouped.cumsum()"
   ]
  },
  {
   "cell_type": "code",
   "execution_count": null,
   "metadata": {},
   "outputs": [],
   "source": [
    "# retorna a quantidade máxima de linhas a serem exibidas no notebook para o padrão\n",
    "pd.reset_option('display.max_rows')"
   ]
  },
  {
   "cell_type": "code",
   "execution_count": null,
   "metadata": {},
   "outputs": [],
   "source": [
    "# retorna a variação percentual de cada coluna para cada grupo\n",
    "grouped.pct_change()"
   ]
  },
  {
   "cell_type": "markdown",
   "metadata": {},
   "source": [
    "---\n",
    "# 12. Pandas sort_values"
   ]
  },
  {
   "cell_type": "code",
   "execution_count": null,
   "metadata": {},
   "outputs": [],
   "source": [
    "# 12. df.sort_index -> classifica o DataFrame pelo índice\n",
    "# principais parâmetros de df.sort_values\n",
    "# 1: by                 -> coluna para ordenar\n",
    "# 2: ascending          -> se True, ordena em ordem crescente (padrão é True)\n",
    "# 3: inplace            -> se True, modifica o dataframe original (padrão é False)\n",
    "\n",
    "df_iris.sort_values(by=['sepal_length', 'sepal_width'], ascending=True, inplace=False)"
   ]
  },
  {
   "cell_type": "markdown",
   "metadata": {},
   "source": [
    "---\n",
    "# 13. Pandas sort_index"
   ]
  },
  {
   "cell_type": "code",
   "execution_count": null,
   "metadata": {},
   "outputs": [],
   "source": [
    "# 13. df.sort_index -> classifica o DataFrame pelo índice\n",
    "# principais parâmetros de df.sort_index\n",
    "# 1: axis               -> eixo para classificar (0 para linhas e 1 para colunas) (padrão é 0)\n",
    "# 2: ascending          -> se True, ordena em ordem crescente (padrão é True)\n",
    "# 3: inplace            -> se True, modifica o dataframe original (padrão é False)\n",
    "\n",
    "df_iris.sort_index(axis=0, ascending=False, inplace=False)"
   ]
  },
  {
   "cell_type": "markdown",
   "metadata": {},
   "source": [
    "---\n",
    "# 14. Pandas apply"
   ]
  },
  {
   "cell_type": "code",
   "execution_count": null,
   "metadata": {},
   "outputs": [],
   "source": [
    "# 14. df.apply -> aplica uma função a cada linha/coluna do DataFrame\n",
    "# principais parâmetros de df.apply\n",
    "# 1: func               -> função a ser aplicada em cada elemento\n",
    "# 2: axis               -> eixo para aplicar a função (0 para linhas e 1 para colunas) (padrão é 0)\n",
    "\n",
    "# species é uma coluna categórica, logo não podemos aplicar a função sum\n",
    "\n",
    "colunas_filtrar = [\"petal_length\", \"petal_width\", \"sepal_length\", \"sepal_width\"]\n",
    "df_iris_filtrado = df_iris[colunas_filtrar]\n",
    "df_iris_filtrado.apply(sum, axis=0)"
   ]
  },
  {
   "cell_type": "code",
   "execution_count": null,
   "metadata": {},
   "outputs": [],
   "source": [
    "# podemos usar o método .apply em dataframes e series\n",
    "df_iris[\"species\"].apply(func=lambda especie: especie.upper()) # Não possui o parametro axis pois é uma series"
   ]
  },
  {
   "cell_type": "markdown",
   "metadata": {},
   "source": [
    "---\n",
    "# 15. Pandas merge"
   ]
  },
  {
   "cell_type": "code",
   "execution_count": null,
   "metadata": {},
   "outputs": [],
   "source": [
    "# 15. df.merge -> junta 2 DataFrames\n",
    "# principais parâmetros de df.merge\n",
    "# 1: right              -> DataFrame to merge DataFrame à direita para mesclar (merge)\n",
    "# 2: how                -> tipo de mesclagem (inner, outer, left, right (padrão é 'interno')\n",
    "# 3: on                 -> coluna para mesclar (merge) (padrão é None)\n",
    "# 4: left_on            -> nome da coluna padrao para mesclagem na tabela da esquerda (padrão é None)\n",
    "# 5: right_on           -> nome da coluna padrao para mesclagem na tabela da direita (padrão é None)\n",
    "# 6: left_index         -> se True, mescla pela index da tabela da esquerda (padrão é False)\n",
    "# 7: right_index        -> se True, mescla pela index da tabela da direita (padrão é False)\n",
    "\n",
    "\n",
    "df1 = pd.DataFrame(\n",
    "    {\n",
    "        \"id_acao\": [0, 1, 2, 3],\n",
    "        \"ticker\": [\"PETR4\", \"VALE3\", \"ITUB4\", \"BBDC4\"]\n",
    "    }\n",
    ")\n",
    "\n",
    "\n",
    "df2 = pd.DataFrame(\n",
    "    {\n",
    "        \"id_acao\": [2, 3, 0, 1],\n",
    "        \"nome\": [\"Itau\", \"Bradesco\", \"Petrobras\", \"Vale\"],\n",
    "    }\n",
    ")"
   ]
  },
  {
   "cell_type": "code",
   "execution_count": null,
   "metadata": {},
   "outputs": [],
   "source": [
    "df1"
   ]
  },
  {
   "cell_type": "code",
   "execution_count": null,
   "metadata": {},
   "outputs": [],
   "source": [
    "df2"
   ]
  },
  {
   "cell_type": "code",
   "execution_count": null,
   "metadata": {},
   "outputs": [],
   "source": [
    "# inner join\n",
    "pd.merge(left=df1, right=df2, on='id_acao')"
   ]
  },
  {
   "cell_type": "markdown",
   "metadata": {},
   "source": [
    "---\n",
    "# 16. Pandas pivot_table"
   ]
  },
  {
   "cell_type": "code",
   "execution_count": null,
   "metadata": {},
   "outputs": [],
   "source": [
    "df = pd.DataFrame({\"produto\": [\"calca\", \"calca\", \"calca\", \"calca\", \"calca\", \"camisa\", \"camisa\", \"camisa\", \"camisa\"],\n",
    "                   \"cor\": [\"preto\", \"preto\", \"preto\", \"azul\", \"azul\", \"preto\", \"preto\", \"azul\", \"azul\"],\n",
    "                   \"marca\": [\"levis\", \"lacoste\", \"lacoste\", \"levis\", \"levis\", \"lacoste\", \"levis\", \"levis\", \"lacoste\"],\n",
    "                   \"tamanho\": [1, 2, 2, 3, 3, 4, 5, 6, 7],\n",
    "                   \"preco\": [2, 4, 5, 5, 6, 6, 8, 9, 9]})\n",
    "df.sort_values(by=['produto', 'cor', 'marca', 'tamanho'])"
   ]
  },
  {
   "cell_type": "code",
   "execution_count": null,
   "metadata": {},
   "outputs": [],
   "source": [
    "# é o mesmo que tabela dinamicas do excel\n",
    "pd.pivot_table(df, \n",
    "               values=['tamanho', 'preco'], \n",
    "               index=['produto', 'cor'], \n",
    "               columns=['marca'], \n",
    "               aggfunc={\"tamanho\": 'mean', \"preco\": ['min', 'max']}, fill_value=0)"
   ]
  }
 ],
 "metadata": {
  "kernelspec": {
   "display_name": "base",
   "language": "python",
   "name": "python3"
  },
  "language_info": {
   "codemirror_mode": {
    "name": "ipython",
    "version": 3
   },
   "file_extension": ".py",
   "mimetype": "text/x-python",
   "name": "python",
   "nbconvert_exporter": "python",
   "pygments_lexer": "ipython3",
   "version": "3.11.5"
  },
  "orig_nbformat": 4
 },
 "nbformat": 4,
 "nbformat_minor": 2
}
