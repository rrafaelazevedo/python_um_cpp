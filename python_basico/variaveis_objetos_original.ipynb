{
 "cells": [
  {
   "cell_type": "markdown",
   "metadata": {},
   "source": [
    "# 1)\n",
    "# Baixar e instalar VS Code\n",
    "# https://code.visualstudio.com/download\n",
    "\n",
    "#### Observação: Lembre de ativar \"`Todas as opções`\" durante a instalação.\n",
    "\n",
    "<img src=\"captura_instalacao_vscode.png\" style=\"height:300px\">\n",
    "\n",
    "#### Para testar, abra um **novo** terminal (CMD) e digite: `code --version`\n",
    "\n",
    "---"
   ]
  },
  {
   "cell_type": "markdown",
   "metadata": {},
   "source": [
    "# 2)\n",
    "# Baixar e instalar Python\n",
    "# https://www.python.org/downloads/\n",
    "\n",
    "#### Observação: Lembre de ativar a opção \"`Add python.exe to Path`\" durante a instalação.\n",
    "\n",
    "<img src=\"captura_instalacao_python.png\" style=\"height:300px\" />\n",
    "\n",
    "#### Para testar, abra um **novo** terminal (CMD) e digite: `python --version`\n",
    "\n",
    "---"
   ]
  },
  {
   "cell_type": "markdown",
   "metadata": {},
   "source": [
    "# 3)\n",
    "# Criar (``mkdir cpp``) uma pasta para o curso no diretório de sua preferência e entrar nesta pasta (``cd cpp``)\n",
    "---"
   ]
  },
  {
   "cell_type": "markdown",
   "metadata": {},
   "source": [
    "# 4)\n",
    "# Criar e ativar um novo ambiente virtual (cpp)\n",
    "### ``python -m venv venv_cpp``     Criar ambiente no Windows e MAC\n",
    "### ``venv_cpp\\\\Scripts\\\\activate`` Ativar ambiente no Windows\n",
    "### ``venv_cpp/bin/activate``       Ativar ambiente no MAC\n",
    "\n",
    "\n",
    "#### Obs.: Os comandos acima devem ser aplicados após entrar na pasta do curso (``cd cpp``)\n",
    "---"
   ]
  },
  {
   "cell_type": "markdown",
   "metadata": {},
   "source": [
    "# 5)\n",
    "# Instalar iPykernel\n",
    "### ``python -m pip install ipykernel``\n",
    "\n",
    "#### Obs.: Este comando deve ser aplicado **após** ativar o ambiente do curso (``venv_cpp\\\\Scripts\\\\activate``)\n",
    "---"
   ]
  },
  {
   "cell_type": "markdown",
   "metadata": {},
   "source": [
    "# 6)\n",
    "# Abrir VS Code, instalar uma extensão do python criar um arquivo notebook e selecionar o ambiente virtual criado\n",
    "1. ``code .``\n",
    "2. Abra a **seção de extensões** (Ctrl + Shift + X) e `instale` a extensão do `Python`\n",
    "\n",
    "<img src=\"captura_extensao_python.png\" style=\"height:800px\">\n",
    "\n",
    "3. Abra a **seção de extensões** (Ctrl + Shift + X) e `instale` a extensão do `Jupyter Notebook`\n",
    "\n",
    "<img src=\"captura_extensao_jupyter.png\" style=\"height:800px\">\n",
    "\n",
    "4. Abra a seção do **file explorer** (Ctrl + Shift + E) e `crie` um novo `arquivo notebook`\n",
    "5. Selecione o **ambiente virtual (kernel/interpretador)** criado (venv_cpp) no canto superior direito da tela\n",
    "\n",
    "#### Obs. 1: O comando do primeiro tópico deve ser aplicado após entrar na pasta do curso (``cd cpp``)\n",
    "\n",
    "#### OBs. 2: **Interpretador**, **kernel** e **ambiente virtual** são sinônimos para referenciar um python isolado\n",
    "---"
   ]
  },
  {
   "cell_type": "markdown",
   "metadata": {},
   "source": [
    "<font color=\"red\">\n",
    "**Dica**: Sempre que abrir um notebook já existente, lembre-se de pressionar o botão \"Clear All Outputs\" (este botão fica na parte superior da tela do VS Code) para limpar os prints anteriores. Isto é importante para não confundirmos a sessão anterior com a atual.\n",
    "</font>"
   ]
  },
  {
   "cell_type": "markdown",
   "metadata": {},
   "source": [
    "<font color=\"blue\">\n",
    "Após limpar os outputs, comece a rodar as células (Shift + Enter OU ctrl + Enter) para estudar os comandos estudados\n",
    "</font>"
   ]
  },
  {
   "cell_type": "markdown",
   "metadata": {},
   "source": [
    "---"
   ]
  },
  {
   "cell_type": "markdown",
   "metadata": {},
   "source": [
    "## E começa o python...\n",
    "## 0 - **Conhecendo um pouco a função print**...\n",
    "---"
   ]
  },
  {
   "cell_type": "code",
   "execution_count": 1,
   "metadata": {},
   "outputs": [],
   "source": [
    "# configuracao basica da funcao print\n",
    "# print(arg0, arg1, arg2, ..., argn)"
   ]
  },
  {
   "cell_type": "code",
   "execution_count": 2,
   "metadata": {
    "colab": {
     "base_uri": "https://localhost:8080/"
    },
    "executionInfo": {
     "elapsed": 282,
     "status": "ok",
     "timestamp": 1686352605024,
     "user": {
      "displayName": "Igor Jasenovski",
      "userId": "00440362735260752450"
     },
     "user_tz": 180
    },
    "id": "F5lBfC9CQGLU",
    "outputId": "09966cf7-f1b9-4bd7-ab98-049d640c21a2"
   },
   "outputs": [
    {
     "name": "stdout",
     "output_type": "stream",
     "text": [
      "Igor Matheus Jasenovski\n"
     ]
    }
   ],
   "source": [
    "# printa os valores que estao dentro dos parenteses separados por virgula.\n",
    "# por padrao, acrescenta um espaco entre os valores\n",
    "print(\"Igor\",\"Matheus\",\"Jasenovski\")"
   ]
  },
  {
   "cell_type": "code",
   "execution_count": 3,
   "metadata": {},
   "outputs": [
    {
     "name": "stdout",
     "output_type": "stream",
     "text": [
      "394 igor 3.14\n"
     ]
    }
   ],
   "source": [
    "# perceber que os valores abaixo estao na forma 'estatica' / 'literal' e nao 'dinamica' / 'variavel'\n",
    "print(394,\"igor\",3.14)"
   ]
  },
  {
   "cell_type": "code",
   "execution_count": 4,
   "metadata": {},
   "outputs": [
    {
     "name": "stdout",
     "output_type": "stream",
     "text": [
      "Museu da Matemática Prandiano\n"
     ]
    }
   ],
   "source": [
    "print(\"Museu\",     \"da\",   \"Matemática\",\"Prandiano\")"
   ]
  },
  {
   "cell_type": "markdown",
   "metadata": {
    "id": "Ejk3RIOy-YOJ"
   },
   "source": [
    "---\n",
    "# 1 - **Conhecendo VARIÁVEIS**"
   ]
  },
  {
   "cell_type": "markdown",
   "metadata": {},
   "source": [
    "---\n",
    "# **Regras para nomeações de variáveis:**\n",
    "#### 1. Os nomes das variáveis devem começar com letras ou 'underline'\n",
    "#### 2. O restante do nome das variáveis devem conter apenas letras, numeros ou 'underlines'\n",
    "#### 3. Os nomes de variáveis são sensíveis entre letras minúsculas e maiúsculas\n",
    "#### 4. Os nomes de variáveis devem ser sempre minúsculas (PEP 8 – Style Guide for Python Code)\n",
    "#### 5. Deve ser usado '_' para separar as palavras para as variaveis com nomes compostos (PEP 8 – Style Guide for Python Code)\n",
    "---"
   ]
  },
  {
   "cell_type": "code",
   "execution_count": 5,
   "metadata": {
    "colab": {
     "base_uri": "https://localhost:8080/"
    },
    "executionInfo": {
     "elapsed": 5,
     "status": "ok",
     "timestamp": 1686353196045,
     "user": {
      "displayName": "Igor Jasenovski",
      "userId": "00440362735260752450"
     },
     "user_tz": 180
    },
    "id": "IE0GepRG-YOJ",
    "outputId": "4bbd91be-8861-43fb-df9c-106752fba493"
   },
   "outputs": [
    {
     "name": "stdout",
     "output_type": "stream",
     "text": [
      "2 - <class 'int'>\n"
     ]
    }
   ],
   "source": [
    "# endereço de memória denominado de 'a' recebe (=) o valor 2\n",
    "\n",
    "# valor do tipo Integer\n",
    "a = 2                       # é o mesmo que a <- 2\n",
    "print(a, \"-\", type(a))      # não vamos AINDA entender melhor a função print e nem a funcao type (ainda)"
   ]
  },
  {
   "cell_type": "code",
   "execution_count": 6,
   "metadata": {
    "id": "-19piqHP-YOK",
    "outputId": "4cdab009-8dcf-4186-a448-9110e2472f56"
   },
   "outputs": [
    {
     "name": "stdout",
     "output_type": "stream",
     "text": [
      "9223372036854775807 - <class 'int'>\n"
     ]
    }
   ],
   "source": [
    "# endereço de memória denominado de 'b' recebe (=) o valor 9223372036854775807\n",
    "\n",
    "# valor do tipo Integer (o python entende que o limite da sua variável é o limite da sua memória)\n",
    "b = 9223372036854775807\n",
    "print(b, \"-\", type(b))"
   ]
  },
  {
   "cell_type": "code",
   "execution_count": 7,
   "metadata": {
    "colab": {
     "base_uri": "https://localhost:8080/"
    },
    "executionInfo": {
     "elapsed": 474,
     "status": "ok",
     "timestamp": 1686354676922,
     "user": {
      "displayName": "Igor Jasenovski",
      "userId": "00440362735260752450"
     },
     "user_tz": 180
    },
    "id": "Ln2IEa6V-YOL",
    "outputId": "b3ddf1cf-bbe2-4bcf-8747-ddfaed850525"
   },
   "outputs": [
    {
     "name": "stdout",
     "output_type": "stream",
     "text": [
      "3.14 - <class 'float'>\n"
     ]
    }
   ],
   "source": [
    "# endereço de memória denominado de 'pi' recebe (=) o valor 9223372036854775808\n",
    "\n",
    "# valor do tipo Float (pontos flutuantes devem ser separados por PONTO e NÃO por VÍRGULA)\n",
    "pi = 3.14\n",
    "print(pi, \"-\", type(pi))"
   ]
  },
  {
   "cell_type": "code",
   "execution_count": 8,
   "metadata": {
    "colab": {
     "base_uri": "https://localhost:8080/"
    },
    "executionInfo": {
     "elapsed": 257,
     "status": "ok",
     "timestamp": 1686353677930,
     "user": {
      "displayName": "Igor Jasenovski",
      "userId": "00440362735260752450"
     },
     "user_tz": 180
    },
    "id": "Sn6Wg8MS-YOL",
    "outputId": "0f965e5c-fb30-47e3-fd42-3dbd5d5cc560"
   },
   "outputs": [
    {
     "name": "stdout",
     "output_type": "stream",
     "text": [
      "A - <class 'str'>\n"
     ]
    }
   ],
   "source": [
    "# endereço de memória denominado de 'c' recebe (=) o valor 'A'\n",
    "\n",
    "# valor do tipo String (strings podem ser delimitadas por aspas simples ou duplas)\n",
    "c = \"A\"\n",
    "print(c, \"-\", type(c))"
   ]
  },
  {
   "cell_type": "code",
   "execution_count": 9,
   "metadata": {
    "colab": {
     "base_uri": "https://localhost:8080/"
    },
    "executionInfo": {
     "elapsed": 619,
     "status": "ok",
     "timestamp": 1686354743425,
     "user": {
      "displayName": "Igor Jasenovski",
      "userId": "00440362735260752450"
     },
     "user_tz": 180
    },
    "id": "18Dyf7M6-YOL",
    "outputId": "1cca5b24-b538-451b-b5e9-55b40ec69eb5"
   },
   "outputs": [
    {
     "name": "stdout",
     "output_type": "stream",
     "text": [
      "José da Silva - <class 'str'>\n"
     ]
    }
   ],
   "source": [
    "# endereço de memória denominado de 'name' recebe o valor 'José da Silva'\n",
    "\n",
    "# valor do tipo String\n",
    "name = 'José da Silva'\n",
    "print(name, \"-\", type(name))"
   ]
  },
  {
   "cell_type": "code",
   "execution_count": 10,
   "metadata": {
    "colab": {
     "base_uri": "https://localhost:8080/"
    },
    "executionInfo": {
     "elapsed": 474,
     "status": "ok",
     "timestamp": 1686344796411,
     "user": {
      "displayName": "Igor Jasenovski",
      "userId": "00440362735260752450"
     },
     "user_tz": 180
    },
    "id": "Resnzwfa-YOL",
    "outputId": "d509f71f-3b67-4b8d-e0c9-64b48cec0146"
   },
   "outputs": [
    {
     "name": "stdout",
     "output_type": "stream",
     "text": [
      "True - <class 'bool'>\n"
     ]
    }
   ],
   "source": [
    "# endereço de memória denominado de 'q' recebe o valor 'True'\n",
    "\n",
    "# valor do tipo Bool (booleanos devem ser escritos com a primeira letra maiúscula)\n",
    "q = True\n",
    "print(q, \"-\", type(q))"
   ]
  },
  {
   "cell_type": "markdown",
   "metadata": {
    "id": "tkaju3Xa-YOL"
   },
   "source": [
    "---\n",
    "# 2) **Operadores e comparadores**\n",
    "### Cada tipo de dado corresponde de maneiras diferentes com relação aos operadores (+, -, *, /)\n",
    "\n",
    "### por exemplo, somar duas strings realiza uma operacao diferente do que somar dois numeros...\n",
    "---"
   ]
  },
  {
   "cell_type": "code",
   "execution_count": 11,
   "metadata": {
    "colab": {
     "base_uri": "https://localhost:8080/"
    },
    "executionInfo": {
     "elapsed": 291,
     "status": "ok",
     "timestamp": 1686355112286,
     "user": {
      "displayName": "Igor Jasenovski",
      "userId": "00440362735260752450"
     },
     "user_tz": 180
    },
    "id": "Ht90dTpR-YOL",
    "outputId": "8a722dea-9e39-47fb-914a-f52fb3fe3a1b"
   },
   "outputs": [
    {
     "name": "stdout",
     "output_type": "stream",
     "text": [
      "6\n"
     ]
    }
   ],
   "source": [
    "# o sinal '+' ENTRE INTEGERS/FLOAT é uma operação de soma\n",
    "print(5 + 1)"
   ]
  },
  {
   "cell_type": "code",
   "execution_count": 12,
   "metadata": {},
   "outputs": [
    {
     "name": "stdout",
     "output_type": "stream",
     "text": [
      "51\n"
     ]
    }
   ],
   "source": [
    "# o sinal '+' ENTRE STRINGS é uma operação de concatenação (pythonico)\n",
    "print(\"5\" + \"1\")"
   ]
  },
  {
   "cell_type": "code",
   "execution_count": 13,
   "metadata": {
    "colab": {
     "base_uri": "https://localhost:8080/",
     "height": 184
    },
    "executionInfo": {
     "elapsed": 651,
     "status": "error",
     "timestamp": 1686355190124,
     "user": {
      "displayName": "Igor Jasenovski",
      "userId": "00440362735260752450"
     },
     "user_tz": 180
    },
    "id": "sFOfs9HO-YOM",
    "outputId": "22385666-53a5-466b-e895-0210117025dd"
   },
   "outputs": [
    {
     "ename": "TypeError",
     "evalue": "can only concatenate str (not \"int\") to str",
     "output_type": "error",
     "traceback": [
      "\u001b[1;31m---------------------------------------------------------------------------\u001b[0m",
      "\u001b[1;31mTypeError\u001b[0m                                 Traceback (most recent call last)",
      "Cell \u001b[1;32mIn[13], line 2\u001b[0m\n\u001b[0;32m      1\u001b[0m \u001b[38;5;66;03m# Não é possível somar uma string com um número (int ou float)\u001b[39;00m\n\u001b[1;32m----> 2\u001b[0m \u001b[38;5;28mprint\u001b[39m(\u001b[38;5;124;43m\"\u001b[39;49m\u001b[38;5;124;43m5\u001b[39;49m\u001b[38;5;124;43m\"\u001b[39;49m\u001b[43m \u001b[49m\u001b[38;5;241;43m+\u001b[39;49m\u001b[43m \u001b[49m\u001b[38;5;241;43m3\u001b[39;49m)\n",
      "\u001b[1;31mTypeError\u001b[0m: can only concatenate str (not \"int\") to str"
     ]
    }
   ],
   "source": [
    "# Não é possível somar uma string com um número (int ou float)\n",
    "print(\"5\" + 3)"
   ]
  },
  {
   "cell_type": "code",
   "execution_count": 16,
   "metadata": {
    "colab": {
     "base_uri": "https://localhost:8080/"
    },
    "executionInfo": {
     "elapsed": 289,
     "status": "ok",
     "timestamp": 1686355428612,
     "user": {
      "displayName": "Igor Jasenovski",
      "userId": "00440362735260752450"
     },
     "user_tz": 180
    },
    "id": "tL1KQNTT-YOM",
    "outputId": "faff589c-acc5-48d0-d3ac-9c7395df6655"
   },
   "outputs": [
    {
     "name": "stdout",
     "output_type": "stream",
     "text": [
      "52525252525252525252\n"
     ]
    }
   ],
   "source": [
    "# É possível multiplicar uma string por um número inteiro\n",
    "print(\"52\" * 10)"
   ]
  },
  {
   "cell_type": "markdown",
   "metadata": {
    "id": "1Q13r248-YOM"
   },
   "source": [
    "### Cada tipo de dado (**objeto**) tem seu próprio conjunto de operações"
   ]
  },
  {
   "cell_type": "code",
   "execution_count": 17,
   "metadata": {
    "colab": {
     "base_uri": "https://localhost:8080/"
    },
    "executionInfo": {
     "elapsed": 620,
     "status": "ok",
     "timestamp": 1686355803420,
     "user": {
      "displayName": "Igor Jasenovski",
      "userId": "00440362735260752450"
     },
     "user_tz": 180
    },
    "id": "-r9NX1M_-YOM",
    "outputId": "5f0abcab-6e38-4d10-8613-b3faa85b23f1"
   },
   "outputs": [
    {
     "name": "stdout",
     "output_type": "stream",
     "text": [
      "A. soma: 6\n",
      "--------------------------------------------------\n",
      "B. subtração: 4\n",
      "--------------------------------------------------\n",
      "C. multiplicação: 10\n",
      "--------------------------------------------------\n",
      "D. divisão 2.5\n",
      "--------------------------------------------------\n",
      "E. quociente inteiro da divisão: 2\n",
      "--------------------------------------------------\n",
      "F. resto da divisão: 1\n",
      "--------------------------------------------------\n",
      "G. potenciação: 25\n"
     ]
    }
   ],
   "source": [
    "# operadores para integer/float\n",
    "print(\"A. soma:\", 5 + 1)\n",
    "print(\"-\" * 50)\n",
    "print(\"B. subtração:\", 5 - 1)\n",
    "print(\"-\" * 50)\n",
    "print(\"C. multiplicação:\", 5 * 2)\n",
    "print(\"-\" * 50)\n",
    "print(\"D. divisão\", 5 / 2)\n",
    "print(\"-\" * 50)\n",
    "print(\"E. quociente inteiro da divisão:\", 5 // 2)\n",
    "print(\"-\" * 50)\n",
    "print(\"F. resto da divisão:\", 5 % 2)\n",
    "print(\"-\" * 50)\n",
    "print(\"G. potenciação:\", 5 ** 2)"
   ]
  },
  {
   "cell_type": "code",
   "execution_count": 18,
   "metadata": {
    "colab": {
     "base_uri": "https://localhost:8080/"
    },
    "executionInfo": {
     "elapsed": 295,
     "status": "ok",
     "timestamp": 1686356101194,
     "user": {
      "displayName": "Igor Jasenovski",
      "userId": "00440362735260752450"
     },
     "user_tz": 180
    },
    "id": "m7poW3q3-YOM",
    "outputId": "8d8c5712-c706-48fd-8a70-84b599dc1ffe"
   },
   "outputs": [
    {
     "name": "stdout",
     "output_type": "stream",
     "text": [
      "A. concatenação: 51\n",
      "--------------------------------------------------\n",
      "B. repetição: 55\n"
     ]
    }
   ],
   "source": [
    "# operadores para string\n",
    "print(\"A. concatenação:\", \"5\" + \"1\")\n",
    "print(\"-\" * 50)\n",
    "print(\"B. repetição:\", \"5\" * 2)"
   ]
  },
  {
   "cell_type": "code",
   "execution_count": 19,
   "metadata": {},
   "outputs": [
    {
     "name": "stdout",
     "output_type": "stream",
     "text": [
      "A. upper: PRANDIANO\n",
      "--------------------------------------------------\n",
      "B. lower: prandiano\n",
      "--------------------------------------------------\n",
      "C. capitalize: Curso prandiano\n",
      "--------------------------------------------------\n",
      "D. title: Curso Prandiano\n",
      "--------------------------------------------------\n",
      "E. split: ['pr', 'ndi', 'no']\n",
      "--------------------------------------------------\n",
      "F. replace: prandIano\n",
      "--------------------------------------------------\n",
      "G. find: 0\n",
      "--------------------------------------------------\n",
      "H. index: 6\n",
      "--------------------------------------------------\n",
      "I. count: 3\n",
      "--------------------------------------------------\n",
      "J. função len: 9\n",
      "--------------------------------------------------\n",
      "K. startswith True\n",
      "--------------------------------------------------\n",
      "L. endswith: False\n",
      "--------------------------------------------------\n",
      "M. isalnum: True\n",
      "--------------------------------------------------\n",
      "N. isalpha: True\n",
      "--------------------------------------------------\n",
      "O. isdigit: True\n",
      "--------------------------------------------------\n",
      "P. strip: prandiano\n"
     ]
    }
   ],
   "source": [
    "# usando alguns metodos de string\n",
    "print(\"A. upper:\", \"prandiano\".upper())                         # upper() retorna uma string em maiúsculo\n",
    "print(\"-\" * 50)\n",
    "print(\"B. lower:\", \"PRANDIANO\".lower())                         # lower() retorna uma string em minúsculo\n",
    "print(\"-\" * 50)\n",
    "print(\"C. capitalize:\", \"curso prandiano\".capitalize())         # capitalize() retorna uma string com a primeira letra maiúscula\n",
    "print(\"-\" * 50)\n",
    "print(\"D. title:\", \"curso prandiano\".title())                   # title() retorna uma string com as primeiras letras de cada palavra maiúsculas\n",
    "print(\"-\" * 50)\n",
    "print(\"E. split:\", \"prandiano\".split(\"a\"))                      # split() retorna uma lista de strings separadas por um delimitador\n",
    "print(\"-\" * 50)\n",
    "print(\"F. replace:\", \"prandiano\".replace(\"i\",\"I\"))              # replace() retorna uma string com a substituição de um valor por outro\n",
    "print(\"-\" * 50)\n",
    "print(\"G. find:\", \"prandiano\".find(\"pr\", 0))                        # find() retorna o índice da primeira ocorrência de um valor\n",
    "print(\"-\" * 50)\n",
    "print(\"H. index:\", \"prandiano\".index(\"a\", 3))                      # index() retorna o índice da primeira ocorrência de um valor\n",
    "print(\"-\" * 50)\n",
    "print(\"I. count:\", \"curso de python prandiano\".count(\"o\"))      # count() retorna a quantidade de ocorrências de um valor\n",
    "print(\"-\" * 50)\n",
    "print(\"J. função len:\", len(\"prandiano\"))                      # len() retorna a quantidade de elementos de uma coleção (como a string)\n",
    "print(\"-\" * 50)\n",
    "print(\"K. startswith\", \"prandiano\".startswith(\"p\"))            # startswith() retorna True se a string começa com um valor\n",
    "print(\"-\" * 50)\n",
    "print(\"L. endswith:\", \"prandiano\".endswith(\"n\"))               # endswith() retorna True se a string termina com um valor\n",
    "print(\"-\" * 50)\n",
    "print(\"M. isalnum:\", \"prandiano\".isalnum())                    # isalnum() retorna True se a string é alfanumérica\n",
    "print(\"-\" * 50)\n",
    "print(\"N. isalpha:\", \"prandiano\".isalpha())                    # isalpha() retorna True se a string é alfabética\n",
    "print(\"-\" * 50)\n",
    "print(\"O. isdigit:\", \"10\".isdigit())                           # isdigit() retorna True se a string é numérica\n",
    "print(\"-\" * 50)\n",
    "print(\"P. strip:\", \"   prandiano   \".strip())                  # strip() retorna uma string sem espaços em branco no início e no fim e no meio"
   ]
  },
  {
   "cell_type": "code",
   "execution_count": 20,
   "metadata": {
    "colab": {
     "base_uri": "https://localhost:8080/"
    },
    "executionInfo": {
     "elapsed": 625,
     "status": "ok",
     "timestamp": 1686356895862,
     "user": {
      "displayName": "Igor Jasenovski",
      "userId": "00440362735260752450"
     },
     "user_tz": 180
    },
    "id": "XOd2NGdl-YOM",
    "outputId": "74a15b82-adc6-4baa-d2c2-156cb4afc83e"
   },
   "outputs": [
    {
     "name": "stdout",
     "output_type": "stream",
     "text": [
      "A. VERDADEIRO E VERDADEIRO: True\n",
      "--------------------------------------------------\n",
      "B. VERDADEIRO E FALSO: False\n",
      "--------------------------------------------------\n",
      "C. VERDADEIRO OU FALSO True\n",
      "--------------------------------------------------\n",
      "D. FALSO OU FALSO False\n",
      "--------------------------------------------------\n",
      "E. INVERTENDO VERDADEIRO: False\n"
     ]
    }
   ],
   "source": [
    "# TABELA VERDADE DO AND E OR\n",
    "#   A       B      or        and\n",
    "# False   False   False     False\n",
    "# False   True    True      False\n",
    "# True    False   True      False\n",
    "# True    True    True      True\n",
    "\n",
    "# operadores para bool\n",
    "print(\"A. VERDADEIRO E VERDADEIRO:\", True and True)\n",
    "print(\"-\" * 50)\n",
    "print(\"B. VERDADEIRO E FALSO:\", True and False)\n",
    "print(\"-\" * 50)\n",
    "print(\"C. VERDADEIRO OU FALSO\", True or False)\n",
    "print(\"-\" * 50)\n",
    "print(\"D. FALSO OU FALSO\", False or False)\n",
    "print(\"-\" * 50)\n",
    "print(\"E. INVERTENDO VERDADEIRO:\", not True)"
   ]
  },
  {
   "cell_type": "markdown",
   "metadata": {
    "id": "nEu0TZap-YON"
   },
   "source": [
    "### Os objetos permitem também **comparações** de valores (retornam **True** ou **False**)"
   ]
  },
  {
   "cell_type": "code",
   "execution_count": 21,
   "metadata": {
    "colab": {
     "base_uri": "https://localhost:8080/"
    },
    "executionInfo": {
     "elapsed": 5,
     "status": "ok",
     "timestamp": 1686358142450,
     "user": {
      "displayName": "Igor Jasenovski",
      "userId": "00440362735260752450"
     },
     "user_tz": 180
    },
    "id": "VleZCu2T-YON",
    "outputId": "4b86ff52-d58f-4f13-d465-19dc6c914956"
   },
   "outputs": [
    {
     "name": "stdout",
     "output_type": "stream",
     "text": [
      "A. 5 maior que 2: True\n",
      "B. 5 menor que 2: False\n",
      "C. 5 maior/igual a 5: True\n",
      "D. 5 menor/igual a 2: False\n",
      "E. 5 igual a 2: False\n",
      "F. 5 igual a 5: False\n",
      "G. 5 diferente de 2: True\n",
      "H. 'a' está contido em 'abc': True\n"
     ]
    }
   ],
   "source": [
    "# operadores de comparação (maior, menor, maior ou igual, menor ou igual, igual a, diferente de)\n",
    "print(\"A. 5 maior que 2:\", 5 > 2)\n",
    "print(\"B. 5 menor que 2:\", 5 < 2)\n",
    "print(\"C. 5 maior/igual a 5:\", 5 >= 5)       # NÃO PODE COLOCAR O IGUAL NA FRENTE\n",
    "print(\"D. 5 menor/igual a 2:\", 5 <= 2)       # NÃO PODE COLOCAR O IGUAL NA FRENTE\n",
    "print(\"E. 5 igual a 2:\", \"5\" == \"2\")\n",
    "print(\"F. 5 igual a 5:\", \"5\" == 5)\n",
    "print(\"G. 5 diferente de 2:\", 5 != 2)\n",
    "print(\"H. 'a' está contido em 'abc':\", \"a\" in \"abc\")"
   ]
  },
  {
   "cell_type": "code",
   "execution_count": 22,
   "metadata": {
    "colab": {
     "base_uri": "https://localhost:8080/",
     "height": 236
    },
    "executionInfo": {
     "elapsed": 317,
     "status": "error",
     "timestamp": 1686344835983,
     "user": {
      "displayName": "Igor Jasenovski",
      "userId": "00440362735260752450"
     },
     "user_tz": 180
    },
    "id": "_DqNzVKf-YON",
    "outputId": "5a5a4188-04e0-404e-a3bc-0097a99911e4"
   },
   "outputs": [
    {
     "name": "stdout",
     "output_type": "stream",
     "text": [
      "True\n"
     ]
    },
    {
     "ename": "TypeError",
     "evalue": "'>=' not supported between instances of 'int' and 'str'",
     "output_type": "error",
     "traceback": [
      "\u001b[1;31m---------------------------------------------------------------------------\u001b[0m",
      "\u001b[1;31mTypeError\u001b[0m                                 Traceback (most recent call last)",
      "Cell \u001b[1;32mIn[22], line 3\u001b[0m\n\u001b[0;32m      1\u001b[0m \u001b[38;5;66;03m# NÃO É POSSÍVEL COMPARAR (>, <, <=, >=) UMA STRING COM UM NÚMERO (INT OU FLOAT)\u001b[39;00m\n\u001b[0;32m      2\u001b[0m \u001b[38;5;28mprint\u001b[39m(\u001b[38;5;124m\"\u001b[39m\u001b[38;5;124m5\u001b[39m\u001b[38;5;124m\"\u001b[39m \u001b[38;5;241m>\u001b[39m \u001b[38;5;124m\"\u001b[39m\u001b[38;5;124m2\u001b[39m\u001b[38;5;124m\"\u001b[39m)\n\u001b[1;32m----> 3\u001b[0m \u001b[38;5;28mprint\u001b[39m(\u001b[38;5;241;43m5\u001b[39;49m\u001b[43m \u001b[49m\u001b[38;5;241;43m>\u001b[39;49m\u001b[38;5;241;43m=\u001b[39;49m\u001b[43m \u001b[49m\u001b[38;5;124;43m\"\u001b[39;49m\u001b[38;5;124;43m2\u001b[39;49m\u001b[38;5;124;43m\"\u001b[39;49m)\n\u001b[0;32m      4\u001b[0m \u001b[38;5;28mprint\u001b[39m(\u001b[38;5;124m\"\u001b[39m\u001b[38;5;124m6\u001b[39m\u001b[38;5;124m\"\u001b[39m \u001b[38;5;241m<\u001b[39m \u001b[38;5;124m\"\u001b[39m\u001b[38;5;124m3\u001b[39m\u001b[38;5;124m\"\u001b[39m)\n",
      "\u001b[1;31mTypeError\u001b[0m: '>=' not supported between instances of 'int' and 'str'"
     ]
    }
   ],
   "source": [
    "# NÃO É POSSÍVEL COMPARAR (>, <, <=, >=) UMA STRING COM UM NÚMERO (INT OU FLOAT)\n",
    "print(\"5\" > \"2\")\n",
    "print(5 >= \"2\")\n",
    "print(\"6\" < \"3\")"
   ]
  },
  {
   "cell_type": "markdown",
   "metadata": {},
   "source": [
    "---\n",
    "# **Observacao**\n",
    "## Perceber que a primeira comparacao foi feita. Porem, na segunda ocorreu um erro, e portanto, nao permitiu a execucao da terceira linha\n",
    "---"
   ]
  },
  {
   "cell_type": "markdown",
   "metadata": {
    "id": "ppGX-SJG-YON"
   },
   "source": [
    "### Perceber que '=' é **DIFERENTE** de '=='.\n",
    "### '=' **ATRIBUI** o valor à direita para a variável à esquerda\n",
    "### '==' **COMPARA** se os valores da direita e esquerda são iguais (ou nao)"
   ]
  },
  {
   "cell_type": "markdown",
   "metadata": {
    "id": "K6RV8owI-YON"
   },
   "source": [
    "---\n",
    "# 3) Variáveis do tipo COLEÇÃO\n",
    "---"
   ]
  },
  {
   "cell_type": "code",
   "execution_count": 23,
   "metadata": {
    "colab": {
     "base_uri": "https://localhost:8080/"
    },
    "executionInfo": {
     "elapsed": 5,
     "status": "ok",
     "timestamp": 1686360664849,
     "user": {
      "displayName": "Igor Jasenovski",
      "userId": "00440362735260752450"
     },
     "user_tz": 180
    },
    "id": "UX6Dg4UC-YON",
    "outputId": "1e665fb8-132f-474b-e62e-192ca44de94f"
   },
   "outputs": [],
   "source": [
    "# o valor 'ABC' (str) é do tipo 'coleção'. Ou seja, a string 'ABC' contém as strings: 'A', 'B', e 'C'\n",
    "# todo valor do tipo coleção possui subendereços\n",
    "# o valor 123 (int) é uma variável de valor único. Portanto possui apenas um 'endereço'\n",
    "\n",
    "variavel_str = \"ABCDEF\""
   ]
  },
  {
   "cell_type": "code",
   "execution_count": 24,
   "metadata": {},
   "outputs": [
    {
     "name": "stdout",
     "output_type": "stream",
     "text": [
      "acessando o primeiro (0) elemento da coleção: A\n"
     ]
    }
   ],
   "source": [
    "# Acessando elementos de uma coleção através dos seus subendereços\n",
    "# [0] - PRIMEIRO ELEMENTO (CARACTERE)\n",
    "print(\"acessando o primeiro (0) elemento da coleção:\", variavel_str[0])"
   ]
  },
  {
   "cell_type": "code",
   "execution_count": 25,
   "metadata": {},
   "outputs": [
    {
     "name": "stdout",
     "output_type": "stream",
     "text": [
      "acessando o segundo (1) elemento da coleção: B\n"
     ]
    }
   ],
   "source": [
    "# [1] - SEGUNDO ELEMENTO (CARACTERE)\n",
    "print(\"acessando o segundo (1) elemento da coleção:\", variavel_str[1])"
   ]
  },
  {
   "cell_type": "code",
   "execution_count": 26,
   "metadata": {},
   "outputs": [
    {
     "name": "stdout",
     "output_type": "stream",
     "text": [
      "acessando o terceiro (2) elemento da coleção: C\n"
     ]
    }
   ],
   "source": [
    "# [2] - TERCEIRO ELEMENTO (CARACTERE)\n",
    "print(\"acessando o terceiro (2) elemento da coleção:\", variavel_str[2])"
   ]
  },
  {
   "cell_type": "code",
   "execution_count": 27,
   "metadata": {},
   "outputs": [
    {
     "name": "stdout",
     "output_type": "stream",
     "text": [
      "acessando os tres primeiros elementos da coleção: ABC\n"
     ]
    }
   ],
   "source": [
    "# [0:3] - DO PRIMEIRO ELEMENTO (CARACTERE) ATÉ O TERCEIRO ELEMENTO (CARACTERE)\n",
    "print(\"acessando os tres primeiros elementos da coleção:\", variavel_str[0:3])"
   ]
  },
  {
   "cell_type": "code",
   "execution_count": 28,
   "metadata": {},
   "outputs": [
    {
     "name": "stdout",
     "output_type": "stream",
     "text": [
      "acessando todos os elementos até o antipenultimo: ABC\n"
     ]
    }
   ],
   "source": [
    "# [:3] - DO COMEÇO ATÉ O TERCEIRO ELEMENTO (CARACTERE)\n",
    "print(\"acessando todos os elementos até o antipenultimo:\", variavel_str[:3])"
   ]
  },
  {
   "cell_type": "code",
   "execution_count": 29,
   "metadata": {},
   "outputs": [
    {
     "name": "stdout",
     "output_type": "stream",
     "text": [
      "acessando a partir do terceiro elemento (2) até o quarto (3): CD\n"
     ]
    }
   ],
   "source": [
    "# [2:4] - DO SEGUNDO ELEMENTO (CARACTERE) ATÉ O QUARTO ELEMENTO (CARACTERE)\n",
    "print(\"acessando a partir do terceiro elemento (2) até o quarto (3):\", variavel_str[2:4])"
   ]
  },
  {
   "cell_type": "code",
   "execution_count": 30,
   "metadata": {},
   "outputs": [
    {
     "name": "stdout",
     "output_type": "stream",
     "text": [
      "acessando o último elemento da coleção: F\n"
     ]
    }
   ],
   "source": [
    "# [-1] - ÚLTIMO ELEMENTO (CARACTERE)\n",
    "print(\"acessando o último elemento da coleção:\", variavel_str[-1])"
   ]
  },
  {
   "cell_type": "code",
   "execution_count": 31,
   "metadata": {},
   "outputs": [
    {
     "name": "stdout",
     "output_type": "stream",
     "text": [
      "acessando o último elemento da coleção: F\n"
     ]
    }
   ],
   "source": [
    "print(\"acessando o último elemento da coleção:\", variavel_str[len(variavel_str) - 1]) # len() retorna o tamanho da coleção"
   ]
  },
  {
   "cell_type": "code",
   "execution_count": 32,
   "metadata": {},
   "outputs": [
    {
     "name": "stdout",
     "output_type": "stream",
     "text": [
      "acessando os últimos três valores da coleção até o final: DEF\n"
     ]
    }
   ],
   "source": [
    "# [-3:] - DO ANTIPENÚLTIMO ELEMENTO (CARACTERE) ATÉ O FINAL\n",
    "print(\"acessando os últimos três valores da coleção até o final:\", variavel_str[-3:])"
   ]
  },
  {
   "cell_type": "code",
   "execution_count": 33,
   "metadata": {
    "colab": {
     "base_uri": "https://localhost:8080/"
    },
    "executionInfo": {
     "elapsed": 240,
     "status": "ok",
     "timestamp": 1686348865130,
     "user": {
      "displayName": "Igor Jasenovski",
      "userId": "00440362735260752450"
     },
     "user_tz": 180
    },
    "id": "9g8YAfaAOYOz",
    "outputId": "440c1e87-f0a8-4480-9325-fea64ecbccc2"
   },
   "outputs": [
    {
     "name": "stdout",
     "output_type": "stream",
     "text": [
      "ABCDEF\n"
     ]
    }
   ],
   "source": [
    "# imprimindo o valor inteiro da variável. É o mesmo que print(variavel_str)\n",
    "print(variavel_str[:])"
   ]
  },
  {
   "cell_type": "code",
   "execution_count": 34,
   "metadata": {
    "id": "aaZGYG9--YON",
    "outputId": "f716c4dd-c85a-4764-a99b-9a20a0a3678b"
   },
   "outputs": [
    {
     "name": "stdout",
     "output_type": "stream",
     "text": [
      "tamanho da coleção 'ABCDEF': 6\n"
     ]
    }
   ],
   "source": [
    "print(\"tamanho da coleção 'ABCDEF':\", len(variavel_str))"
   ]
  },
  {
   "cell_type": "code",
   "execution_count": 35,
   "metadata": {
    "id": "4gFWtYVJ-YOO",
    "outputId": "d0708eb9-c5a4-400b-b13a-6bddbaf2fcbc"
   },
   "outputs": [
    {
     "name": "stdout",
     "output_type": "stream",
     "text": [
      "verificando se o elemento 'A' pertence à coleção 'ABCDEF': True\n"
     ]
    }
   ],
   "source": [
    "# dentro de uma string \"\" é possível colocar aspas simples '' e vice-versa\n",
    "print(\"verificando se o elemento 'A' pertence à coleção 'ABCDEF':\", \"A\" in variavel_str)"
   ]
  },
  {
   "cell_type": "code",
   "execution_count": 36,
   "metadata": {
    "id": "XJ6-Jnkw-YOO",
    "outputId": "eca8ce93-0391-457a-9356-4c7b5be5a0c2"
   },
   "outputs": [
    {
     "name": "stdout",
     "output_type": "stream",
     "text": [
      "verificando se o elemento 'a' pertence à coleção 'ABCDEF': False\n"
     ]
    }
   ],
   "source": [
    "# dentro de uma string \"\" é possível colocar aspas simples '' e vice-versa\n",
    "print(\"verificando se o elemento 'a' pertence à coleção 'ABCDEF':\", \"a\" in variavel_str)"
   ]
  },
  {
   "cell_type": "code",
   "execution_count": 37,
   "metadata": {
    "colab": {
     "base_uri": "https://localhost:8080/"
    },
    "executionInfo": {
     "elapsed": 340,
     "status": "ok",
     "timestamp": 1686348894461,
     "user": {
      "displayName": "Igor Jasenovski",
      "userId": "00440362735260752450"
     },
     "user_tz": 180
    },
    "id": "zXJYUlTN-YOO",
    "outputId": "51a1965f-08c2-4259-fbe0-430247fe202c"
   },
   "outputs": [
    {
     "name": "stdout",
     "output_type": "stream",
     "text": [
      "invertendo o resultado da operação anterior: True\n"
     ]
    }
   ],
   "source": [
    "print(\"invertendo o resultado da operação anterior:\", \"a\" not in variavel_str)"
   ]
  },
  {
   "cell_type": "code",
   "execution_count": 38,
   "metadata": {
    "colab": {
     "base_uri": "https://localhost:8080/"
    },
    "executionInfo": {
     "elapsed": 324,
     "status": "ok",
     "timestamp": 1686348917973,
     "user": {
      "displayName": "Igor Jasenovski",
      "userId": "00440362735260752450"
     },
     "user_tz": 180
    },
    "id": "pEyuzira-YOO",
    "outputId": "3e6ae9b0-6136-42e2-9c4c-367ea37d777e"
   },
   "outputs": [
    {
     "name": "stdout",
     "output_type": "stream",
     "text": [
      "o valor 'AB' está contido na coleção 'ABCDEF': True\n",
      "o valor 'AC' está contido na coleção 'ABCDEF': False\n"
     ]
    }
   ],
   "source": [
    "print(\"o valor 'AB' está contido na coleção 'ABCDEF':\", \"AB\" in variavel_str)\n",
    "print(\"o valor 'AC' está contido na coleção 'ABCDEF':\", \"AC\" in variavel_str)"
   ]
  },
  {
   "cell_type": "markdown",
   "metadata": {},
   "source": [
    "---"
   ]
  },
  {
   "cell_type": "markdown",
   "metadata": {},
   "source": [
    "---"
   ]
  },
  {
   "cell_type": "markdown",
   "metadata": {},
   "source": [
    "## 4. Principais tipos de variáveis **nativas** de colecao:"
   ]
  },
  {
   "cell_type": "markdown",
   "metadata": {},
   "source": [
    "```python\n",
    "str     # string\n",
    "list    # lista\n",
    "tuple   # tupla\n",
    "dict    # dicionário\n",
    "set     # conjunto\n",
    "```"
   ]
  },
  {
   "cell_type": "markdown",
   "metadata": {
    "id": "W0gTYliS-YOO"
   },
   "source": [
    "---"
   ]
  },
  {
   "cell_type": "markdown",
   "metadata": {},
   "source": [
    "# Lista (list)\n",
    "O tipo List é provavelmente o tipo de coleção mais usado em Python. Em Python, uma List é apenas uma coleção ordenada de valores.\n",
    "List deve ser criada com valores separados por vírgula entre COLCHETES. Por exemplo: [1, 3, 4, 2] é uma List contendo\n",
    "4 valores inteiros. List são mutáveis, o que significa que você pode alterar seus elementos. Você pode acessar, inserir,\n",
    "ou remover elementos facilmente."
   ]
  },
  {
   "cell_type": "code",
   "execution_count": 39,
   "metadata": {
    "executionInfo": {
     "elapsed": 617,
     "status": "ok",
     "timestamp": 1686348964010,
     "user": {
      "displayName": "Igor Jasenovski",
      "userId": "00440362735260752450"
     },
     "user_tz": 180
    },
    "id": "eytbxZ6w-YOO"
   },
   "outputs": [],
   "source": [
    "# subendereços de uma coleção (índices)\n",
    "# indices  0    1    2    3    4    5    6    7    8\n",
    "lista1 = [\"a\", \"b\", \"c\", \"d\", \"e\", \"f\", \"g\", \"h\", \"i\"]\n",
    "# indices -9   -8   -7   -6   -5   -4   -3   -2   -1\n",
    "\n",
    "lista2 = [1, \"a\", 2, \"b\", 3, \"c\", 4, \"d\", 5, \"e\", 6]\n",
    "lista3 = [1, 2, [\"a\", \"b\", \"prandiano\"]]"
   ]
  },
  {
   "cell_type": "code",
   "execution_count": 40,
   "metadata": {
    "colab": {
     "base_uri": "https://localhost:8080/"
    },
    "executionInfo": {
     "elapsed": 261,
     "status": "ok",
     "timestamp": 1686348964613,
     "user": {
      "displayName": "Igor Jasenovski",
      "userId": "00440362735260752450"
     },
     "user_tz": 180
    },
    "id": "D6oTp49N-YOO",
    "outputId": "373f4611-d387-4ded-c50c-2b021a76808e"
   },
   "outputs": [
    {
     "name": "stdout",
     "output_type": "stream",
     "text": [
      "i\n"
     ]
    }
   ],
   "source": [
    "print(lista1[-1])"
   ]
  },
  {
   "cell_type": "code",
   "execution_count": 41,
   "metadata": {
    "colab": {
     "base_uri": "https://localhost:8080/"
    },
    "executionInfo": {
     "elapsed": 417,
     "status": "ok",
     "timestamp": 1686348969445,
     "user": {
      "displayName": "Igor Jasenovski",
      "userId": "00440362735260752450"
     },
     "user_tz": 180
    },
    "id": "T8CrgYlD-YOP",
    "outputId": "b5661607-2e03-45bc-bc90-02cb29414f2c"
   },
   "outputs": [
    {
     "name": "stdout",
     "output_type": "stream",
     "text": [
      "6\n"
     ]
    }
   ],
   "source": [
    "print(lista2[-1])"
   ]
  },
  {
   "cell_type": "code",
   "execution_count": 42,
   "metadata": {
    "colab": {
     "base_uri": "https://localhost:8080/"
    },
    "executionInfo": {
     "elapsed": 333,
     "status": "ok",
     "timestamp": 1686348974532,
     "user": {
      "displayName": "Igor Jasenovski",
      "userId": "00440362735260752450"
     },
     "user_tz": 180
    },
    "id": "D-KLSjlE-YOP",
    "outputId": "999f1253-ee4a-4387-a939-ab365944f435"
   },
   "outputs": [
    {
     "name": "stdout",
     "output_type": "stream",
     "text": [
      "['a', 'b', 'prandiano']\n",
      "prandiano\n",
      "n\n"
     ]
    }
   ],
   "source": [
    "print(lista3[-1])\n",
    "print(lista3[-1][-1])\n",
    "print(lista3[-1][-1][-2])"
   ]
  },
  {
   "cell_type": "code",
   "execution_count": 43,
   "metadata": {
    "colab": {
     "base_uri": "https://localhost:8080/"
    },
    "executionInfo": {
     "elapsed": 5,
     "status": "ok",
     "timestamp": 1686349045744,
     "user": {
      "displayName": "Igor Jasenovski",
      "userId": "00440362735260752450"
     },
     "user_tz": 180
    },
    "id": "gvt6DNxj-YOP",
    "outputId": "13df6e7e-fc4d-4389-f99d-f1b2d3fe8f9c"
   },
   "outputs": [
    {
     "name": "stdout",
     "output_type": "stream",
     "text": [
      "['a', 'b', 'c', 'd', 'e']\n",
      "['a', 'b', 'c']\n",
      "['d', 'e', 'f', 'g']\n"
     ]
    }
   ],
   "source": [
    "print(lista1[0:5]) # Retorna os elementos entre o primeiro e o quinto elemento\n",
    "print(lista1[0:3]) # Retorna os elementos entre o primeiro e o terceiro elemento\n",
    "print(lista1[3:7]) # Retorna os elementos entre o quarto e o sétimo elemento"
   ]
  },
  {
   "cell_type": "code",
   "execution_count": 44,
   "metadata": {
    "colab": {
     "base_uri": "https://localhost:8080/"
    },
    "executionInfo": {
     "elapsed": 396,
     "status": "ok",
     "timestamp": 1686349053218,
     "user": {
      "displayName": "Igor Jasenovski",
      "userId": "00440362735260752450"
     },
     "user_tz": 180
    },
    "id": "3_yUrmNZ-YOQ",
    "outputId": "52c0931a-8bab-41a1-996b-daa7edf95c3d"
   },
   "outputs": [
    {
     "name": "stdout",
     "output_type": "stream",
     "text": [
      "['f', 'g', 'h', 'i']\n"
     ]
    }
   ],
   "source": [
    "print(lista1[5:])"
   ]
  },
  {
   "cell_type": "code",
   "execution_count": 45,
   "metadata": {},
   "outputs": [
    {
     "name": "stdout",
     "output_type": "stream",
     "text": [
      "['a', 'b', 'c', 'd', 'e']\n"
     ]
    }
   ],
   "source": [
    "print(lista1[:5])"
   ]
  },
  {
   "cell_type": "code",
   "execution_count": 46,
   "metadata": {
    "colab": {
     "base_uri": "https://localhost:8080/"
    },
    "executionInfo": {
     "elapsed": 394,
     "status": "ok",
     "timestamp": 1686349059649,
     "user": {
      "displayName": "Igor Jasenovski",
      "userId": "00440362735260752450"
     },
     "user_tz": 180
    },
    "id": "0eJTqvDn-YOQ",
    "outputId": "18ddb4e2-6b98-4f7e-91b5-b50c73b156cf"
   },
   "outputs": [
    {
     "name": "stdout",
     "output_type": "stream",
     "text": [
      "['b', 'd']\n"
     ]
    }
   ],
   "source": [
    "# imprimindo a lista da frente para trás\n",
    "print(lista1[1:5:2])"
   ]
  },
  {
   "cell_type": "code",
   "execution_count": 47,
   "metadata": {},
   "outputs": [
    {
     "name": "stdout",
     "output_type": "stream",
     "text": [
      "['f', 'd']\n"
     ]
    }
   ],
   "source": [
    "# imprimindo a lista de trás para frente\n",
    "print(lista1[5:1:-2])"
   ]
  },
  {
   "cell_type": "code",
   "execution_count": 48,
   "metadata": {},
   "outputs": [
    {
     "name": "stdout",
     "output_type": "stream",
     "text": [
      "onaidnarp\n"
     ]
    }
   ],
   "source": [
    "# imprimindo a colecao (string) de trás para frente\n",
    "escola = \"prandiano\"\n",
    "print(escola[::-1])"
   ]
  },
  {
   "cell_type": "code",
   "execution_count": 49,
   "metadata": {
    "colab": {
     "base_uri": "https://localhost:8080/"
    },
    "executionInfo": {
     "elapsed": 5,
     "status": "ok",
     "timestamp": 1686349082907,
     "user": {
      "displayName": "Igor Jasenovski",
      "userId": "00440362735260752450"
     },
     "user_tz": 180
    },
    "id": "yVR5YT8d-YOQ",
    "outputId": "5ccc125b-9f7b-46c1-c25e-122c52f107a2"
   },
   "outputs": [
    {
     "name": "stdout",
     "output_type": "stream",
     "text": [
      "['i', 'g', 'e', 'c', 'a']\n"
     ]
    }
   ],
   "source": [
    "# imprimindo a lista de trás para frente, pulando de dois em dois\n",
    "print(lista1[ : :-2])"
   ]
  },
  {
   "cell_type": "code",
   "execution_count": 50,
   "metadata": {},
   "outputs": [
    {
     "name": "stdout",
     "output_type": "stream",
     "text": [
      "['g', 'f', 'e']\n"
     ]
    }
   ],
   "source": [
    "# forma explicita de escrever o comando de acessar os elementos de uma coleção na ordem inversa um a um\n",
    "print(lista1[6:3:-1])"
   ]
  },
  {
   "cell_type": "code",
   "execution_count": 51,
   "metadata": {},
   "outputs": [
    {
     "name": "stdout",
     "output_type": "stream",
     "text": [
      "['i', 'g', 'e']\n"
     ]
    }
   ],
   "source": [
    "# forma explicita de escrever o comando de acessar os elementos de uma coleção na ordem inversa dois a dois\n",
    "print(lista1[8:3:-2])"
   ]
  },
  {
   "cell_type": "code",
   "execution_count": 52,
   "metadata": {
    "colab": {
     "base_uri": "https://localhost:8080/"
    },
    "executionInfo": {
     "elapsed": 340,
     "status": "ok",
     "timestamp": 1686349102484,
     "user": {
      "displayName": "Igor Jasenovski",
      "userId": "00440362735260752450"
     },
     "user_tz": 180
    },
    "id": "CPdlF9wN-YOQ",
    "outputId": "8d5f077c-257e-4d3b-f5d0-8b1343b949f6"
   },
   "outputs": [
    {
     "name": "stdout",
     "output_type": "stream",
     "text": [
      "['a', 'b', 'c', 'd', 'e', 'f', 'g', 'h', 'i']\n"
     ]
    }
   ],
   "source": [
    "# lembrando o(s) valor(es) da coleção...\n",
    "print(lista1)"
   ]
  },
  {
   "cell_type": "code",
   "execution_count": 53,
   "metadata": {},
   "outputs": [
    {
     "name": "stdout",
     "output_type": "stream",
     "text": [
      "['a', 'b', 'c', 'd', 'e', 'f', 'g', 'h', 'i', 'a', 'b', 'c', 'd', 'e', 'f', 'g', 'h', 'i']\n"
     ]
    }
   ],
   "source": [
    "# listas são multiplicáveis (*) com int\n",
    "# resulta numa lista duplicada\n",
    "print(lista1 * 2)"
   ]
  },
  {
   "cell_type": "code",
   "execution_count": 54,
   "metadata": {},
   "outputs": [
    {
     "name": "stdout",
     "output_type": "stream",
     "text": [
      "['a', 'b', 'c', 'd', 'e', 'f', 'g', 'h', 'i', 1, 'a', 2, 'b', 3, 'c', 4, 'd', 5, 'e', 6]\n"
     ]
    }
   ],
   "source": [
    "# listãos são somáveis (+) com listas\n",
    "# resulta nas duas listas extendidas numa só\n",
    "print(lista1 + lista2)"
   ]
  },
  {
   "cell_type": "code",
   "execution_count": 55,
   "metadata": {},
   "outputs": [
    {
     "ename": "TypeError",
     "evalue": "can only concatenate list (not \"int\") to list",
     "output_type": "error",
     "traceback": [
      "\u001b[1;31m---------------------------------------------------------------------------\u001b[0m",
      "\u001b[1;31mTypeError\u001b[0m                                 Traceback (most recent call last)",
      "Cell \u001b[1;32mIn[55], line 2\u001b[0m\n\u001b[0;32m      1\u001b[0m \u001b[38;5;66;03m# listas NÃO são somáveis com int\u001b[39;00m\n\u001b[1;32m----> 2\u001b[0m \u001b[38;5;28mprint\u001b[39m(\u001b[43mlista1\u001b[49m\u001b[43m \u001b[49m\u001b[38;5;241;43m+\u001b[39;49m\u001b[43m \u001b[49m\u001b[38;5;241;43m1\u001b[39;49m)\n",
      "\u001b[1;31mTypeError\u001b[0m: can only concatenate list (not \"int\") to list"
     ]
    }
   ],
   "source": [
    "# listas NÃO são somáveis com int\n",
    "print(lista1 + 1)"
   ]
  },
  {
   "cell_type": "code",
   "execution_count": 56,
   "metadata": {
    "colab": {
     "base_uri": "https://localhost:8080/"
    },
    "executionInfo": {
     "elapsed": 366,
     "status": "ok",
     "timestamp": 1686349109204,
     "user": {
      "displayName": "Igor Jasenovski",
      "userId": "00440362735260752450"
     },
     "user_tz": 180
    },
    "id": "IcXCOSpC-YOQ",
    "outputId": "92037cec-b4f5-4b9b-eaf6-022fc7f2dc73"
   },
   "outputs": [
    {
     "name": "stdout",
     "output_type": "stream",
     "text": [
      "['a', 'b', 'c', 'd', 'e', 'f', 'g', 'h', 'i', 'j']\n"
     ]
    }
   ],
   "source": [
    "# 'append' adiciona um elemento no final da lista\n",
    "lista1.append(\"j\")\n",
    "print(lista1)"
   ]
  },
  {
   "cell_type": "code",
   "execution_count": 57,
   "metadata": {
    "id": "EgpZY8kZ-YOQ",
    "outputId": "e3736592-4b1b-43ee-ca3e-eb768a0ff1b2"
   },
   "outputs": [
    {
     "name": "stdout",
     "output_type": "stream",
     "text": [
      "['z', 'a', 'b', 'c', 'd', 'e', 'f', 'g', 'h', 'i', 'j']\n"
     ]
    }
   ],
   "source": [
    "# Adiciona um elemento no índice 0 da lista e desloca o que for\n",
    "# necessário\n",
    "lista1.insert(0, \"z\")\n",
    "print(lista1)"
   ]
  },
  {
   "cell_type": "code",
   "execution_count": 58,
   "metadata": {},
   "outputs": [
    {
     "name": "stdout",
     "output_type": "stream",
     "text": [
      "['z', 'a', 'b', 'c', 'd', 'k', 'e', 'f', 'g', 'h', 'i', 'j']\n"
     ]
    }
   ],
   "source": [
    "lista1.insert(5, \"k\")\n",
    "print(lista1)"
   ]
  },
  {
   "cell_type": "code",
   "execution_count": 59,
   "metadata": {
    "id": "0Q0BVfpJ-YOR",
    "outputId": "2ce173cc-a2a8-4186-ec76-0572235e9362"
   },
   "outputs": [
    {
     "name": "stdout",
     "output_type": "stream",
     "text": [
      "['z', 'a', 'b', 'c', 'd', 'k', 'e', 'f', 'y', 'g', 'h', 'i', 'j']\n"
     ]
    }
   ],
   "source": [
    "# Adiciona um elemento no índice 8 da lista\n",
    "lista1.insert(8, \"y\")\n",
    "print(lista1)"
   ]
  },
  {
   "cell_type": "code",
   "execution_count": 60,
   "metadata": {
    "id": "yVspx2wf-YOR",
    "outputId": "00d419b9-d9f6-4d06-ae67-99ee1a214709"
   },
   "outputs": [
    {
     "name": "stdout",
     "output_type": "stream",
     "text": [
      "['a', 'b', 'c', 'd', 'k', 'e', 'f', 'y', 'g', 'h', 'i', 'j']\n"
     ]
    }
   ],
   "source": [
    "# Remove a primeira ocorrencia do elemento 'z' na lista\n",
    "lista1.remove(\"z\")\n",
    "print(lista1)"
   ]
  },
  {
   "cell_type": "code",
   "execution_count": 61,
   "metadata": {
    "colab": {
     "base_uri": "https://localhost:8080/"
    },
    "executionInfo": {
     "elapsed": 455,
     "status": "ok",
     "timestamp": 1686349143889,
     "user": {
      "displayName": "Igor Jasenovski",
      "userId": "00440362735260752450"
     },
     "user_tz": 180
    },
    "id": "5b5Iwe9J-YOR",
    "outputId": "6f41c6dc-ce8f-49b8-f5a6-0b554b7493e1"
   },
   "outputs": [
    {
     "name": "stdout",
     "output_type": "stream",
     "text": [
      "3\n"
     ]
    }
   ],
   "source": [
    "# o metodo index retorna a posição (índice) do elemento especificado\n",
    "print(lista1.index(\"d\"))"
   ]
  },
  {
   "cell_type": "code",
   "execution_count": 62,
   "metadata": {},
   "outputs": [
    {
     "ename": "ValueError",
     "evalue": "'u' is not in list",
     "output_type": "error",
     "traceback": [
      "\u001b[1;31m---------------------------------------------------------------------------\u001b[0m",
      "\u001b[1;31mValueError\u001b[0m                                Traceback (most recent call last)",
      "Cell \u001b[1;32mIn[62], line 3\u001b[0m\n\u001b[0;32m      1\u001b[0m \u001b[38;5;66;03m# o método index retorna erro quando o elemento especificado\u001b[39;00m\n\u001b[0;32m      2\u001b[0m \u001b[38;5;66;03m# não é encontrado na lista\u001b[39;00m\n\u001b[1;32m----> 3\u001b[0m \u001b[38;5;28mprint\u001b[39m(\u001b[43mlista1\u001b[49m\u001b[38;5;241;43m.\u001b[39;49m\u001b[43mindex\u001b[49m\u001b[43m(\u001b[49m\u001b[38;5;124;43m\"\u001b[39;49m\u001b[38;5;124;43mu\u001b[39;49m\u001b[38;5;124;43m\"\u001b[39;49m\u001b[43m)\u001b[49m)\n",
      "\u001b[1;31mValueError\u001b[0m: 'u' is not in list"
     ]
    }
   ],
   "source": [
    "# o método index retorna erro quando o elemento especificado\n",
    "# não é encontrado na lista\n",
    "print(lista1.index(\"u\"))"
   ]
  },
  {
   "cell_type": "code",
   "execution_count": 63,
   "metadata": {
    "colab": {
     "base_uri": "https://localhost:8080/"
    },
    "executionInfo": {
     "elapsed": 5,
     "status": "ok",
     "timestamp": 1686349164417,
     "user": {
      "displayName": "Igor Jasenovski",
      "userId": "00440362735260752450"
     },
     "user_tz": 180
    },
    "id": "Hv_PDEUnPiDg",
    "outputId": "0c7afb08-4704-48f2-e4e5-09b39e69225b"
   },
   "outputs": [
    {
     "name": "stdout",
     "output_type": "stream",
     "text": [
      "['a', 'b', 'c', 'd', 'k', 'e', 'f', 'y', 'g', 'h', 'i', 'j']\n"
     ]
    }
   ],
   "source": [
    "# imprimindo a lista para ver o estado atual dela...\n",
    "print(lista1)"
   ]
  },
  {
   "cell_type": "code",
   "execution_count": 64,
   "metadata": {
    "colab": {
     "base_uri": "https://localhost:8080/"
    },
    "executionInfo": {
     "elapsed": 512,
     "status": "ok",
     "timestamp": 1686349173516,
     "user": {
      "displayName": "Igor Jasenovski",
      "userId": "00440362735260752450"
     },
     "user_tz": 180
    },
    "id": "Wn8E53s9-YOR",
    "outputId": "636fe419-07aa-4e79-e3a3-249f338e082a"
   },
   "outputs": [
    {
     "name": "stdout",
     "output_type": "stream",
     "text": [
      "['a', 'b', 'c', 'd', 'k', 'e', 'f', 'y', 'g', 'h', 'i', 'j', 'a']\n",
      "contagem da letra 'a': 2\n",
      "contagem da letra 'b': 1\n"
     ]
    }
   ],
   "source": [
    "lista1.append(\"a\")  # Adiciona um elemento no final da lista\n",
    "print(lista1)\n",
    "print(\"contagem da letra 'a':\", lista1.count(\"a\"))      # conta a quantidade de ocorrências de um valor\n",
    "print(\"contagem da letra 'b':\", lista1.count(\"b\"))       # conta a quantidade de ocorrências de um valor"
   ]
  },
  {
   "cell_type": "code",
   "execution_count": 65,
   "metadata": {
    "id": "XZ-t6kxs-YOR",
    "outputId": "9361836b-206f-444d-b8d0-88fc43c6a981"
   },
   "outputs": [
    {
     "name": "stdout",
     "output_type": "stream",
     "text": [
      "['a', 'j', 'i', 'h', 'g', 'y', 'f', 'e', 'k', 'd', 'c', 'b', 'a']\n"
     ]
    }
   ],
   "source": [
    "# Inverte a ordem dos elementos da lista (não alfabeticamente)\n",
    "lista1.reverse()\n",
    "print(lista1)"
   ]
  },
  {
   "cell_type": "code",
   "execution_count": 66,
   "metadata": {
    "colab": {
     "base_uri": "https://localhost:8080/"
    },
    "executionInfo": {
     "elapsed": 361,
     "status": "ok",
     "timestamp": 1686349198482,
     "user": {
      "displayName": "Igor Jasenovski",
      "userId": "00440362735260752450"
     },
     "user_tz": 180
    },
    "id": "PW0kfe6p-YOR",
    "outputId": "6f54f85d-5e1d-4362-dff8-319cdb5c5a06"
   },
   "outputs": [
    {
     "name": "stdout",
     "output_type": "stream",
     "text": [
      "['j', 'i', 'h', 'g', 'y', 'f', 'e', 'k', 'd', 'c', 'b', 'a']\n"
     ]
    }
   ],
   "source": [
    "# Remove o elemento do índice 0 da lista\n",
    "lista1.pop(0)\n",
    "print(lista1)"
   ]
  },
  {
   "cell_type": "code",
   "execution_count": 67,
   "metadata": {},
   "outputs": [
    {
     "name": "stdout",
     "output_type": "stream",
     "text": [
      "['j', 'i', 'h', 'g', 'y', 'f', 'e', 'k', 'd', 'c', 'b']\n"
     ]
    }
   ],
   "source": [
    "# Remove o último elemento da lista\n",
    "lista1.pop(-1)\n",
    "print(lista1)"
   ]
  },
  {
   "cell_type": "code",
   "execution_count": 68,
   "metadata": {
    "id": "MgXCwoN_-YOS",
    "outputId": "f10572dc-1b4f-455b-d1bb-3f1503fe1e9f"
   },
   "outputs": [
    {
     "name": "stdout",
     "output_type": "stream",
     "text": [
      "['j', 'i', 'h', 'g', 'y', 'f', 'e', 'k', 'd', 'c', 'b']\n",
      "['x', 'i', 'h', 'g', 'y', 'f', 'e', 'k', 'd', 'c', 'b']\n"
     ]
    }
   ],
   "source": [
    "# alterando o valor de um elemento da lista\n",
    "print(lista1)\n",
    "lista1[0] = \"x\"\n",
    "print(lista1)"
   ]
  },
  {
   "cell_type": "code",
   "execution_count": 69,
   "metadata": {},
   "outputs": [
    {
     "name": "stdout",
     "output_type": "stream",
     "text": [
      "prandiano\n"
     ]
    },
    {
     "ename": "TypeError",
     "evalue": "'str' object does not support item assignment",
     "output_type": "error",
     "traceback": [
      "\u001b[1;31m---------------------------------------------------------------------------\u001b[0m",
      "\u001b[1;31mTypeError\u001b[0m                                 Traceback (most recent call last)",
      "Cell \u001b[1;32mIn[69], line 4\u001b[0m\n\u001b[0;32m      1\u001b[0m \u001b[38;5;28mprint\u001b[39m(escola)\n\u001b[0;32m      2\u001b[0m \u001b[38;5;66;03m# alterando o valor de um elemento da string (o que não é possível). \u001b[39;00m\n\u001b[0;32m      3\u001b[0m \u001b[38;5;66;03m# Strings são imutáveis como as tuplas\u001b[39;00m\n\u001b[1;32m----> 4\u001b[0m \u001b[43mescola\u001b[49m\u001b[43m[\u001b[49m\u001b[38;5;241;43m0\u001b[39;49m\u001b[43m]\u001b[49m \u001b[38;5;241m=\u001b[39m \u001b[38;5;124m\"\u001b[39m\u001b[38;5;124mP\u001b[39m\u001b[38;5;124m\"\u001b[39m\n\u001b[0;32m      5\u001b[0m \u001b[38;5;28mprint\u001b[39m(escola)\n",
      "\u001b[1;31mTypeError\u001b[0m: 'str' object does not support item assignment"
     ]
    }
   ],
   "source": [
    "print(escola)\n",
    "# alterando o valor de um elemento da string (o que não é possível). \n",
    "# Strings são imutáveis como as tuplas\n",
    "escola[0] = \"P\"\n",
    "print(escola)"
   ]
  },
  {
   "cell_type": "code",
   "execution_count": 70,
   "metadata": {},
   "outputs": [
    {
     "data": {
      "text/plain": [
       "['y', 'x', 'k', 'i', 'h', 'g', 'f', 'e', 'd', 'c', 'b']"
      ]
     },
     "execution_count": 70,
     "metadata": {},
     "output_type": "execute_result"
    }
   ],
   "source": [
    "# classificando os elementos da lista em ordem crescente/decrescente\n",
    "lista1.sort(reverse=True)\n",
    "lista1"
   ]
  },
  {
   "cell_type": "markdown",
   "metadata": {},
   "source": [
    "---\n",
    "# Tupla (tuple)\n",
    "\n",
    "Uma tupla é semelhante a uma lista, exceto que ela é de comprimento fixo e imutável. Portanto, os valores da tupla não\n",
    "podem ser alterados nem os valores adicionados ou removidos da tupla. As tuplas são comumente usadas para pequenas\n",
    "coleções de valores que não precisarão mudar, como um endereço IP e uma porta. As tuplas são representadas com\n",
    "parênteses em vez de colchetes"
   ]
  },
  {
   "cell_type": "code",
   "execution_count": 71,
   "metadata": {
    "id": "GeQ18mAw-YOS"
   },
   "outputs": [],
   "source": [
    "# slicing de lista e tupla tem 100% a mesma sintaxe\n",
    "# indices   0  1  2  3  4  5  6  7  8\n",
    "tupla_um = (1, 2, 3, 4, 5, 6, 7, 8, 9,)\n",
    "# indices  -9 -8 -7 -6 -5 -4 -3 -2 -1\n",
    "\n",
    "tupla_dois = (\"a\", \"b\", \"c\", \"d\", \"e\", \"f\", \"g\")\n",
    "tupla_tres = (1, 2, [\"a\", \"b\"], (\"x\", \"y\"))"
   ]
  },
  {
   "cell_type": "code",
   "execution_count": 72,
   "metadata": {
    "id": "5iDKQSzR-YOS",
    "outputId": "21b89579-5fac-431a-d8e1-13aabe4720be"
   },
   "outputs": [
    {
     "name": "stdout",
     "output_type": "stream",
     "text": [
      "1\n"
     ]
    }
   ],
   "source": [
    "# slicing (fatiamento)\n",
    "print(tupla_um[0])"
   ]
  },
  {
   "cell_type": "code",
   "execution_count": 73,
   "metadata": {
    "id": "y2HWf34g-YOS",
    "outputId": "b0a65e99-8001-4b6b-a7bb-edadbbe99cb8"
   },
   "outputs": [
    {
     "name": "stdout",
     "output_type": "stream",
     "text": [
      "a\n"
     ]
    }
   ],
   "source": [
    "print(tupla_dois[0])"
   ]
  },
  {
   "cell_type": "code",
   "execution_count": 74,
   "metadata": {
    "id": "-KsZ99_f-YOS",
    "outputId": "6281652a-d53a-4e49-c6ad-ff0170d59184"
   },
   "outputs": [
    {
     "name": "stdout",
     "output_type": "stream",
     "text": [
      "(2, ['a', 'b'], ('x', 'y'))\n"
     ]
    }
   ],
   "source": [
    "# \n",
    "print(tupla_tres[1:4])"
   ]
  },
  {
   "cell_type": "code",
   "execution_count": 75,
   "metadata": {},
   "outputs": [
    {
     "name": "stdout",
     "output_type": "stream",
     "text": [
      "<class 'int'>\n"
     ]
    }
   ],
   "source": [
    "# parentesis com um objeto (int) dentro de parentesis resulta no tipo do objeto (int)\n",
    "tupla_teste = (10)\n",
    "print(type(tupla_teste))"
   ]
  },
  {
   "cell_type": "code",
   "execution_count": 76,
   "metadata": {},
   "outputs": [
    {
     "name": "stdout",
     "output_type": "stream",
     "text": [
      "<class 'tuple'>\n"
     ]
    }
   ],
   "source": [
    "# parentesis com um objeto (int) e uma VÍRGULA no final, resulta em tupla de UM elemento\n",
    "tupla_teste = (10,)\n",
    "print(type(tupla_teste))"
   ]
  },
  {
   "cell_type": "code",
   "execution_count": 77,
   "metadata": {},
   "outputs": [
    {
     "name": "stdout",
     "output_type": "stream",
     "text": [
      "(1, 2, 3, 4, 5, 6, 7, 8, 9, 'a', 'b', 'c', 'd', 'e', 'f', 'g')\n"
     ]
    }
   ],
   "source": [
    "# a soma de tuplas é o mesmo que nas listas\n",
    "print(tupla_um + tupla_dois)"
   ]
  },
  {
   "cell_type": "code",
   "execution_count": 78,
   "metadata": {},
   "outputs": [
    {
     "name": "stdout",
     "output_type": "stream",
     "text": [
      "(1, 2, 3, 4, 5, 6, 7, 8, 9, 1, 2, 3, 4, 5, 6, 7, 8, 9)\n"
     ]
    }
   ],
   "source": [
    "# multiplicação de uma tupla e int (mesmo que list vezes int)\n",
    "print(tupla_um * 2)"
   ]
  },
  {
   "cell_type": "code",
   "execution_count": 79,
   "metadata": {},
   "outputs": [],
   "source": [
    "# para criar uma tupla de UMA posicao é necessário fazer assim: (10,)\n",
    "# COM A VÍRGULA NO FINAL DO CONTRÁRIO VIRA UM INT"
   ]
  },
  {
   "cell_type": "markdown",
   "metadata": {
    "id": "lUioE_az-YOT"
   },
   "source": [
    "---\n",
    "# Dicionário (dictionary)\n",
    "\n",
    "Um dicionário em Python é uma coleção de pares de chave-valor. O dicionário é cercado por chaves. Cada par é\n",
    "separado por uma vírgula e a chave e o valor são separados por dois pontos"
   ]
  },
  {
   "cell_type": "code",
   "execution_count": 80,
   "metadata": {
    "id": "SD4L-1qK-YOT"
   },
   "outputs": [],
   "source": [
    "estados_capitais = {\n",
    "    'Pernambuco': \"Recife\",\n",
    "    'Goias': 'Goiania',\n",
    "    'Rio Grande do Sul': 'Porto Alegre',\n",
    "    'Parana': 'Curitiba'\n",
    "}"
   ]
  },
  {
   "cell_type": "code",
   "execution_count": 81,
   "metadata": {
    "id": "h9BF5EGk-YOT",
    "outputId": "b19e1986-d6d3-4603-de9d-c9932f4699c2"
   },
   "outputs": [
    {
     "name": "stdout",
     "output_type": "stream",
     "text": [
      "Goiania\n"
     ]
    }
   ],
   "source": [
    "# ACESSANDO e IMPRIMINDO o valor do subendereço 'Goias'\n",
    "print(estados_capitais['Goias'])"
   ]
  },
  {
   "cell_type": "code",
   "execution_count": 82,
   "metadata": {
    "id": "4kni1OqZ-YOT",
    "outputId": "402c2505-bd25-4977-ab2a-7bd7950dc9f7"
   },
   "outputs": [
    {
     "name": "stdout",
     "output_type": "stream",
     "text": [
      "Florianopolis\n"
     ]
    }
   ],
   "source": [
    "# criando um novo subendereço (chave) e atribuindo um valor (valor)\n",
    "estados_capitais['Santa Catarina'] = \"Florianopolis\"\n",
    "\n",
    "# imprimindo o valor do subendereço 'Santa Catarina'\n",
    "print(estados_capitais['Santa Catarina'])"
   ]
  },
  {
   "cell_type": "code",
   "execution_count": 83,
   "metadata": {
    "id": "wXF0HMM9-YOT",
    "outputId": "1f6d9b9c-5577-45d9-e6c2-3c8f8471dce4"
   },
   "outputs": [
    {
     "name": "stdout",
     "output_type": "stream",
     "text": [
      "Coritiba\n"
     ]
    }
   ],
   "source": [
    "# Dicionários não aceitam chaves duplicadas.\n",
    "# a string 'Coritiba' vai sobrescrever a string 'Curitiba' existente\n",
    "# no dicionário\n",
    "estados_capitais['Parana'] = \"Coritiba\"\n",
    "print(estados_capitais['Parana'])"
   ]
  },
  {
   "cell_type": "code",
   "execution_count": 84,
   "metadata": {},
   "outputs": [
    {
     "ename": "KeyError",
     "evalue": "'Sao Paulo'",
     "output_type": "error",
     "traceback": [
      "\u001b[1;31m---------------------------------------------------------------------------\u001b[0m",
      "\u001b[1;31mKeyError\u001b[0m                                  Traceback (most recent call last)",
      "Cell \u001b[1;32mIn[84], line 2\u001b[0m\n\u001b[0;32m      1\u001b[0m \u001b[38;5;66;03m# imprimindo o valor associado à chave Sao Paulo (que não existe)\u001b[39;00m\n\u001b[1;32m----> 2\u001b[0m \u001b[38;5;28mprint\u001b[39m(\u001b[43mestados_capitais\u001b[49m\u001b[43m[\u001b[49m\u001b[38;5;124;43m'\u001b[39;49m\u001b[38;5;124;43mSao Paulo\u001b[39;49m\u001b[38;5;124;43m'\u001b[39;49m\u001b[43m]\u001b[49m)\n",
      "\u001b[1;31mKeyError\u001b[0m: 'Sao Paulo'"
     ]
    }
   ],
   "source": [
    "# imprimindo o valor associado à chave Sao Paulo (que não existe)\n",
    "print(estados_capitais['Sao Paulo'])"
   ]
  },
  {
   "cell_type": "code",
   "execution_count": 85,
   "metadata": {},
   "outputs": [
    {
     "name": "stdout",
     "output_type": "stream",
     "text": [
      "Não existe\n"
     ]
    }
   ],
   "source": [
    "# outra forma de imprimir o valor associado à chave Sao Paulo \n",
    "# (que não existe) e caso não exista, imprime 'Não existe'\n",
    "print(estados_capitais.get('Sao Paulo', 'Não existe'))"
   ]
  },
  {
   "cell_type": "code",
   "execution_count": 86,
   "metadata": {},
   "outputs": [
    {
     "name": "stdout",
     "output_type": "stream",
     "text": [
      "None\n"
     ]
    }
   ],
   "source": [
    "# imprimindo o valor associado à chave Sao Paulo (que não existe) e caso não exista, imprime None\n",
    "print(estados_capitais.get('Sao Paulo'))"
   ]
  },
  {
   "cell_type": "code",
   "execution_count": 87,
   "metadata": {},
   "outputs": [],
   "source": [
    "# criando o subendereço 'Sao Paulo' e atribuindo o valor 'Sao Paulo'\n",
    "estados_capitais[\"Sao Paulo\"] = \"Sao Paulo\""
   ]
  },
  {
   "cell_type": "code",
   "execution_count": 88,
   "metadata": {},
   "outputs": [
    {
     "name": "stdout",
     "output_type": "stream",
     "text": [
      "{'Pernambuco': 'Recife', 'Goias': 'Goiania', 'Rio Grande do Sul': 'Porto Alegre', 'Parana': 'Coritiba', 'Santa Catarina': 'Florianopolis', 'Sao Paulo': 'Sao Paulo'}\n"
     ]
    }
   ],
   "source": [
    "print(estados_capitais)"
   ]
  },
  {
   "cell_type": "markdown",
   "metadata": {},
   "source": []
  },
  {
   "cell_type": "code",
   "execution_count": 89,
   "metadata": {},
   "outputs": [
    {
     "name": "stdout",
     "output_type": "stream",
     "text": [
      "{'Pernambuco': 'Recife', 'Goias': 'Goiania', 'Rio Grande do Sul': 'Porto Alegre', 'Parana': 'Coritiba', 'Santa Catarina': 'Florianopolis', 'Sao Paulo': 'Sao Paulo', 0: 2}\n"
     ]
    }
   ],
   "source": [
    "# Dicionários aceitam apenas objetos imutáveis como suas chaves: \n",
    "# [str, int, float, tupla]\n",
    "# Dicionparios aceitam todos os objetos para preencher seus valores\n",
    "estados_capitais[0] = 2\n",
    "print(estados_capitais)"
   ]
  },
  {
   "cell_type": "code",
   "execution_count": 90,
   "metadata": {},
   "outputs": [
    {
     "name": "stdout",
     "output_type": "stream",
     "text": [
      "{'Pernambuco': 'Recife', 'Goias': 'Goiania', 'Rio Grande do Sul': 'Porto Alegre', 'Parana': 'Coritiba', 'Santa Catarina': 'Florianopolis', 'Sao Paulo': 'Sao Paulo'}\n"
     ]
    }
   ],
   "source": [
    "# removendo um par chave-valor\n",
    "del estados_capitais[0]\n",
    "print(estados_capitais)"
   ]
  },
  {
   "cell_type": "markdown",
   "metadata": {
    "id": "rC4FiMiU-YOT"
   },
   "source": [
    "---\n",
    "# Conjunto (set)\n",
    "\n",
    "Um conjunto é uma coleção de elementos sem repetições e sem ordem de inserção. \n",
    "Para grandes grupos de dados, é muito mais rápido verificar se um elemento está ou não em um conjunto do\n",
    "que fazer o mesmo para uma lista."
   ]
  },
  {
   "cell_type": "code",
   "execution_count": 91,
   "metadata": {
    "id": "6mNvPYvP-YOT"
   },
   "outputs": [],
   "source": [
    "# conjuntos são coleções de valores ÚNICOS\n",
    "nomes1 = {'Carlos', 'Beth', 'Paula'}\n",
    "nomes2 = {'Paula', 'Renata', 'Dani'}"
   ]
  },
  {
   "cell_type": "code",
   "execution_count": 92,
   "metadata": {
    "id": "0_PoQ93R-YOU",
    "outputId": "354e8fd4-b45e-47b0-c899-a17817424da8"
   },
   "outputs": [
    {
     "name": "stdout",
     "output_type": "stream",
     "text": [
      "{'Renata', 'Carlos', 'Beth', 'Paula', 'Dani'}\n"
     ]
    }
   ],
   "source": [
    "# operador pipe | entre conjuntos realiza a operação de \n",
    "# união de conjuntos\n",
    "print(nomes1 | nomes2)"
   ]
  },
  {
   "cell_type": "code",
   "execution_count": 93,
   "metadata": {
    "id": "lOyFlGfT-YOU",
    "outputId": "5ad980fb-b888-4ebd-bf14-fa5d65c6bfc0"
   },
   "outputs": [
    {
     "name": "stdout",
     "output_type": "stream",
     "text": [
      "{'Renata', 'Carlos', 'Beth', 'Paula', 'Dani'}\n"
     ]
    }
   ],
   "source": [
    "# método de união de conjuntos\n",
    "print(nomes1.union(nomes2))"
   ]
  },
  {
   "cell_type": "code",
   "execution_count": 94,
   "metadata": {
    "id": "ikwQeers-YOU",
    "outputId": "e37c4621-d5c7-4eac-cfbc-5c72f6dba482"
   },
   "outputs": [
    {
     "name": "stdout",
     "output_type": "stream",
     "text": [
      "{'Paula'}\n"
     ]
    }
   ],
   "source": [
    "# operador de interseção de conjuntos\n",
    "print(nomes1 & nomes2)"
   ]
  },
  {
   "cell_type": "code",
   "execution_count": 95,
   "metadata": {},
   "outputs": [
    {
     "name": "stdout",
     "output_type": "stream",
     "text": [
      "{'Paula'}\n"
     ]
    }
   ],
   "source": [
    "# método de interseção de conjuntos\n",
    "print(nomes1.intersection(nomes2))"
   ]
  },
  {
   "cell_type": "code",
   "execution_count": 96,
   "metadata": {},
   "outputs": [
    {
     "name": "stdout",
     "output_type": "stream",
     "text": [
      "{'Carlos', 'Beth'}\n"
     ]
    }
   ],
   "source": [
    "# operador de diferença de conjuntos\n",
    "print(nomes1 - nomes2)"
   ]
  },
  {
   "cell_type": "code",
   "execution_count": 97,
   "metadata": {},
   "outputs": [
    {
     "name": "stdout",
     "output_type": "stream",
     "text": [
      "{'Renata', 'Dani'}\n"
     ]
    }
   ],
   "source": [
    "print(nomes2 - nomes1)"
   ]
  },
  {
   "cell_type": "code",
   "execution_count": 98,
   "metadata": {
    "id": "GNFIuL29-YOU",
    "outputId": "b6f2c024-547c-46e6-fe55-adc7694720ab"
   },
   "outputs": [
    {
     "name": "stdout",
     "output_type": "stream",
     "text": [
      "{'Carlos', 'Beth'}\n"
     ]
    }
   ],
   "source": [
    "# método de diferença entre o conjunto names1 e names2\n",
    "print(nomes1.difference(nomes2))"
   ]
  },
  {
   "cell_type": "markdown",
   "metadata": {
    "id": "SNO1fFeU-YOU"
   },
   "source": [
    "---\n",
    "# 5) Múltiplas atribuições"
   ]
  },
  {
   "cell_type": "code",
   "execution_count": 99,
   "metadata": {
    "id": "ZpNdpJj6-YOU",
    "outputId": "36e55fb8-dd68-49d4-83a3-76c572e1ce48"
   },
   "outputs": [
    {
     "name": "stdout",
     "output_type": "stream",
     "text": [
      "a: 11 - b: 4 - c: 6\n"
     ]
    }
   ],
   "source": [
    "# a recebe 1, b recebe 2, c recebe 3\n",
    "a, b, c = 10, 2, 3\n",
    "print(f\"a: {a + 1} - b: {b + 2} - c: {c + 3}\")"
   ]
  },
  {
   "cell_type": "code",
   "execution_count": 100,
   "metadata": {
    "id": "37Z2wJAP-YOV",
    "outputId": "53040616-abf2-4943-fdfa-3a76d2c9bca7"
   },
   "outputs": [
    {
     "name": "stdout",
     "output_type": "stream",
     "text": [
      "d: 1 - e: 1 - f: 1\n"
     ]
    }
   ],
   "source": [
    "# d recebe 1, e recebe 1, f recebe 1\n",
    "d = e = f = 1\n",
    "print(f\"d: {d} - e: {e} - f: {f}\")"
   ]
  },
  {
   "cell_type": "code",
   "execution_count": 101,
   "metadata": {
    "id": "r4ar-uvI-YOV",
    "outputId": "b7412668-4522-4154-9f36-74983b0b6564"
   },
   "outputs": [
    {
     "name": "stdout",
     "output_type": "stream",
     "text": [
      "a: 1 - b: 2\n",
      "a: 2 - b: 1\n"
     ]
    }
   ],
   "source": [
    "a = 1\n",
    "b = 2\n",
    "\n",
    "print(f\"a: {a} - b: {b}\")\n",
    "\n",
    "# invertendo os valores de b <- a e a <- b\n",
    "a, b = b, a\n",
    "\n",
    "print(f\"a: {a} - b: {b}\")"
   ]
  },
  {
   "cell_type": "markdown",
   "metadata": {},
   "source": [
    "# Detalhando o **f-string**"
   ]
  },
  {
   "cell_type": "code",
   "execution_count": 102,
   "metadata": {},
   "outputs": [],
   "source": [
    "# f\"texto literal {numero:formato}\"\n",
    "# os formatos podem ser:\n",
    "# s - string\n",
    "# d - decimal\n",
    "# f - float\n",
    "# x - hexadecimal\n",
    "# b - binário\n",
    "# e - notação científica\n",
    "# % - porcentagem"
   ]
  },
  {
   "cell_type": "code",
   "execution_count": 103,
   "metadata": {},
   "outputs": [
    {
     "name": "stdout",
     "output_type": "stream",
     "text": [
      "valor: 322.6\n",
      "valor: 322.56\n",
      "valor: 322.563\n",
      "valor: 322.5630\n",
      "valor:       322.56300\n",
      "valor: 000000322.56300\n"
     ]
    }
   ],
   "source": [
    "# formatando float...\n",
    "variavel = 322.563\n",
    "print(f\"valor: {variavel:.1f}\")         # :.1f - imprime o valor com uma casa decimal\n",
    "print(f\"valor: {variavel:.2f}\")         # :.2f - imprime o valor com duas casas decimais\n",
    "print(f\"valor: {variavel:.3f}\")         # :.3f - imprime o valor com três casas decimais\n",
    "print(f\"valor: {variavel:.4f}\")         # :.4f - imprime o valor com quatro casas decimais\n",
    "print(f\"valor: {variavel:15.5f}\")       # :15.5f - imprime o valor com quinze caracteres e cinco casas decimais\n",
    "print(f\"valor: {variavel:015.5f}\")      # :015.5f - imprime o valor com quinze caracteres (preenchendo com zeros) e cinco casas decimais"
   ]
  },
  {
   "cell_type": "code",
   "execution_count": 104,
   "metadata": {},
   "outputs": [
    {
     "name": "stdout",
     "output_type": "stream",
     "text": [
      "1. percentual: 25.000000%\n",
      "2. percentual: 25.0%\n",
      "3. percentual: 25%\n",
      "4. percentual: 25.0%\n",
      "5. percentual: 25.00%\n",
      "6. percentual:        25%\n",
      "7. percentual: 000000025%\n"
     ]
    }
   ],
   "source": [
    "# formatando porcentagem...\n",
    "percentual = 0.25\n",
    "print(f\"1. percentual: {percentual:%}\")        # :% - imprime o valor como porcentagem\n",
    "print(f\"2. percentual: {percentual * 100}%\")   # Método 'burro'\n",
    "print(f\"3. percentual: {percentual:.0%}\")      # :.0% - imprime o valor como porcentagem sem casas decimais\n",
    "print(f\"4. percentual: {percentual:.1%}\")      # :.1% - imprime o valor como porcentagem com uma casa decimal\n",
    "print(f\"5. percentual: {percentual:.2%}\")      # :.2% - imprime o valor como porcentagem com duas casas decimais\n",
    "print(f\"6. percentual: {percentual:10.0%}\")   # :010.0% - imprime o valor como porcentagem com dez caracteres (preenchendo com zeros) e sem casas decimais\n",
    "print(f\"7. percentual: {percentual:010.0%}\")   # :010.0% - imprime o valor como porcentagem com dez caracteres (preenchendo com zeros) e sem casas decimais"
   ]
  },
  {
   "cell_type": "code",
   "execution_count": 105,
   "metadata": {},
   "outputs": [
    {
     "name": "stdout",
     "output_type": "stream",
     "text": [
      "1. inteiro: 20\n",
      "2. inteiro: 20\n",
      "3. inteiro: 020\n",
      "4. inteiro: 0020\n",
      "5. inteiro:   20\n"
     ]
    }
   ],
   "source": [
    "# formatando inteiro...\n",
    "inteiro = 20\n",
    "print(f\"1. inteiro: {inteiro:01d}\")        # :01d - imprime o valor com um caractere (preenchendo com zeros)\n",
    "print(f\"2. inteiro: {inteiro:02d}\")        # :02d - imprime o valor com dois caracteres (preenchendo com zeros)\n",
    "print(f\"3. inteiro: {inteiro:03d}\")        # :03d - imprime o valor com três caracteres (preenchendo com zeros)\n",
    "print(f\"4. inteiro: {inteiro:04d}\")        # :04d - imprime o valor com quatro caracteres (preenchendo com zeros)\n",
    "print(f\"5. inteiro: {inteiro:4d}\")         # :4d - imprime o valor com quatro caracteres (preenchendo com espaços)"
   ]
  },
  {
   "cell_type": "code",
   "execution_count": 106,
   "metadata": {},
   "outputs": [
    {
     "name": "stdout",
     "output_type": "stream",
     "text": [
      "1. texto: Python    \n",
      "2. texto:     Python\n",
      "3. texto:   Python  \n",
      "4. texto: Python    \n"
     ]
    }
   ],
   "source": [
    "# formatando string...\n",
    "texto = \"Python\"\n",
    "print(f\"1. texto: {texto:10s}\")            # alinhamento à esquerda (padrão)\n",
    "print(f\"2. texto: {texto:>10s}\")           # alinhamento à direita\n",
    "print(f\"3. texto: {texto:^10s}\")           # centralizado\n",
    "print(f\"4. texto: {texto:<10s}\")           # alinhamento à esquerda"
   ]
  },
  {
   "cell_type": "code",
   "execution_count": 107,
   "metadata": {},
   "outputs": [
    {
     "name": "stdout",
     "output_type": "stream",
     "text": [
      "inteiro: ff\n",
      "inteiro: 000000ff\n",
      "inteiro: 000000FF\n",
      "inteiro:       FF\n"
     ]
    }
   ],
   "source": [
    "# formatando hexadecimal...\n",
    "inteiro = 255\n",
    "print(f\"inteiro: {inteiro:x}\")            # é uma forma de converter um inteiro para hexadecimal\n",
    "print(f\"inteiro: {inteiro:08x}\")            # é uma forma de converter um inteiro para hexadecimal\n",
    "print(f\"inteiro: {inteiro:08X}\")            # é uma forma de converter um inteiro para hexadecimal\n",
    "print(f\"inteiro: {inteiro:8X}\")             # é uma forma de converter um inteiro para hexadecimal"
   ]
  },
  {
   "cell_type": "code",
   "execution_count": 108,
   "metadata": {},
   "outputs": [
    {
     "name": "stdout",
     "output_type": "stream",
     "text": [
      "inteiro:                         11111111\n",
      "inteiro: 00000000000000000000000011111111\n"
     ]
    }
   ],
   "source": [
    "# formatando binário...\n",
    "inteiro = 255\n",
    "print(f\"inteiro: {inteiro:32b}\")            # é um modo de converter um inteiro para binário e formatar a saída\n",
    "print(f\"inteiro: {inteiro:032b}\")           # é um modo de converter um inteiro para binário e formatar a saída"
   ]
  },
  {
   "cell_type": "code",
   "execution_count": 109,
   "metadata": {},
   "outputs": [
    {
     "name": "stdout",
     "output_type": "stream",
     "text": [
      "1. inteiro: 1.0e+06\n",
      "2. inteiro: 1.0000000000e+06\n",
      "3. inteiro: 1.00000000E+06\n"
     ]
    }
   ],
   "source": [
    "# formantando para notação científica...\n",
    "inteiro = 1_000_000 # _ dentro de um número é ignorado (pode servir como separador de milhar para facilitar a leitura)\n",
    "print(f\"1. inteiro: {inteiro:.1e}\")  # notação científica com uma casa decimal\n",
    "print(f\"2. inteiro: {inteiro:.10e}\") # notação científica minúscula com dez casas decimais\n",
    "print(f\"3. inteiro: {inteiro:.8E}\")  # notação científica maiúscula com oito casas decimais"
   ]
  },
  {
   "cell_type": "code",
   "execution_count": 110,
   "metadata": {},
   "outputs": [
    {
     "name": "stdout",
     "output_type": "stream",
     "text": [
      "1,000,000,000.00\n",
      "1_000_000_000.00\n"
     ]
    }
   ],
   "source": [
    "# float no format de notação científica\n",
    "v = 1e9 # 1 x 10^9\n",
    "print(f\"{v:,.2f}\")                                             # inserindo , para separar os milhares e .1 para uma casa decimal e f para float\n",
    "print(f\"{v:_.2f}\")                                                # inserindo _ para separar os milhares com underlines                                    "
   ]
  },
  {
   "cell_type": "code",
   "execution_count": 111,
   "metadata": {},
   "outputs": [],
   "source": [
    "# print(f\"{v:_}\".replace(\".\", \",\").replace(\"_\", \".\"))"
   ]
  },
  {
   "cell_type": "code",
   "execution_count": 112,
   "metadata": {},
   "outputs": [
    {
     "name": "stdout",
     "output_type": "stream",
     "text": [
      "1000000000.0\n",
      "1000000000.0\n",
      "1000000000.00\n",
      "1_000_000_000,00\n",
      "1.000.000.000,00\n"
     ]
    }
   ],
   "source": [
    "# sequencia de experimentações até chegar na linha de cima (SEM USAR VARIAVEIS)\n",
    "print(v)\n",
    "print(f\"{v}\")\n",
    "print(f\"{v:.2f}\")\n",
    "print((f\"{v:_.2f}\").replace(\".\", \",\"))\n",
    "print(((f\"{v:_.2f}\").replace(\".\", \",\")).replace(\"_\", \".\"))"
   ]
  },
  {
   "cell_type": "code",
   "execution_count": 113,
   "metadata": {},
   "outputs": [
    {
     "name": "stdout",
     "output_type": "stream",
     "text": [
      "1.000.000.000,00\n"
     ]
    }
   ],
   "source": [
    "# sequencia de experimentações até chegar na linha de cima (USANDO VARIAVEIS)\n",
    "var1 = f\"{v:_.2f}\"\n",
    "var2 = var1.replace(\".\", \",\")\n",
    "var3 = var2.replace(\"_\", \".\")\n",
    "print(var3)"
   ]
  },
  {
   "cell_type": "markdown",
   "metadata": {},
   "source": [
    "---"
   ]
  },
  {
   "cell_type": "markdown",
   "metadata": {},
   "source": [
    "## Documentação dos comandos do markdown para consulta futura\n",
    "### segue o link para mais informacoes: https://www.markdownguide.org/basic-syntax/"
   ]
  },
  {
   "cell_type": "markdown",
   "metadata": {},
   "source": [
    "# Algumas dicas de Markdown:"
   ]
  },
  {
   "cell_type": "markdown",
   "metadata": {},
   "source": [
    "### *italico*\n",
    "### ~~riscado~~\n",
    "### **negrito e _italico_**\n",
    "### ***tudo bold e italico***\n",
    "### <sub>d</sub>H<sub>c</sub>\n",
    "### A<sup>sobrescrito</sup>\n",
    ">### Fazendo referencia externa (quoting)\n",
    "### use `isto` para mudar o fundo\n",
    "```\n",
    "teste\n",
    "```\n",
    "```python\n",
    "def este_e_um_comando_python(argumentos: int) -> str:\n",
    "    return 1 + 1 \n",
    "```\n",
    "O fundo branco é `#ffffff` e o fundo preto é `#000000`\n",
    "### Link do Github [Clique aqui](https://github.com/)"
   ]
  }
 ],
 "metadata": {
  "colab": {
   "provenance": []
  },
  "kernelspec": {
   "display_name": "Python 3 (ipykernel)",
   "language": "python",
   "name": "python3"
  },
  "language_info": {
   "codemirror_mode": {
    "name": "ipython",
    "version": 3
   },
   "file_extension": ".py",
   "mimetype": "text/x-python",
   "name": "python",
   "nbconvert_exporter": "python",
   "pygments_lexer": "ipython3",
   "version": "3.11.4"
  }
 },
 "nbformat": 4,
 "nbformat_minor": 4
}
