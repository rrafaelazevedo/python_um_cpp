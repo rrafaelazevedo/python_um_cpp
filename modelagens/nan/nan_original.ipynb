{
 "cells": [
  {
   "cell_type": "code",
   "execution_count": null,
   "metadata": {},
   "outputs": [],
   "source": [
    "import pandas as pd\n",
    "import numpy as np\n",
    "import matplotlib.pyplot as plt\n",
    "import os\n",
    "from mmq import metodo_minimos_quadrados"
   ]
  },
  {
   "cell_type": "code",
   "execution_count": 4,
   "metadata": {},
   "outputs": [
    {
     "data": {
      "text/html": [
       "<div>\n",
       "<style scoped>\n",
       "    .dataframe tbody tr th:only-of-type {\n",
       "        vertical-align: middle;\n",
       "    }\n",
       "\n",
       "    .dataframe tbody tr th {\n",
       "        vertical-align: top;\n",
       "    }\n",
       "\n",
       "    .dataframe thead th {\n",
       "        text-align: right;\n",
       "    }\n",
       "</style>\n",
       "<table border=\"1\" class=\"dataframe\">\n",
       "  <thead>\n",
       "    <tr style=\"text-align: right;\">\n",
       "      <th></th>\n",
       "      <th>Rótulo</th>\n",
       "      <th>Hora Início</th>\n",
       "      <th>Hora Fim</th>\n",
       "      <th>Número Médio Ligantes</th>\n",
       "    </tr>\n",
       "  </thead>\n",
       "  <tbody>\n",
       "    <tr>\n",
       "      <th>0</th>\n",
       "      <td>1</td>\n",
       "      <td>18:15:00</td>\n",
       "      <td>18:30:00</td>\n",
       "      <td>2071</td>\n",
       "    </tr>\n",
       "    <tr>\n",
       "      <th>1</th>\n",
       "      <td>2</td>\n",
       "      <td>18:30:00</td>\n",
       "      <td>18:45:00</td>\n",
       "      <td>2002</td>\n",
       "    </tr>\n",
       "    <tr>\n",
       "      <th>2</th>\n",
       "      <td>3</td>\n",
       "      <td>18:45:00</td>\n",
       "      <td>19:00:00</td>\n",
       "      <td>1982</td>\n",
       "    </tr>\n",
       "    <tr>\n",
       "      <th>3</th>\n",
       "      <td>4</td>\n",
       "      <td>19:00:00</td>\n",
       "      <td>19:15:00</td>\n",
       "      <td>1835</td>\n",
       "    </tr>\n",
       "    <tr>\n",
       "      <th>4</th>\n",
       "      <td>5</td>\n",
       "      <td>19:15:00</td>\n",
       "      <td>19:30:00</td>\n",
       "      <td>1540</td>\n",
       "    </tr>\n",
       "    <tr>\n",
       "      <th>...</th>\n",
       "      <td>...</td>\n",
       "      <td>...</td>\n",
       "      <td>...</td>\n",
       "      <td>...</td>\n",
       "    </tr>\n",
       "    <tr>\n",
       "      <th>91</th>\n",
       "      <td>92</td>\n",
       "      <td>17:00:00</td>\n",
       "      <td>17:15:00</td>\n",
       "      <td>3143</td>\n",
       "    </tr>\n",
       "    <tr>\n",
       "      <th>92</th>\n",
       "      <td>93</td>\n",
       "      <td>17:15:00</td>\n",
       "      <td>17:30:00</td>\n",
       "      <td>3247</td>\n",
       "    </tr>\n",
       "    <tr>\n",
       "      <th>93</th>\n",
       "      <td>94</td>\n",
       "      <td>17:30:00</td>\n",
       "      <td>17:45:00</td>\n",
       "      <td>3009</td>\n",
       "    </tr>\n",
       "    <tr>\n",
       "      <th>94</th>\n",
       "      <td>95</td>\n",
       "      <td>17:45:00</td>\n",
       "      <td>18:00:00</td>\n",
       "      <td>2747</td>\n",
       "    </tr>\n",
       "    <tr>\n",
       "      <th>95</th>\n",
       "      <td>96</td>\n",
       "      <td>18:00:00</td>\n",
       "      <td>18:15:00</td>\n",
       "      <td>2297</td>\n",
       "    </tr>\n",
       "  </tbody>\n",
       "</table>\n",
       "<p>96 rows × 4 columns</p>\n",
       "</div>"
      ],
      "text/plain": [
       "    Rótulo Hora Início  Hora Fim  Número Médio Ligantes\n",
       "0        1    18:15:00  18:30:00                   2071\n",
       "1        2    18:30:00  18:45:00                   2002\n",
       "2        3    18:45:00  19:00:00                   1982\n",
       "3        4    19:00:00  19:15:00                   1835\n",
       "4        5    19:15:00  19:30:00                   1540\n",
       "..     ...         ...       ...                    ...\n",
       "91      92    17:00:00  17:15:00                   3143\n",
       "92      93    17:15:00  17:30:00                   3247\n",
       "93      94    17:30:00  17:45:00                   3009\n",
       "94      95    17:45:00  18:00:00                   2747\n",
       "95      96    18:00:00  18:15:00                   2297\n",
       "\n",
       "[96 rows x 4 columns]"
      ]
     },
     "execution_count": 4,
     "metadata": {},
     "output_type": "execute_result"
    }
   ],
   "source": [
    "df_tabela_ligantes = pd.read_excel(os.path.join(\"data\", \n",
    "                                                \"df_tabela_ligantes.xlsx\"))\n",
    "df_tabela_ligantes"
   ]
  },
  {
   "cell_type": "code",
   "execution_count": 5,
   "metadata": {},
   "outputs": [
    {
     "data": {
      "text/html": [
       "<div>\n",
       "<style scoped>\n",
       "    .dataframe tbody tr th:only-of-type {\n",
       "        vertical-align: middle;\n",
       "    }\n",
       "\n",
       "    .dataframe tbody tr th {\n",
       "        vertical-align: top;\n",
       "    }\n",
       "\n",
       "    .dataframe thead th {\n",
       "        text-align: right;\n",
       "    }\n",
       "</style>\n",
       "<table border=\"1\" class=\"dataframe\">\n",
       "  <thead>\n",
       "    <tr style=\"text-align: right;\">\n",
       "      <th></th>\n",
       "      <th>Duração Conexão</th>\n",
       "      <th>Número Ligantes</th>\n",
       "      <th>Percentagem Relativa</th>\n",
       "      <th>Percentagem Acumulada</th>\n",
       "    </tr>\n",
       "  </thead>\n",
       "  <tbody>\n",
       "    <tr>\n",
       "      <th>0</th>\n",
       "      <td>0</td>\n",
       "      <td>0</td>\n",
       "      <td>0.000</td>\n",
       "      <td>0.000</td>\n",
       "    </tr>\n",
       "    <tr>\n",
       "      <th>1</th>\n",
       "      <td>5</td>\n",
       "      <td>870</td>\n",
       "      <td>0.087</td>\n",
       "      <td>0.087</td>\n",
       "    </tr>\n",
       "    <tr>\n",
       "      <th>2</th>\n",
       "      <td>10</td>\n",
       "      <td>2210</td>\n",
       "      <td>0.221</td>\n",
       "      <td>0.308</td>\n",
       "    </tr>\n",
       "    <tr>\n",
       "      <th>3</th>\n",
       "      <td>15</td>\n",
       "      <td>2940</td>\n",
       "      <td>0.294</td>\n",
       "      <td>0.602</td>\n",
       "    </tr>\n",
       "    <tr>\n",
       "      <th>4</th>\n",
       "      <td>20</td>\n",
       "      <td>1710</td>\n",
       "      <td>0.171</td>\n",
       "      <td>0.773</td>\n",
       "    </tr>\n",
       "    <tr>\n",
       "      <th>5</th>\n",
       "      <td>25</td>\n",
       "      <td>1360</td>\n",
       "      <td>0.136</td>\n",
       "      <td>0.909</td>\n",
       "    </tr>\n",
       "    <tr>\n",
       "      <th>6</th>\n",
       "      <td>30</td>\n",
       "      <td>590</td>\n",
       "      <td>0.059</td>\n",
       "      <td>0.968</td>\n",
       "    </tr>\n",
       "    <tr>\n",
       "      <th>7</th>\n",
       "      <td>35</td>\n",
       "      <td>250</td>\n",
       "      <td>0.025</td>\n",
       "      <td>0.993</td>\n",
       "    </tr>\n",
       "    <tr>\n",
       "      <th>8</th>\n",
       "      <td>40</td>\n",
       "      <td>70</td>\n",
       "      <td>0.007</td>\n",
       "      <td>1.000</td>\n",
       "    </tr>\n",
       "  </tbody>\n",
       "</table>\n",
       "</div>"
      ],
      "text/plain": [
       "   Duração Conexão  Número Ligantes  Percentagem Relativa  \\\n",
       "0                0                0                 0.000   \n",
       "1                5              870                 0.087   \n",
       "2               10             2210                 0.221   \n",
       "3               15             2940                 0.294   \n",
       "4               20             1710                 0.171   \n",
       "5               25             1360                 0.136   \n",
       "6               30              590                 0.059   \n",
       "7               35              250                 0.025   \n",
       "8               40               70                 0.007   \n",
       "\n",
       "   Percentagem Acumulada  \n",
       "0                  0.000  \n",
       "1                  0.087  \n",
       "2                  0.308  \n",
       "3                  0.602  \n",
       "4                  0.773  \n",
       "5                  0.909  \n",
       "6                  0.968  \n",
       "7                  0.993  \n",
       "8                  1.000  "
      ]
     },
     "execution_count": 5,
     "metadata": {},
     "output_type": "execute_result"
    }
   ],
   "source": [
    "df_duracoes = pd.read_excel(os.path.join(\"data\", \"df_duracoes.xlsx\"))\n",
    "df_duracoes"
   ]
  },
  {
   "cell_type": "code",
   "execution_count": 6,
   "metadata": {},
   "outputs": [
    {
     "data": {
      "text/plain": [
       "array([ 7.25285079e+02, -1.67791097e+03,  1.41326154e+03, -5.23808658e+02,\n",
       "        1.01010563e+02, -2.06253859e-01])"
      ]
     },
     "execution_count": 6,
     "metadata": {},
     "output_type": "execute_result"
    }
   ],
   "source": [
    "# encontrando os coeficientes de ajuste polinomial para a tabela de durações\n",
    "coefs = \\\n",
    "    metodo_minimos_quadrados.mmq(entradas=df_duracoes.loc[:, \"Percentagem Acumulada\"],\n",
    "                                saidas=df_duracoes.loc[:, \"Duração Conexão\"],\n",
    "                                g=5)\n",
    "coefs"
   ]
  },
  {
   "cell_type": "code",
   "execution_count": 7,
   "metadata": {},
   "outputs": [
    {
     "data": {
      "image/png": "[encoded data removed]",
      "text/plain": [
       "<Figure size 640x480 with 1 Axes>"
      ]
     },
     "metadata": {},
     "output_type": "display_data"
    }
   ],
   "source": [
    "# gera 1000 valores de zero à um\n",
    "x = np.linspace(0, 1, 1000)\n",
    "# usa o polinômio ajustado para gerar os valores de y para cada valor\n",
    "# dentro da coleção 'x'\n",
    "y = np.polyval(coefs, x)\n",
    "\n",
    "# pega todas as linhas da coluna \"Percentagem Acumulada\" e \"Duração Conexão\"\n",
    "percentagens_acumuladas = df_duracoes.loc[:, \"Percentagem Acumulada\"]\n",
    "duracoes = df_duracoes.loc[:, \"Duração Conexão\"]\n",
    "\n",
    "# faz os pontos do gráfico\n",
    "plt.plot(percentagens_acumuladas, duracoes, \"o\")\n",
    "\n",
    "# faz o gráfico do ajuste polinomial\n",
    "plt.plot(x, y)\n",
    "\n",
    "# configura titulos e labels e mostra o gráfico\n",
    "plt.xlabel(\"Percentagem Acumulada\")\n",
    "plt.ylabel(\"Duração Conexão\")\n",
    "plt.title(\"Ajuste Polinomial para a Tabela de Durações\")\n",
    "plt.show()"
   ]
  },
  {
   "cell_type": "code",
   "execution_count": 8,
   "metadata": {},
   "outputs": [
    {
     "data": {
      "text/plain": [
       "-0.20625385893845305"
      ]
     },
     "execution_count": 8,
     "metadata": {},
     "output_type": "execute_result"
    }
   ],
   "source": [
    "# usando os coeficientes do polinomio para encontrar o functus associado a 0\n",
    "np.polyval(coefs, 0)"
   ]
  },
  {
   "cell_type": "code",
   "execution_count": 9,
   "metadata": {},
   "outputs": [
    {
     "data": {
      "text/plain": [
       "0.20625385893845305"
      ]
     },
     "execution_count": 9,
     "metadata": {},
     "output_type": "execute_result"
    }
   ],
   "source": [
    "# função 'abs' tira o módulo do número resultante\n",
    "abs(np.polyval(coefs, 0))"
   ]
  },
  {
   "cell_type": "code",
   "execution_count": 10,
   "metadata": {},
   "outputs": [
    {
     "data": {
      "text/plain": [
       "37.63129851329677"
      ]
     },
     "execution_count": 10,
     "metadata": {},
     "output_type": "execute_result"
    }
   ],
   "source": [
    "# tempo máximo de duração\n",
    "np.polyval(coefs, 1)"
   ]
  },
  {
   "cell_type": "code",
   "execution_count": 11,
   "metadata": {},
   "outputs": [
    {
     "data": {
      "text/plain": [
       "Rótulo                          1\n",
       "Hora Início              18:15:00\n",
       "Hora Fim                 18:30:00\n",
       "Número Médio Ligantes        2071\n",
       "Name: 0, dtype: object"
      ]
     },
     "execution_count": 11,
     "metadata": {},
     "output_type": "execute_result"
    }
   ],
   "source": [
    "# primeira linha da tabela de ligantes\n",
    "df_tabela_ligantes.iloc[0]"
   ]
  },
  {
   "cell_type": "code",
   "execution_count": 12,
   "metadata": {},
   "outputs": [
    {
     "data": {
      "text/plain": [
       "2071"
      ]
     },
     "execution_count": 12,
     "metadata": {},
     "output_type": "execute_result"
    }
   ],
   "source": [
    "# qtd de ligantes para a primeira linha da tabela de ligantes\n",
    "qtd_ligantes = df_tabela_ligantes.iloc[0][\"Número Médio Ligantes\"]\n",
    "qtd_ligantes"
   ]
  },
  {
   "cell_type": "code",
   "execution_count": 13,
   "metadata": {},
   "outputs": [
    {
     "data": {
      "text/plain": [
       "array([172, 558, 343, ..., 425,  88, 334])"
      ]
     },
     "execution_count": 13,
     "metadata": {},
     "output_type": "execute_result"
    }
   ],
   "source": [
    "# gerando as ligações (no domínio de 0 a 900) para a primeira linha da tabela de \n",
    "# ligantes\n",
    "momentos_ligacoes = np.random.randint(low=0, high=900, size=qtd_ligantes)\n",
    "momentos_ligacoes"
   ]
  },
  {
   "cell_type": "code",
   "execution_count": 14,
   "metadata": {},
   "outputs": [
    {
     "data": {
      "text/plain": [
       "array([  0,   0,   1, ..., 898, 899, 899])"
      ]
     },
     "execution_count": 14,
     "metadata": {},
     "output_type": "execute_result"
    }
   ],
   "source": [
    "# ordenando as ligações para executar o algoritmo nan\n",
    "momentos_ligacoes.sort()\n",
    "momentos_ligacoes"
   ]
  },
  {
   "cell_type": "markdown",
   "metadata": {},
   "source": [
    "### 0: a ``PRIMEIRA`` ligação da lista ocorreu no momento ``0``\n",
    "### 2: a ``SEGUNDA`` ligação da lista ocorreu no momento ``2``\n",
    "### 2: a ``TERCEIRA`` ligação da lista ocorreu no momento ``2``"
   ]
  },
  {
   "cell_type": "code",
   "execution_count": 15,
   "metadata": {},
   "outputs": [],
   "source": [
    "# foi escolhida a estrutura de lista de dicionários para \n",
    "# representar os atendentes, sendo\n",
    "# que cada atendente será representado por um dicionário com \n",
    "# as seguintes chaves:\n",
    "\n",
    "# {\n",
    "#     \"inicio_atendimento\": momento em que o atendente começa atendimento,\n",
    "#     \"fim_atendimento\": momento em que o atendente termina atendimento,\n",
    "# }\n",
    "\n",
    "# inicializando a lista de atendentes vazia para começar a simulação\n",
    "atendentes: list[dict] = []"
   ]
  },
  {
   "cell_type": "code",
   "execution_count": 16,
   "metadata": {},
   "outputs": [
    {
     "data": {
      "text/plain": [
       "0"
      ]
     },
     "execution_count": 16,
     "metadata": {},
     "output_type": "execute_result"
    }
   ],
   "source": [
    "# percorrendo, manualmente os momentos das ligações\n",
    "momento_ligacao = momentos_ligacoes[0]\n",
    "momento_ligacao"
   ]
  },
  {
   "cell_type": "code",
   "execution_count": 17,
   "metadata": {},
   "outputs": [
    {
     "data": {
      "text/plain": [
       "0.5488135039273248"
      ]
     },
     "execution_count": 17,
     "metadata": {},
     "output_type": "execute_result"
    }
   ],
   "source": [
    "# gera um aleatório (entre 0 e 1) para gerar o tempo de duração da ligação\n",
    "np.random.seed(0)\n",
    "aleatorio = np.random.rand()\n",
    "aleatorio"
   ]
  },
  {
   "cell_type": "code",
   "execution_count": 18,
   "metadata": {},
   "outputs": [
    {
     "data": {
      "text/plain": [
       "14.96515486746906"
      ]
     },
     "execution_count": 18,
     "metadata": {},
     "output_type": "execute_result"
    }
   ],
   "source": [
    "# tempo de duração da ligação\n",
    "tempo_duracao = abs(np.polyval(coefs, aleatorio))\n",
    "tempo_duracao"
   ]
  },
  {
   "cell_type": "code",
   "execution_count": 19,
   "metadata": {},
   "outputs": [
    {
     "data": {
      "text/plain": [
       "[{'inicio_atendimento': 0, 'fim_atendimento': 14.96515486746906}]"
      ]
     },
     "execution_count": 19,
     "metadata": {},
     "output_type": "execute_result"
    }
   ],
   "source": [
    "# se não houver atendentes, cria um novo atendente e adiciona \n",
    "# na lista de atendentes\n",
    "if atendentes == []:\n",
    "\n",
    "    # criando um atendente\n",
    "    atendente = {\n",
    "        \"inicio_atendimento\": momento_ligacao,\n",
    "        \"fim_atendimento\": momento_ligacao + tempo_duracao,\n",
    "    }\n",
    "\n",
    "    # adicionando o atendente na lista de atendentes\n",
    "    atendentes.append(atendente)\n",
    "\n",
    "atendentes"
   ]
  },
  {
   "cell_type": "markdown",
   "metadata": {},
   "source": [
    "### Vai para a ``próxima ligação``"
   ]
  },
  {
   "cell_type": "code",
   "execution_count": 20,
   "metadata": {},
   "outputs": [
    {
     "data": {
      "text/plain": [
       "0"
      ]
     },
     "execution_count": 20,
     "metadata": {},
     "output_type": "execute_result"
    }
   ],
   "source": [
    "momento_ligacao = momentos_ligacoes[1]\n",
    "momento_ligacao"
   ]
  },
  {
   "cell_type": "code",
   "execution_count": 21,
   "metadata": {},
   "outputs": [
    {
     "data": {
      "text/plain": [
       "0.417022004702574"
      ]
     },
     "execution_count": 21,
     "metadata": {},
     "output_type": "execute_result"
    }
   ],
   "source": [
    "# gera um aleatório (entre 0 e 1) para gerar o tempo de duração da ligação\n",
    "# foi usado outro 'seed' para gerar outro aleatório\n",
    "np.random.seed(1)\n",
    "aleatorio = np.random.rand()\n",
    "aleatorio"
   ]
  },
  {
   "cell_type": "code",
   "execution_count": 22,
   "metadata": {},
   "outputs": [
    {
     "data": {
      "text/plain": [
       "11.718611909601192"
      ]
     },
     "execution_count": 22,
     "metadata": {},
     "output_type": "execute_result"
    }
   ],
   "source": [
    "# tempo de duração da ligação\n",
    "tempo_duracao = abs(np.polyval(coefs, aleatorio))\n",
    "tempo_duracao"
   ]
  },
  {
   "cell_type": "code",
   "execution_count": 23,
   "metadata": {},
   "outputs": [
    {
     "data": {
      "text/plain": [
       "[{'inicio_atendimento': 0, 'fim_atendimento': 14.96515486746906},\n",
       " {'inicio_atendimento': 0, 'fim_atendimento': 11.718611909601192}]"
      ]
     },
     "execution_count": 23,
     "metadata": {},
     "output_type": "execute_result"
    }
   ],
   "source": [
    "# se já houver atendente(s) na lista, \n",
    "for atendente in atendentes:\n",
    "\n",
    "    # checando se o atendente está ocupado\n",
    "    ocupado = atendente[\"fim_atendimento\"] > momento_ligacao + 10\n",
    "\n",
    "    if not ocupado:\n",
    "        # se o atendente não estiver ocupado, atualiza o atendente com a nova ligação\n",
    "\n",
    "        if momento_ligacao > atendente[\"fim_atendimento\"]:\n",
    "            atendente[\"inicio_atendimento\"] = momento_ligacao\n",
    "            atendente[\"fim_atendimento\"] = momento_ligacao + tempo_duracao\n",
    "        else:\n",
    "            atendente[\"inicio_atendimento\"] = atendente[\"fim_atendimento\"]\n",
    "            atendente[\"fim_atendimento\"] = atendente[\"fim_atendimento\"] + tempo_duracao\n",
    "        \n",
    "        break\n",
    "else:\n",
    "    # esse bloco é executado apenas se o loop for concluído SEM executar o break.\n",
    "    # Ou seja, se todos os atendentes estiverem ocupados, cria um novo atendente\n",
    "    atendente = {\n",
    "        \"inicio_atendimento\": momento_ligacao,\n",
    "        \"fim_atendimento\": momento_ligacao + tempo_duracao,\n",
    "    }\n",
    "\n",
    "    # adicionando o atendente na lista de atendentes\n",
    "    atendentes.append(atendente)\n",
    "\n",
    "atendentes"
   ]
  },
  {
   "cell_type": "markdown",
   "metadata": {},
   "source": [
    "### Fechando o código inteiro numa célula apenas"
   ]
  },
  {
   "cell_type": "code",
   "execution_count": 24,
   "metadata": {},
   "outputs": [
    {
     "data": {
      "text/plain": [
       "44"
      ]
     },
     "execution_count": 24,
     "metadata": {},
     "output_type": "execute_result"
    }
   ],
   "source": [
    "# Resolvendo o algoritmo usando apenas objetos nativos (sem usar a classe Atendente)\n",
    "# Foi escolhido o objeto 'dicionário' para representar cada atendente. observe:\n",
    "\n",
    "atendentes: list[dict] = []\n",
    "\n",
    "# para cada ligação\n",
    "for momento_ligacao in momentos_ligacoes:\n",
    "\n",
    "    # np.random.rand() gera um número aleatório entre 0 e 1\n",
    "    aleatorio = np.random.rand()\n",
    "\n",
    "    # gerando a duração da ligação. Como a função polinomial retorna valores negativos,\n",
    "    # usamos a função 'abs' para garantir que o valor seja positivo\n",
    "    duracao = abs(np.polyval(coefs, aleatorio))\n",
    "\n",
    "    # para cada atendente, checar se ele estará ocupado no momento da ligação + tempo \n",
    "    # máximo de espera. Se não estiver, ele atende a ligação\n",
    "    # se todos estiverem ocupados, criar um novo atendente\n",
    "\n",
    "    if atendentes == []:\n",
    "        # se não houver atendentes, cria um novo atendente\n",
    "        novo_atendente = {\"inicio_atendimento\": momento_ligacao, \n",
    "                          \"fim_atendimento\": momento_ligacao + duracao}\n",
    "        \n",
    "        # adicionando o atendente na lista de atendentes\n",
    "        atendentes.append(novo_atendente)\n",
    "        continue\n",
    "    \n",
    "    # se já houver atendentes na lista, deve-se percorrer cada atendente e checar se algum \n",
    "    # deles estará disponível no momento da ligação + 10 segundos\n",
    "    for atendente in atendentes:\n",
    "\n",
    "        # checando se o atendente está ocupado daqui a 10 segundos do momento da ligação\n",
    "        # ocupado = atendente.checar_ocupado(momento_ligacao + 10)\n",
    "        ocupado = atendente[\"fim_atendimento\"] > momento_ligacao + 10\n",
    "\n",
    "        if not ocupado:\n",
    "            # se o atendente não estiver ocupado, ele atende a ligação\n",
    "            # atendente.atender_ligacao_futura(duracao)\n",
    "            atendente[\"inicio_atendimento\"] = atendente[\"fim_atendimento\"]\n",
    "            atendente[\"fim_atendimento\"] = atendente[\"inicio_atendimento\"] + duracao\n",
    "            break\n",
    "    else:\n",
    "        # entra aqui apenas se nunca ocorrer o break (ou seja, se todos os atendentes \n",
    "        # estiverem ocupados)\n",
    "\n",
    "        # criando um novo atendente\n",
    "        # novo_atendende = Atendente(inicio_atendimento=momento_ligacao, \n",
    "        #                            fim_atendimento=momento_ligacao + duracao)\n",
    "        novo_atendende = {\"inicio_atendimento\": momento_ligacao, \n",
    "                          \"fim_atendimento\": momento_ligacao + duracao}\n",
    "        atendentes.append(novo_atendende)\n",
    "\n",
    "len(atendentes)"
   ]
  },
  {
   "cell_type": "code",
   "execution_count": 25,
   "metadata": {},
   "outputs": [],
   "source": [
    "# conjunto de nan para cada periodo do dia (18:15 - 18:30, 18:30 - 18:45, ..., 18:00 - 18:15)\n",
    "coluna_nan = []\n",
    "\n",
    "# para cada linha (periodo do dia) da tabela de ligantes (96 linhas)\n",
    "for i, linha in df_tabela_ligantes.iterrows():\n",
    "\n",
    "    # pega a qtd_ligantes para cada periodo do dia\n",
    "    qtd_ligantes = linha[\"Número Médio Ligantes\"]\n",
    "\n",
    "    # gera aleatoriamente os momentos de ligação para cada periodo do dia\n",
    "    momentos_ligacoes = np.random.randint(low=0, high=900, size=qtd_ligantes)\n",
    "    # ordena os momentos de ligação para executar o algoritmo nan\n",
    "    momentos_ligacoes.sort()\n",
    "    \n",
    "    # cria uma lista de atendentes necessários para atender as ligações para cada periodo do dia\n",
    "    atendentes: list[dict] = []\n",
    "\n",
    "    # para cada ligação\n",
    "    for momento_ligacao in momentos_ligacoes:\n",
    "        \n",
    "        # gerando a duração da ligação\n",
    "        aleatorio = np.random.rand()\n",
    "\n",
    "        # gerando a duração da ligação\n",
    "        duracao = abs(np.polyval(coefs, aleatorio))\n",
    "\n",
    "        if atendentes == []:\n",
    "            # se não houver atendentes, cria um novo atendente\n",
    "            novo_atendente = {\"inicio_atendimento\": momento_ligacao, \n",
    "                              \"fim_atendimento\": momento_ligacao + duracao}\n",
    "            \n",
    "            # adicionando o atendente na lista de atendentes\n",
    "            atendentes.append(novo_atendente)\n",
    "            continue\n",
    "\n",
    "        # para cada atendente, checar se ele estará ocupado no momento da ligação + tempo máximo \n",
    "        # de espera. Se não estiver, ele atende a ligação\n",
    "        # se todos estiverem ocupados, criar um novo atendente\n",
    "        for atendente in atendentes:\n",
    "\n",
    "            # checando se o atendente está ocupado daqui a 10 segundos do momento da ligação\n",
    "            # ocupado = atendente.checar_ocupado(momento_ligacao + 10)\n",
    "            ocupado = atendente[\"fim_atendimento\"] > momento_ligacao + 10\n",
    "\n",
    "            if not ocupado:\n",
    "                # se o atendente não estiver ocupado, ele atende a ligação\n",
    "                # atendente.atender_ligacao_futura(duracao)\n",
    "                atendente[\"inicio_atendimento\"] = atendente[\"fim_atendimento\"]\n",
    "                atendente[\"fim_atendimento\"] = atendente[\"inicio_atendimento\"] + duracao\n",
    "                break\n",
    "        else:\n",
    "            # entra aqui apenas se nunca ocorrer o break (ou seja, se todos os atendentes \n",
    "            # estiverem ocupados)\n",
    "\n",
    "            # criando um novo atendente\n",
    "            # novo_atendende = Atendente(inicio_atendimento=momento_ligacao, \n",
    "            #                            fim_atendimento=momento_ligacao + duracao)\n",
    "            novo_atendende = {\"inicio_atendimento\": momento_ligacao, \n",
    "                            \"fim_atendimento\": momento_ligacao + duracao}\n",
    "            atendentes.append(novo_atendende)\n",
    "\n",
    "\n",
    "    # após 'varrer' todas as ligações simuladas de cada período do dia, coletar a \n",
    "    # quantidade de atendentes criados para atender todas as ligações com 10 segundos \n",
    "    # de tempo máximo de espera    \n",
    "    nan = len(atendentes)\n",
    "    \n",
    "    # antes de partir para a simulação do próximo período do dia, adicionar o resultado\n",
    "    # na coleção de nan para cada período do dia\n",
    "    coluna_nan.append(nan)"
   ]
  },
  {
   "cell_type": "code",
   "execution_count": 26,
   "metadata": {},
   "outputs": [
    {
     "name": "stdout",
     "output_type": "stream",
     "text": [
      "[46, 36, 39, 32, 30, 25, 30, 27, 25, 31, 25, 23, 21, 22, 21, 19, 19, 16, 17, 20, 12, 13, 12, 11, 5, 6, 4, 3, 2, 4, 3, 3, 3, 2, 3, 2, 1, 1, 1, 2, 1, 2, 2, 1, 1, 2, 1, 3, 3, 4, 4, 13, 11, 14, 14, 28, 28, 30, 28, 49, 42, 45, 48, 60, 54, 60, 56, 52, 56, 50, 61, 41, 43, 51, 42, 44, 58, 52, 62, 48, 51, 51, 45, 49, 50, 55, 53, 55, 60, 50, 54, 56, 57, 56, 50, 43]\n",
      "96\n"
     ]
    }
   ],
   "source": [
    "# checando o nan resultante para cada periodo (96 períodos) do dia\n",
    "print(coluna_nan)\n",
    "print(len(coluna_nan))"
   ]
  },
  {
   "cell_type": "code",
   "execution_count": 27,
   "metadata": {},
   "outputs": [
    {
     "data": {
      "text/html": [
       "<div>\n",
       "<style scoped>\n",
       "    .dataframe tbody tr th:only-of-type {\n",
       "        vertical-align: middle;\n",
       "    }\n",
       "\n",
       "    .dataframe tbody tr th {\n",
       "        vertical-align: top;\n",
       "    }\n",
       "\n",
       "    .dataframe thead th {\n",
       "        text-align: right;\n",
       "    }\n",
       "</style>\n",
       "<table border=\"1\" class=\"dataframe\">\n",
       "  <thead>\n",
       "    <tr style=\"text-align: right;\">\n",
       "      <th></th>\n",
       "      <th>Rótulo</th>\n",
       "      <th>Hora Início</th>\n",
       "      <th>Hora Fim</th>\n",
       "      <th>Número Médio Ligantes</th>\n",
       "    </tr>\n",
       "  </thead>\n",
       "  <tbody>\n",
       "    <tr>\n",
       "      <th>0</th>\n",
       "      <td>1</td>\n",
       "      <td>18:15:00</td>\n",
       "      <td>18:30:00</td>\n",
       "      <td>2071</td>\n",
       "    </tr>\n",
       "    <tr>\n",
       "      <th>1</th>\n",
       "      <td>2</td>\n",
       "      <td>18:30:00</td>\n",
       "      <td>18:45:00</td>\n",
       "      <td>2002</td>\n",
       "    </tr>\n",
       "    <tr>\n",
       "      <th>2</th>\n",
       "      <td>3</td>\n",
       "      <td>18:45:00</td>\n",
       "      <td>19:00:00</td>\n",
       "      <td>1982</td>\n",
       "    </tr>\n",
       "    <tr>\n",
       "      <th>3</th>\n",
       "      <td>4</td>\n",
       "      <td>19:00:00</td>\n",
       "      <td>19:15:00</td>\n",
       "      <td>1835</td>\n",
       "    </tr>\n",
       "    <tr>\n",
       "      <th>4</th>\n",
       "      <td>5</td>\n",
       "      <td>19:15:00</td>\n",
       "      <td>19:30:00</td>\n",
       "      <td>1540</td>\n",
       "    </tr>\n",
       "    <tr>\n",
       "      <th>...</th>\n",
       "      <td>...</td>\n",
       "      <td>...</td>\n",
       "      <td>...</td>\n",
       "      <td>...</td>\n",
       "    </tr>\n",
       "    <tr>\n",
       "      <th>91</th>\n",
       "      <td>92</td>\n",
       "      <td>17:00:00</td>\n",
       "      <td>17:15:00</td>\n",
       "      <td>3143</td>\n",
       "    </tr>\n",
       "    <tr>\n",
       "      <th>92</th>\n",
       "      <td>93</td>\n",
       "      <td>17:15:00</td>\n",
       "      <td>17:30:00</td>\n",
       "      <td>3247</td>\n",
       "    </tr>\n",
       "    <tr>\n",
       "      <th>93</th>\n",
       "      <td>94</td>\n",
       "      <td>17:30:00</td>\n",
       "      <td>17:45:00</td>\n",
       "      <td>3009</td>\n",
       "    </tr>\n",
       "    <tr>\n",
       "      <th>94</th>\n",
       "      <td>95</td>\n",
       "      <td>17:45:00</td>\n",
       "      <td>18:00:00</td>\n",
       "      <td>2747</td>\n",
       "    </tr>\n",
       "    <tr>\n",
       "      <th>95</th>\n",
       "      <td>96</td>\n",
       "      <td>18:00:00</td>\n",
       "      <td>18:15:00</td>\n",
       "      <td>2297</td>\n",
       "    </tr>\n",
       "  </tbody>\n",
       "</table>\n",
       "<p>96 rows × 4 columns</p>\n",
       "</div>"
      ],
      "text/plain": [
       "    Rótulo Hora Início  Hora Fim  Número Médio Ligantes\n",
       "0        1    18:15:00  18:30:00                   2071\n",
       "1        2    18:30:00  18:45:00                   2002\n",
       "2        3    18:45:00  19:00:00                   1982\n",
       "3        4    19:00:00  19:15:00                   1835\n",
       "4        5    19:15:00  19:30:00                   1540\n",
       "..     ...         ...       ...                    ...\n",
       "91      92    17:00:00  17:15:00                   3143\n",
       "92      93    17:15:00  17:30:00                   3247\n",
       "93      94    17:30:00  17:45:00                   3009\n",
       "94      95    17:45:00  18:00:00                   2747\n",
       "95      96    18:00:00  18:15:00                   2297\n",
       "\n",
       "[96 rows x 4 columns]"
      ]
     },
     "execution_count": 27,
     "metadata": {},
     "output_type": "execute_result"
    }
   ],
   "source": [
    "# checando a tabela de ligantes antes de adicionar a coluna de nan\n",
    "df_tabela_ligantes"
   ]
  },
  {
   "cell_type": "code",
   "execution_count": 28,
   "metadata": {},
   "outputs": [
    {
     "data": {
      "text/html": [
       "<div>\n",
       "<style scoped>\n",
       "    .dataframe tbody tr th:only-of-type {\n",
       "        vertical-align: middle;\n",
       "    }\n",
       "\n",
       "    .dataframe tbody tr th {\n",
       "        vertical-align: top;\n",
       "    }\n",
       "\n",
       "    .dataframe thead th {\n",
       "        text-align: right;\n",
       "    }\n",
       "</style>\n",
       "<table border=\"1\" class=\"dataframe\">\n",
       "  <thead>\n",
       "    <tr style=\"text-align: right;\">\n",
       "      <th></th>\n",
       "      <th>Rótulo</th>\n",
       "      <th>Hora Início</th>\n",
       "      <th>Hora Fim</th>\n",
       "      <th>Número Médio Ligantes</th>\n",
       "      <th>NAN</th>\n",
       "    </tr>\n",
       "  </thead>\n",
       "  <tbody>\n",
       "    <tr>\n",
       "      <th>0</th>\n",
       "      <td>1</td>\n",
       "      <td>18:15:00</td>\n",
       "      <td>18:30:00</td>\n",
       "      <td>2071</td>\n",
       "      <td>46</td>\n",
       "    </tr>\n",
       "    <tr>\n",
       "      <th>1</th>\n",
       "      <td>2</td>\n",
       "      <td>18:30:00</td>\n",
       "      <td>18:45:00</td>\n",
       "      <td>2002</td>\n",
       "      <td>36</td>\n",
       "    </tr>\n",
       "    <tr>\n",
       "      <th>2</th>\n",
       "      <td>3</td>\n",
       "      <td>18:45:00</td>\n",
       "      <td>19:00:00</td>\n",
       "      <td>1982</td>\n",
       "      <td>39</td>\n",
       "    </tr>\n",
       "    <tr>\n",
       "      <th>3</th>\n",
       "      <td>4</td>\n",
       "      <td>19:00:00</td>\n",
       "      <td>19:15:00</td>\n",
       "      <td>1835</td>\n",
       "      <td>32</td>\n",
       "    </tr>\n",
       "    <tr>\n",
       "      <th>4</th>\n",
       "      <td>5</td>\n",
       "      <td>19:15:00</td>\n",
       "      <td>19:30:00</td>\n",
       "      <td>1540</td>\n",
       "      <td>30</td>\n",
       "    </tr>\n",
       "    <tr>\n",
       "      <th>...</th>\n",
       "      <td>...</td>\n",
       "      <td>...</td>\n",
       "      <td>...</td>\n",
       "      <td>...</td>\n",
       "      <td>...</td>\n",
       "    </tr>\n",
       "    <tr>\n",
       "      <th>91</th>\n",
       "      <td>92</td>\n",
       "      <td>17:00:00</td>\n",
       "      <td>17:15:00</td>\n",
       "      <td>3143</td>\n",
       "      <td>56</td>\n",
       "    </tr>\n",
       "    <tr>\n",
       "      <th>92</th>\n",
       "      <td>93</td>\n",
       "      <td>17:15:00</td>\n",
       "      <td>17:30:00</td>\n",
       "      <td>3247</td>\n",
       "      <td>57</td>\n",
       "    </tr>\n",
       "    <tr>\n",
       "      <th>93</th>\n",
       "      <td>94</td>\n",
       "      <td>17:30:00</td>\n",
       "      <td>17:45:00</td>\n",
       "      <td>3009</td>\n",
       "      <td>56</td>\n",
       "    </tr>\n",
       "    <tr>\n",
       "      <th>94</th>\n",
       "      <td>95</td>\n",
       "      <td>17:45:00</td>\n",
       "      <td>18:00:00</td>\n",
       "      <td>2747</td>\n",
       "      <td>50</td>\n",
       "    </tr>\n",
       "    <tr>\n",
       "      <th>95</th>\n",
       "      <td>96</td>\n",
       "      <td>18:00:00</td>\n",
       "      <td>18:15:00</td>\n",
       "      <td>2297</td>\n",
       "      <td>43</td>\n",
       "    </tr>\n",
       "  </tbody>\n",
       "</table>\n",
       "<p>96 rows × 5 columns</p>\n",
       "</div>"
      ],
      "text/plain": [
       "    Rótulo Hora Início  Hora Fim  Número Médio Ligantes  NAN\n",
       "0        1    18:15:00  18:30:00                   2071   46\n",
       "1        2    18:30:00  18:45:00                   2002   36\n",
       "2        3    18:45:00  19:00:00                   1982   39\n",
       "3        4    19:00:00  19:15:00                   1835   32\n",
       "4        5    19:15:00  19:30:00                   1540   30\n",
       "..     ...         ...       ...                    ...  ...\n",
       "91      92    17:00:00  17:15:00                   3143   56\n",
       "92      93    17:15:00  17:30:00                   3247   57\n",
       "93      94    17:30:00  17:45:00                   3009   56\n",
       "94      95    17:45:00  18:00:00                   2747   50\n",
       "95      96    18:00:00  18:15:00                   2297   43\n",
       "\n",
       "[96 rows x 5 columns]"
      ]
     },
     "execution_count": 28,
     "metadata": {},
     "output_type": "execute_result"
    }
   ],
   "source": [
    "# adicionando a coluna de nan na tabela de ligantes\n",
    "df_tabela_ligantes.loc[:, \"NAN\"] = coluna_nan\n",
    "df_tabela_ligantes"
   ]
  },
  {
   "cell_type": "code",
   "execution_count": 29,
   "metadata": {},
   "outputs": [],
   "source": [
    "def gerar_tabela_nan(df_tabela_ligantes: pd.DataFrame,\n",
    "                        df_duracoes: pd.DataFrame,\n",
    "                        tempo_maximo_espera: float = 10,\n",
    "                        g: int = 5) -> list:\n",
    "\n",
    "    \"\"\"\n",
    "    Função para gerar a lista de NANs para cada período do dia\n",
    "\n",
    "    Args:\n",
    "        df_tabela_ligantes (pd.DataFrame): DataFrame com a quantidade de ligantes. \n",
    "        (obrigatório)\n",
    "        df_duracoes (pd.DataFrame): DataFrame com as durações das ligações. (obrigatório)\n",
    "        tempo_maximo_espera (float): Tempo máximo de espera (opcional, default=10)\n",
    "        g (int): Grau do polinômio de ajuste (opcional, default=5)\n",
    "    Returns:\n",
    "        pd.DataFrame: DataFrame com a quantidade de NANs\n",
    "    \"\"\"\n",
    "\n",
    "    coefs = metodo_minimos_quadrados.mmq(entradas=df_duracoes.loc[:, \"Percentagem Acumulada\"],\n",
    "                                     saidas=df_duracoes.loc[:, \"Duração Conexão\"],\n",
    "                                     g=g)\n",
    "\n",
    "\n",
    "    # conjunto de nan para cada periodo do dia (18:15 - 18:30, 18:30 - 18:45, ..., 18:00 - 18:15)\n",
    "    coluna_nan = []\n",
    "\n",
    "    # para cada linha (periodo do dia) da tabela de ligantes (96 linhas)\n",
    "    for i, linha in df_tabela_ligantes.iterrows():\n",
    "\n",
    "        # pega a qtd_ligantes para cada periodo do dia\n",
    "        qtd_ligantes = linha[\"Número Médio Ligantes\"]\n",
    "\n",
    "        # gera aleatoriamente os momentos de ligação para cada periodo do dia\n",
    "        momentos_ligacoes = np.random.randint(low=0, high=900, size=qtd_ligantes)\n",
    "        # ordena os momentos de ligação para executar o algoritmo nan\n",
    "        momentos_ligacoes.sort()\n",
    "        \n",
    "        # cria uma lista de atendentes necessários para atender as ligações para cada periodo do dia\n",
    "        atendentes: list[dict] = []\n",
    "\n",
    "        # para cada ligação\n",
    "        for momento_ligacao in momentos_ligacoes:\n",
    "            \n",
    "            # gerando a duração da ligação\n",
    "            aleatorio = np.random.rand()\n",
    "\n",
    "            # gerando a duração da ligação\n",
    "            duracao = abs(np.polyval(coefs, aleatorio))\n",
    "\n",
    "            if atendentes == []:\n",
    "                # se não houver atendentes, cria um novo atendente\n",
    "                novo_atendente = {\"inicio_atendimento\": momento_ligacao, \n",
    "                                \"fim_atendimento\": momento_ligacao + duracao}\n",
    "                \n",
    "                # adicionando o atendente na lista de atendentes\n",
    "                atendentes.append(novo_atendente)\n",
    "                continue\n",
    "\n",
    "            # para cada atendente, checar se ele estará ocupado no momento da ligação + tempo máximo \n",
    "            # de espera. Se não estiver, ele atende a ligação\n",
    "            # se todos estiverem ocupados, criar um novo atendente\n",
    "            for atendente in atendentes:\n",
    "\n",
    "                # checando se o atendente está ocupado daqui a 10 segundos do momento da ligação\n",
    "                # ocupado = atendente.checar_ocupado(momento_ligacao + 10)\n",
    "                ocupado = atendente[\"fim_atendimento\"] > momento_ligacao + tempo_maximo_espera\n",
    "\n",
    "                if not ocupado:\n",
    "                    # se o atendente não estiver ocupado, ele atende a ligação\n",
    "                    # atendente.atender_ligacao_futura(duracao)\n",
    "                    atendente[\"inicio_atendimento\"] = atendente[\"fim_atendimento\"]\n",
    "                    atendente[\"fim_atendimento\"] = atendente[\"inicio_atendimento\"] + duracao\n",
    "                    break\n",
    "            else:\n",
    "                # entra aqui apenas se nunca ocorrer o break (ou seja, se todos os atendentes \n",
    "                # estiverem ocupados)\n",
    "\n",
    "                # criando um novo atendente\n",
    "                # novo_atendende = Atendente(inicio_atendimento=momento_ligacao, \n",
    "                #                            fim_atendimento=momento_ligacao + duracao)\n",
    "                novo_atendende = {\"inicio_atendimento\": momento_ligacao, \n",
    "                                \"fim_atendimento\": momento_ligacao + duracao}\n",
    "                atendentes.append(novo_atendende)\n",
    "\n",
    "\n",
    "        # após 'varrer' todas as ligações simuladas de cada período do dia, coletar a \n",
    "        # quantidade de atendentes criados para atender todas as ligações com 10 segundos \n",
    "        # de tempo máximo de espera    \n",
    "        nan = len(atendentes)\n",
    "        \n",
    "        # antes de partir para a simulação do próximo período do dia, adicionar o resultado\n",
    "        # na coleção de nan para cada período do dia\n",
    "        coluna_nan.append(nan)\n",
    "    \n",
    "    return coluna_nan"
   ]
  },
  {
   "cell_type": "code",
   "execution_count": 30,
   "metadata": {},
   "outputs": [],
   "source": [
    "# chamando a função para gerar a tabela de nan\n",
    "nan = gerar_tabela_nan(df_tabela_ligantes=df_tabela_ligantes,\n",
    "                       df_duracoes=df_duracoes,\n",
    "                       tempo_maximo_espera=10,\n",
    "                       g=5)"
   ]
  },
  {
   "cell_type": "code",
   "execution_count": 31,
   "metadata": {},
   "outputs": [
    {
     "name": "stdout",
     "output_type": "stream",
     "text": [
      "[34, 36, 35, 38, 31, 30, 25, 27, 26, 27, 28, 25, 21, 20, 18, 24, 16, 18, 17, 21, 11, 13, 13, 14, 4, 4, 5, 4, 3, 3, 5, 5, 2, 2, 3, 2, 1, 2, 1, 1, 2, 1, 2, 2, 1, 2, 1, 3, 3, 4, 3, 12, 18, 15, 14, 31, 30, 32, 30, 46, 48, 50, 50, 65, 56, 56, 61, 49, 51, 57, 47, 45, 48, 49, 44, 44, 49, 48, 51, 47, 53, 48, 47, 52, 52, 56, 54, 49, 50, 60, 57, 57, 57, 54, 53, 38]\n"
     ]
    }
   ],
   "source": [
    "# testando o nan para cada período do dia\n",
    "print(nan)"
   ]
  },
  {
   "cell_type": "code",
   "execution_count": null,
   "metadata": {},
   "outputs": [],
   "source": []
  }
 ],
 "metadata": {
  "kernelspec": {
   "display_name": "venv_cpp",
   "language": "python",
   "name": "python3"
  },
  "language_info": {
   "codemirror_mode": {
    "name": "ipython",
    "version": 3
   },
   "file_extension": ".py",
   "mimetype": "text/x-python",
   "name": "python",
   "nbconvert_exporter": "python",
   "pygments_lexer": "ipython3",
   "version": "3.11.5"
  }
 },
 "nbformat": 4,
 "nbformat_minor": 2
}
