{
 "cells": [
  {
   "cell_type": "code",
   "execution_count": 6,
   "metadata": {},
   "outputs": [],
   "source": [
    "# única matéria-prima necessária para transformá-la numa fração na forma de string: \"num/den\"\n",
    "numero_float = 3.141414"
   ]
  },
  {
   "cell_type": "code",
   "execution_count": 7,
   "metadata": {},
   "outputs": [
    {
     "data": {
      "text/plain": [
       "'311/99 = 3.1414141414141414'"
      ]
     },
     "execution_count": 7,
     "metadata": {},
     "output_type": "execute_result"
    }
   ],
   "source": [
    "# deseja-se encontrar a fração na forma: \"311/99\"\n",
    "f\"311/99 = {311/99}\""
   ]
  },
  {
   "cell_type": "markdown",
   "metadata": {},
   "source": [
    "# COMEÇA O ALGORITMO"
   ]
  },
  {
   "cell_type": "code",
   "execution_count": 9,
   "metadata": {},
   "outputs": [
    {
     "data": {
      "text/plain": [
       "'3.141414'"
      ]
     },
     "execution_count": 9,
     "metadata": {},
     "output_type": "execute_result"
    }
   ],
   "source": [
    "# transforma-se o floar numa string para quebrá-la no ponto '.'\n",
    "numero_string = str(numero_float)\n",
    "numero_string"
   ]
  },
  {
   "cell_type": "code",
   "execution_count": 10,
   "metadata": {},
   "outputs": [
    {
     "data": {
      "text/plain": [
       "['3', '141414']"
      ]
     },
     "execution_count": 10,
     "metadata": {},
     "output_type": "execute_result"
    }
   ],
   "source": [
    "# testando o retorno do método split aplicado no objeto (str) dentro da variável 'numero_string'\n",
    "numero_string.split(\".\")"
   ]
  },
  {
   "cell_type": "code",
   "execution_count": 11,
   "metadata": {},
   "outputs": [
    {
     "name": "stdout",
     "output_type": "stream",
     "text": [
      "3 141414\n"
     ]
    }
   ],
   "source": [
    "# guardando o retorno do método split nas variáveis pi (parte inteira) e pf (parte fracionária)\n",
    "pi, pf = numero_string.split(\".\")\n",
    "print(pi, pf)"
   ]
  },
  {
   "cell_type": "code",
   "execution_count": 12,
   "metadata": {},
   "outputs": [
    {
     "name": "stdout",
     "output_type": "stream",
     "text": [
      "3\n"
     ]
    }
   ],
   "source": [
    "# convertendo a parte inteira para um 'int'\n",
    "num_pi = int(pi)\n",
    "print(num_pi)"
   ]
  },
  {
   "cell_type": "code",
   "execution_count": 14,
   "metadata": {},
   "outputs": [
    {
     "name": "stdout",
     "output_type": "stream",
     "text": [
      "<class 'int'>\n"
     ]
    }
   ],
   "source": [
    "# testando se a conversão funcionou!!!\n",
    "print(type(num_pi))"
   ]
  },
  {
   "cell_type": "markdown",
   "metadata": {},
   "source": [
    "# COMECA O FOR/WHILE MANUAL"
   ]
  },
  {
   "cell_type": "code",
   "execution_count": 15,
   "metadata": {},
   "outputs": [
    {
     "data": {
      "text/plain": [
       "'141414'"
      ]
     },
     "execution_count": 15,
     "metadata": {},
     "output_type": "execute_result"
    }
   ],
   "source": [
    "pf"
   ]
  },
  {
   "cell_type": "code",
   "execution_count": 16,
   "metadata": {},
   "outputs": [
    {
     "data": {
      "text/plain": [
       "('1', '4')"
      ]
     },
     "execution_count": 16,
     "metadata": {},
     "output_type": "execute_result"
    }
   ],
   "source": [
    "# forcei aparecer os numeros desejados para a primeira volta\n",
    "pf[0:1], pf[1:2]"
   ]
  },
  {
   "cell_type": "code",
   "execution_count": 17,
   "metadata": {},
   "outputs": [
    {
     "data": {
      "text/plain": [
       "('14', '14')"
      ]
     },
     "execution_count": 17,
     "metadata": {},
     "output_type": "execute_result"
    }
   ],
   "source": [
    "# forcei aparecer os numeros desejados para segunda volta (se ela for necessária)\n",
    "pf[0:2], pf[2:4]"
   ]
  },
  {
   "cell_type": "code",
   "execution_count": 18,
   "metadata": {},
   "outputs": [
    {
     "data": {
      "text/plain": [
       "('141', '414')"
      ]
     },
     "execution_count": 18,
     "metadata": {},
     "output_type": "execute_result"
    }
   ],
   "source": [
    "# forcei aparecer os numeros desejados para terceira volta (se ela for necessária)\n",
    "pf[0:3], pf[3:6]"
   ]
  },
  {
   "cell_type": "code",
   "execution_count": 19,
   "metadata": {},
   "outputs": [
    {
     "name": "stdout",
     "output_type": "stream",
     "text": [
      "2\n"
     ]
    }
   ],
   "source": [
    "p = 1\n",
    "while True:\n",
    "    p_um, p_dois = pf[0:p], pf[p:2 * p]\n",
    "\n",
    "    # print(p_um, p_dois)\n",
    "\n",
    "    # if p == 3:\n",
    "    #     break\n",
    "\n",
    "    if p_um == p_dois:\n",
    "        break\n",
    "\n",
    "    p = p + 1\n",
    "\n",
    "print(p)"
   ]
  },
  {
   "cell_type": "code",
   "execution_count": 20,
   "metadata": {},
   "outputs": [
    {
     "data": {
      "text/plain": [
       "14"
      ]
     },
     "execution_count": 20,
     "metadata": {},
     "output_type": "execute_result"
    }
   ],
   "source": [
    "# o numerador da parte fracionária, convertido numa fração é obtido por: (OBSERVE A MODELAGEM)\n",
    "num_pf = int(pf[:p])\n",
    "num_pf"
   ]
  },
  {
   "cell_type": "code",
   "execution_count": 25,
   "metadata": {},
   "outputs": [
    {
     "data": {
      "text/plain": [
       "99"
      ]
     },
     "execution_count": 25,
     "metadata": {},
     "output_type": "execute_result"
    }
   ],
   "source": [
    "# o denominador da parte fracionária, convertida numa fração é obtido por: (OBSERVE A MODELAGEM)\n",
    "den_pf = 10 ** p - 1\n",
    "den_pf"
   ]
  },
  {
   "cell_type": "code",
   "execution_count": 26,
   "metadata": {},
   "outputs": [
    {
     "data": {
      "text/plain": [
       "311"
      ]
     },
     "execution_count": 26,
     "metadata": {},
     "output_type": "execute_result"
    }
   ],
   "source": [
    "# O numerador da fração final é dado por:\n",
    "numerador_final = den_pf * num_pi + num_pf\n",
    "numerador_final"
   ]
  },
  {
   "cell_type": "code",
   "execution_count": 27,
   "metadata": {},
   "outputs": [
    {
     "data": {
      "text/plain": [
       "99"
      ]
     },
     "execution_count": 27,
     "metadata": {},
     "output_type": "execute_result"
    }
   ],
   "source": [
    "# O denominador da fração final é dado por\n",
    "denominador_final = den_pf\n",
    "denominador_final"
   ]
  },
  {
   "cell_type": "code",
   "execution_count": 28,
   "metadata": {},
   "outputs": [
    {
     "data": {
      "text/plain": [
       "'311/99'"
      ]
     },
     "execution_count": 28,
     "metadata": {},
     "output_type": "execute_result"
    }
   ],
   "source": [
    "# resultado final do algoritmo!!!\n",
    "f\"{numerador_final}/{denominador_final}\""
   ]
  },
  {
   "cell_type": "code",
   "execution_count": 29,
   "metadata": {},
   "outputs": [
    {
     "data": {
      "text/plain": [
       "3.1414141414141414"
      ]
     },
     "execution_count": 29,
     "metadata": {},
     "output_type": "execute_result"
    }
   ],
   "source": [
    "# testando o resultado obtido:\n",
    "311/99"
   ]
  },
  {
   "cell_type": "code",
   "execution_count": 30,
   "metadata": {},
   "outputs": [
    {
     "data": {
      "text/plain": [
       "'5340/999'"
      ]
     },
     "execution_count": 30,
     "metadata": {},
     "output_type": "execute_result"
    }
   ],
   "source": [
    "# RESGATANDO TODOS OS PASSOS DESENVOLVIDOS, POR PARTES, E INSERINDO NUMA MESMA CÉLULA...\n",
    "\n",
    "numero_float = 5.345345345\n",
    "\n",
    "numero_string = str(numero_float)\n",
    "\n",
    "pi, pf = numero_string.split(\".\")\n",
    "\n",
    "num_pi = int(pi)\n",
    "\n",
    "p = 1\n",
    "while True:\n",
    "    p_um, p_dois = pf[0:p], pf[p:2 * p]\n",
    "\n",
    "    if p_um == p_dois:\n",
    "        break\n",
    "\n",
    "    p = p + 1\n",
    "\n",
    "num_pf = int(pf[:p])\n",
    "den_pf = 10 ** p - 1\n",
    "\n",
    "numerador_final = den_pf * num_pi + num_pf\n",
    "denominador_final = den_pf\n",
    "\n",
    "f\"{numerador_final}/{denominador_final}\""
   ]
  },
  {
   "cell_type": "code",
   "execution_count": 31,
   "metadata": {},
   "outputs": [
    {
     "data": {
      "text/plain": [
       "5.345345345345345"
      ]
     },
     "execution_count": 31,
     "metadata": {},
     "output_type": "execute_result"
    }
   ],
   "source": [
    "# testando a fracao acima...\n",
    "# a operação abaixo deve retornar o float que deu origem à fração final obtida...\n",
    "5340 / 999"
   ]
  },
  {
   "cell_type": "code",
   "execution_count": null,
   "metadata": {},
   "outputs": [],
   "source": []
  }
 ],
 "metadata": {
  "kernelspec": {
   "display_name": "venv_cpp",
   "language": "python",
   "name": "python3"
  },
  "language_info": {
   "codemirror_mode": {
    "name": "ipython",
    "version": 3
   },
   "file_extension": ".py",
   "mimetype": "text/x-python",
   "name": "python",
   "nbconvert_exporter": "python",
   "pygments_lexer": "ipython3",
   "version": "3.11.5"
  }
 },
 "nbformat": 4,
 "nbformat_minor": 2
}
