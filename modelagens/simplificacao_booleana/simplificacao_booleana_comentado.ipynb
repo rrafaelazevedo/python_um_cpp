{
 "cells": [
  {
   "cell_type": "code",
   "execution_count": 169,
   "metadata": {},
   "outputs": [
    {
     "data": {
      "text/plain": [
       "'in'"
      ]
     },
     "execution_count": 169,
     "metadata": {},
     "output_type": "execute_result"
    }
   ],
   "source": [
    "# configuração do tipo de cruzamento que a reta permite\n",
    "tipo_reta = \"in\"\n",
    "tipo_reta"
   ]
  },
  {
   "cell_type": "code",
   "execution_count": 170,
   "metadata": {},
   "outputs": [
    {
     "data": {
      "text/plain": [
       "0.5"
      ]
     },
     "execution_count": 170,
     "metadata": {},
     "output_type": "execute_result"
    }
   ],
   "source": [
    "# uma pessoa cruzou o vetor/reta de contagem com um cosseno do angulo igual a 0.5\n",
    "cosseno = 0.5\n",
    "cosseno"
   ]
  },
  {
   "cell_type": "code",
   "execution_count": 171,
   "metadata": {},
   "outputs": [
    {
     "data": {
      "text/plain": [
       "True"
      ]
     },
     "execution_count": 171,
     "metadata": {},
     "output_type": "execute_result"
    }
   ],
   "source": [
    "# a variável 'A' é True se a configuração da reta for 'in' e False se não for ('out' ou 'both')\n",
    "A = tipo_reta == \"in\"\n",
    "A"
   ]
  },
  {
   "cell_type": "code",
   "execution_count": 172,
   "metadata": {},
   "outputs": [
    {
     "data": {
      "text/plain": [
       "False"
      ]
     },
     "execution_count": 172,
     "metadata": {},
     "output_type": "execute_result"
    }
   ],
   "source": [
    "# a variável 'B' é True se a configuração da reta for 'both' e False se não for ('in' ou 'out')\n",
    "B = tipo_reta == \"both\"\n",
    "B"
   ]
  },
  {
   "cell_type": "code",
   "execution_count": 173,
   "metadata": {},
   "outputs": [
    {
     "data": {
      "text/plain": [
       "False"
      ]
     },
     "execution_count": 173,
     "metadata": {},
     "output_type": "execute_result"
    }
   ],
   "source": [
    "# a variável 'C' é True se o cosseno do angulo for negativo (saiu) e False se for positivo (entrou)\n",
    "C = cosseno < 0\n",
    "C"
   ]
  },
  {
   "cell_type": "code",
   "execution_count": 174,
   "metadata": {},
   "outputs": [],
   "source": [
    "# a operação 'xor' não é nativa do python, então é necessário importar a função\n",
    "from operator import xor"
   ]
  },
  {
   "cell_type": "code",
   "execution_count": 175,
   "metadata": {},
   "outputs": [
    {
     "data": {
      "text/plain": [
       "True"
      ]
     },
     "execution_count": 175,
     "metadata": {},
     "output_type": "execute_result"
    }
   ],
   "source": [
    "S = (not B) and xor(A, C) or (not A) and B\n",
    "S"
   ]
  },
  {
   "cell_type": "code",
   "execution_count": 176,
   "metadata": {},
   "outputs": [
    {
     "name": "stdout",
     "output_type": "stream",
     "text": [
      "Considerar este ocorrido no relatorio final!!!\n"
     ]
    }
   ],
   "source": [
    "# otimização booleana\n",
    "if S == True:\n",
    "    print(\"Considerar este ocorrido no relatorio final!!!\")\n",
    "else:\n",
    "    print(\"NÃO considerar este fato no relatório final!!!\")"
   ]
  },
  {
   "cell_type": "code",
   "execution_count": 177,
   "metadata": {},
   "outputs": [
    {
     "name": "stdout",
     "output_type": "stream",
     "text": [
      "Considerar este ocorrido no relatorio final!!!\n"
     ]
    }
   ],
   "source": [
    "# NÃO otimização booleana\n",
    "if A and (not B) and (not C) \\\n",
    "   or \\\n",
    "   (not A) and B and (not C) \\\n",
    "   or \\\n",
    "   (not A) and (not B) and C \\\n",
    "   or \\\n",
    "   (not A) and B and C:\n",
    "    print(\"Considerar este ocorrido no relatorio final!!!\")\n",
    "else:\n",
    "    print(\"NÃO considerar este fato no relatório final!!!\")"
   ]
  }
 ],
 "metadata": {
  "kernelspec": {
   "display_name": "venv_cpp",
   "language": "python",
   "name": "python3"
  },
  "language_info": {
   "codemirror_mode": {
    "name": "ipython",
    "version": 3
   },
   "file_extension": ".py",
   "mimetype": "text/x-python",
   "name": "python",
   "nbconvert_exporter": "python",
   "pygments_lexer": "ipython3",
   "version": "3.11.4"
  }
 },
 "nbformat": 4,
 "nbformat_minor": 2
}
