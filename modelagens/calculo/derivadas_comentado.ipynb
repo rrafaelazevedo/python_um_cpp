{
 "cells": [
  {
   "cell_type": "code",
   "execution_count": 1,
   "metadata": {},
   "outputs": [],
   "source": [
    "# função para encontrar pontos de mínimo e máximo de uma função f(x) = x^2\n",
    "f = lambda x: x ** 2\n",
    "\n",
    "# trecho de pesquisa para encontrar os pontos de mínimo e máximo (vértices)\n",
    "a = -10\n",
    "b = 10"
   ]
  },
  {
   "cell_type": "markdown",
   "metadata": {},
   "source": [
    "### A estratégia adotada foi criar ``duas derivadas`` (tangentes) para cada iteração. Se as duas derivadas tiverem ``sinais iguais``, então ``não`` há um vértice entre os intervalos das derivadas. Se as duas derivadas tiverem ``sinais diferentes``, então ``há`` um vértice entre os intervalos das derivadas. Se a primeira derivada for ``negativa`` e a segunda for ``positiva``, então o vértice é do tipo ``mínimo``. Se a primeira derivada for ``positiva`` e a segunda for ``negativa``, então o vértice é do tipo ``máximo``."
   ]
  },
  {
   "cell_type": "code",
   "execution_count": 12,
   "metadata": {},
   "outputs": [],
   "source": [
    "# passo dado entre as derivadas calculadas\n",
    "passo = 0.03"
   ]
  },
  {
   "cell_type": "code",
   "execution_count": 13,
   "metadata": {},
   "outputs": [],
   "source": [
    "from typing import Callable\n",
    "def derivada(f: Callable, x: float, dx: float = 1e-10):\n",
    "    return (f(x + dx) - f(x)) / dx"
   ]
  },
  {
   "cell_type": "code",
   "execution_count": 14,
   "metadata": {},
   "outputs": [
    {
     "name": "stdout",
     "output_type": "stream",
     "text": [
      "Foi encontrado um vértice no domínio [-0.010000000000020215, 0.019999999999979784]\n"
     ]
    }
   ],
   "source": [
    "x = a\n",
    "while x <= b:\n",
    "    x_tangente_um = x\n",
    "    x_tangente_dois = x_tangente_um + passo\n",
    "\n",
    "    tangente_um = derivada(f, x_tangente_um)    \n",
    "    tangente_dois = derivada(f, x_tangente_dois)\n",
    "\n",
    "    # sinal_t1 = \"-\" if tangente_um < 0 else \"+\"\n",
    "    if tangente_um < 0:\n",
    "        sinal_t1 = \"-\"\n",
    "    else:\n",
    "        sinal_t1 = \"+\"\n",
    "    \n",
    "    # sinal_t2 = \"-\" if tangente_dois < 0 else \"+\"\n",
    "    if tangente_dois < 0:\n",
    "        sinal_t2 = \"-\"\n",
    "    else:\n",
    "        sinal_t2 = \"+\"\n",
    "\n",
    "    if sinal_t1 != sinal_t2:\n",
    "        print(f\"Foi encontrado um vértice no domínio [{x_tangente_um}, {x_tangente_dois}]\")\n",
    "\n",
    "    x = x + passo"
   ]
  },
  {
   "cell_type": "code",
   "execution_count": 18,
   "metadata": {},
   "outputs": [],
   "source": [
    "def encontra_vertices(f: Callable, a: float, b: float, passo: float):\n",
    "    \"\"\"\n",
    "    Encontra os vértices de uma função f(x) no intervalo [a, b]\n",
    "\n",
    "    :param f: função a ser analisada para encontrar os vértices\n",
    "    :param a: início do intervalo de pesquisa\n",
    "    :param b: fim do intervalo de pesquisa\n",
    "    :param passo: passo entre as derivadas calculadas\n",
    "    \"\"\"\n",
    "\n",
    "    # se o usuário da função passar os valores de 'a' e 'b' de forma invertida (a > b),\n",
    "    # então trocamos os valores de 'a' e 'b' para que 'x' percorra de 'a' para 'b'.\n",
    "    # Se isso não fosse feito, o bloco 'while' abaixo não seria executado nenhuma vez, pois,\n",
    "    # 'x' já começaria em 'b'\n",
    "    if a > b:\n",
    "        a, b = b, a\n",
    "    \n",
    "\n",
    "    # se o usuário da função passar um objeto que não seja uma função, então levantamos um erro\n",
    "    # personalizado\n",
    "    if not callable(f):\n",
    "        raise ValueError(\"O parâmetro 'f' deve ser uma função\")\n",
    "\n",
    "    x = a\n",
    "    while x <= b:\n",
    "        x_tangente_um = x\n",
    "        x_tangente_dois = x_tangente_um + passo\n",
    "\n",
    "        # calcula a primeira inclinação da reta tangente\n",
    "        tangente_um = derivada(f, x_tangente_um)    \n",
    "\n",
    "        # calcula a segunda inclinação da reta tangente\n",
    "        tangente_dois = derivada(f, x_tangente_dois)\n",
    "\n",
    "        if tangente_um < 0:\n",
    "            sinal_t1 = \"-\"\n",
    "        else:\n",
    "            sinal_t1 = \"+\"\n",
    "        \n",
    "        if tangente_dois < 0:\n",
    "            sinal_t2 = \"-\"\n",
    "        else:\n",
    "            sinal_t2 = \"+\"\n",
    "\n",
    "        # se os sinais forem diferentes, então encontramos um vértice\n",
    "        if sinal_t1 != sinal_t2:\n",
    "            print(f\"Foi encontrado um vértice no domínio [{x_tangente_um}, {x_tangente_dois}]\")\n",
    "\n",
    "        x = x + passo"
   ]
  },
  {
   "cell_type": "code",
   "execution_count": 19,
   "metadata": {},
   "outputs": [
    {
     "name": "stdout",
     "output_type": "stream",
     "text": [
      "Foi encontrado um vértice no domínio [-0.010000000000020215, 0.019999999999979784]\n"
     ]
    }
   ],
   "source": [
    "# chamando a função 'encontra_vertices' com os parâmetros NOMEADOS\n",
    "encontra_vertices(f=lambda x: x ** 2, \n",
    "                  a=-10, \n",
    "                  b=10, \n",
    "                  passo=0.03)"
   ]
  },
  {
   "cell_type": "code",
   "execution_count": 20,
   "metadata": {},
   "outputs": [
    {
     "name": "stdout",
     "output_type": "stream",
     "text": [
      "Foi encontrado um vértice no domínio [-0.010000000000020215, 0.019999999999979784]\n"
     ]
    }
   ],
   "source": [
    "# chamando a função 'encontra_vertices' com os parâmetros POSICIONAIS\n",
    "encontra_vertices(lambda x: x ** 2, -10, 10, 0.03)"
   ]
  },
  {
   "cell_type": "code",
   "execution_count": 21,
   "metadata": {},
   "outputs": [
    {
     "ename": "ValueError",
     "evalue": "O parâmetro 'f' deve ser uma função",
     "output_type": "error",
     "traceback": [
      "\u001b[1;31m---------------------------------------------------------------------------\u001b[0m",
      "\u001b[1;31mValueError\u001b[0m                                Traceback (most recent call last)",
      "Cell \u001b[1;32mIn[21], line 2\u001b[0m\n\u001b[0;32m      1\u001b[0m \u001b[38;5;66;03m# chamando a função 'encontra_vertices' com passando 'f' NÃO-CHAMÁVEL\u001b[39;00m\n\u001b[1;32m----> 2\u001b[0m \u001b[43mencontra_vertices\u001b[49m\u001b[43m(\u001b[49m\u001b[38;5;241;43m10\u001b[39;49m\u001b[43m,\u001b[49m\u001b[43m \u001b[49m\u001b[38;5;241;43m-\u001b[39;49m\u001b[38;5;241;43m10\u001b[39;49m\u001b[43m,\u001b[49m\u001b[43m \u001b[49m\u001b[38;5;241;43m10\u001b[39;49m\u001b[43m,\u001b[49m\u001b[43m \u001b[49m\u001b[38;5;241;43m0.03\u001b[39;49m\u001b[43m)\u001b[49m\n",
      "Cell \u001b[1;32mIn[18], line 22\u001b[0m, in \u001b[0;36mencontra_vertices\u001b[1;34m(f, a, b, passo)\u001b[0m\n\u001b[0;32m     19\u001b[0m \u001b[38;5;66;03m# se o usuário da função passar um objeto que não seja uma função, então levantamos um erro\u001b[39;00m\n\u001b[0;32m     20\u001b[0m \u001b[38;5;66;03m# personalizado\u001b[39;00m\n\u001b[0;32m     21\u001b[0m \u001b[38;5;28;01mif\u001b[39;00m \u001b[38;5;129;01mnot\u001b[39;00m \u001b[38;5;28mcallable\u001b[39m(f):\n\u001b[1;32m---> 22\u001b[0m     \u001b[38;5;28;01mraise\u001b[39;00m \u001b[38;5;167;01mValueError\u001b[39;00m(\u001b[38;5;124m\"\u001b[39m\u001b[38;5;124mO parâmetro \u001b[39m\u001b[38;5;124m'\u001b[39m\u001b[38;5;124mf\u001b[39m\u001b[38;5;124m'\u001b[39m\u001b[38;5;124m deve ser uma função\u001b[39m\u001b[38;5;124m\"\u001b[39m)\n\u001b[0;32m     24\u001b[0m x \u001b[38;5;241m=\u001b[39m a\n\u001b[0;32m     25\u001b[0m \u001b[38;5;28;01mwhile\u001b[39;00m x \u001b[38;5;241m<\u001b[39m\u001b[38;5;241m=\u001b[39m b:\n",
      "\u001b[1;31mValueError\u001b[0m: O parâmetro 'f' deve ser uma função"
     ]
    }
   ],
   "source": [
    "# chamando a função 'encontra_vertices' com parâmetros NOMEADOS e POSICIONAIS\n",
    "# passando para o parametro 'f' um objeto NÃO-CHAMÁVEL\n",
    "encontra_vertices(10, a=-10, b=10, passo=0.03)"
   ]
  },
  {
   "cell_type": "code",
   "execution_count": null,
   "metadata": {},
   "outputs": [],
   "source": []
  }
 ],
 "metadata": {
  "kernelspec": {
   "display_name": "cpp",
   "language": "python",
   "name": "python3"
  },
  "language_info": {
   "codemirror_mode": {
    "name": "ipython",
    "version": 3
   },
   "file_extension": ".py",
   "mimetype": "text/x-python",
   "name": "python",
   "nbconvert_exporter": "python",
   "pygments_lexer": "ipython3",
   "version": "3.11.5"
  }
 },
 "nbformat": 4,
 "nbformat_minor": 2
}
