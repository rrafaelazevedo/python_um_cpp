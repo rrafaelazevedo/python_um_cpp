{
 "cells": [
  {
   "cell_type": "code",
   "execution_count": 1,
   "metadata": {},
   "outputs": [],
   "source": [
    "# expressão no formato MAS ('x' dos dois lados)\n",
    "f = lambda x: x / 2 + 1\n",
    "chute_inicial = 10"
   ]
  },
  {
   "cell_type": "code",
   "execution_count": 2,
   "metadata": {},
   "outputs": [
    {
     "data": {
      "text/plain": [
       "6.0"
      ]
     },
     "execution_count": 2,
     "metadata": {},
     "output_type": "execute_result"
    }
   ],
   "source": [
    "# testando o valor resultante da primeira iteração\n",
    "x = f(chute_inicial)\n",
    "x"
   ]
  },
  {
   "cell_type": "code",
   "execution_count": 56,
   "metadata": {},
   "outputs": [
    {
     "data": {
      "text/plain": [
       "2.0"
      ]
     },
     "execution_count": 56,
     "metadata": {},
     "output_type": "execute_result"
    }
   ],
   "source": [
    "# rodar esta célula várias vezes para ver a convergência\n",
    "x = f(x)\n",
    "x"
   ]
  },
  {
   "cell_type": "code",
   "execution_count": 57,
   "metadata": {},
   "outputs": [],
   "source": [
    "# para fazer um laço de repetição, valos usar o 'while'\n",
    "qtd_iteracoes = 100"
   ]
  },
  {
   "cell_type": "code",
   "execution_count": 58,
   "metadata": {},
   "outputs": [
    {
     "data": {
      "text/plain": [
       "10"
      ]
     },
     "execution_count": 58,
     "metadata": {},
     "output_type": "execute_result"
    }
   ],
   "source": [
    "# checando o valor dentro da variável 'x'\n",
    "chute_inicial"
   ]
  },
  {
   "cell_type": "code",
   "execution_count": 59,
   "metadata": {},
   "outputs": [
    {
     "data": {
      "text/plain": [
       "2.0"
      ]
     },
     "execution_count": 59,
     "metadata": {},
     "output_type": "execute_result"
    }
   ],
   "source": [
    "# contador de iterações (variável de controle do laço de repetição)\n",
    "i = 0\n",
    "\n",
    "# calcula o primeiro valor antes de começar o laço de repetição\n",
    "x = f(chute_inicial)\n",
    "while i <= qtd_iteracoes:\n",
    "    # atualiza o valor de 'x' até que 'i' seja maior que 'qtd_iteracoes'\n",
    "    x = f(x)\n",
    "\n",
    "    # incrementa o contador\n",
    "    i += 1\n",
    "\n",
    "x"
   ]
  },
  {
   "cell_type": "code",
   "execution_count": 62,
   "metadata": {},
   "outputs": [],
   "source": [
    "from typing import Callable"
   ]
  },
  {
   "cell_type": "code",
   "execution_count": 70,
   "metadata": {},
   "outputs": [],
   "source": [
    "# criando uma função para endereçar os comandos do modelo 'mas' do \n",
    "# tipo simples (apenas o chute inicial é necessário para chamar a função 'f')\n",
    "def mas_simples(f: Callable, chute_inicial: int | float, \n",
    "                qtd_iteracoes: int = 100) -> int | float:\n",
    "\n",
    "    \"\"\"\n",
    "    Função computacional para encontrar a raiz de uma \n",
    "    função matematica 'f' por meio da metodologia MAS.\n",
    "\n",
    "    Args:\n",
    "    f: função matemática \n",
    "    chute_inicial: valor inicial para as iterações\n",
    "\n",
    "    return: raiz da função\n",
    "    \"\"\"\n",
    "    \n",
    "    i = 0\n",
    "    x = chute_inicial\n",
    "    while i <= qtd_iteracoes:\n",
    "        x = f(x)\n",
    "        i += 1\n",
    "    \n",
    "    return x"
   ]
  },
  {
   "cell_type": "code",
   "execution_count": 71,
   "metadata": {},
   "outputs": [
    {
     "data": {
      "text/plain": [
       "2.0"
      ]
     },
     "execution_count": 71,
     "metadata": {},
     "output_type": "execute_result"
    }
   ],
   "source": [
    "# testando a função 'mas_simples'\n",
    "chute_inicial = 10\n",
    "f = lambda x: x / 2 + 1\n",
    "mas_simples(f, chute_inicial, qtd_iteracoes)"
   ]
  },
  {
   "cell_type": "code",
   "execution_count": 72,
   "metadata": {},
   "outputs": [
    {
     "data": {
      "text/plain": [
       "7.38905609893065"
      ]
     },
     "execution_count": 72,
     "metadata": {},
     "output_type": "execute_result"
    }
   ],
   "source": [
    "import math\n",
    "\n",
    "# só para ver que realmente se trada da constante 'e'\n",
    "math.exp(2)   # 'e' ao quadrado"
   ]
  },
  {
   "cell_type": "code",
   "execution_count": 73,
   "metadata": {},
   "outputs": [],
   "source": [
    "# cria a função 'f' para encontrar a raiz\n",
    "f = lambda x: -math.exp(x) / 2"
   ]
  },
  {
   "cell_type": "code",
   "execution_count": 74,
   "metadata": {},
   "outputs": [
    {
     "data": {
      "text/plain": [
       "-0.35173371124919584"
      ]
     },
     "execution_count": 74,
     "metadata": {},
     "output_type": "execute_result"
    }
   ],
   "source": [
    "# testando a função 'mas_simples' com a função 'f' e o chute inicial '10'\n",
    "mas_simples(f, chute_inicial)"
   ]
  },
  {
   "cell_type": "markdown",
   "metadata": {},
   "source": [
    "---\n",
    "# Agora, vamos encontrar o modelo MAS para calcular a raiz `quadrada` de um número `R`"
   ]
  },
  {
   "cell_type": "code",
   "execution_count": 75,
   "metadata": {},
   "outputs": [
    {
     "data": {
      "text/plain": [
       "2.23606797749979"
      ]
     },
     "execution_count": 75,
     "metadata": {},
     "output_type": "execute_result"
    }
   ],
   "source": [
    "# função no formato MAS ('x' dos dois lados)\n",
    "f = lambda x, r: 1/2 * (r / x + x)\n",
    "\n",
    "# número que a raiz quadrada será calculada\n",
    "r = 5\n",
    "\n",
    "# chute inicial\n",
    "chute_inicial = 10\n",
    "\n",
    "# contador de iterações (variável de controle do laço de repetição)\n",
    "i = 0\n",
    "\n",
    "# calcula o primeiro valor antes de começar o laço de repetição\n",
    "x = f(chute_inicial, r)\n",
    "while i <= qtd_iteracoes:\n",
    "\n",
    "    # atualiza o valor de 'x' até que 'i' seja maior que 'qtd_iteracoes'\n",
    "    x = f(x, r)\n",
    "\n",
    "    # incrementa o contador\n",
    "    i += 1\n",
    "\n",
    "# testa o valor final das iterações (deve ser a raiz quadrada de 'r')\n",
    "x"
   ]
  },
  {
   "cell_type": "code",
   "execution_count": 77,
   "metadata": {},
   "outputs": [],
   "source": [
    "# endereçando os comandos do modelo 'mas' do tipo raiz quadrada\n",
    "def mas_raiz_quadrada(f, r, chute_inicial, qtd_iteracoes=100):\n",
    "    \"\"\"\n",
    "    Args:\n",
    "    f: função que representa a equação que se deseja resolver\n",
    "    r: número cuja raiz se deseja encontrar\n",
    "    chute_inicial: valor inicial para a as iterações\n",
    "\n",
    "    return: a raiz quadrada de r\n",
    "    \"\"\"\n",
    "\n",
    "    i = 0\n",
    "    x = f(chute_inicial, r)\n",
    "    while i <= qtd_iteracoes:\n",
    "        x = f(x, r)\n",
    "        i += 1\n",
    "\n",
    "    return x"
   ]
  },
  {
   "cell_type": "code",
   "execution_count": 79,
   "metadata": {},
   "outputs": [
    {
     "data": {
      "text/plain": [
       "1.414213562373095"
      ]
     },
     "execution_count": 79,
     "metadata": {},
     "output_type": "execute_result"
    }
   ],
   "source": [
    "mas_raiz_quadrada(f, r=2, chute_inicial=10)"
   ]
  },
  {
   "cell_type": "markdown",
   "metadata": {},
   "source": [
    "---\n",
    "# Agora, vamos encontrar o modelo MAS para calcular a raiz `iésima` de um número `R`"
   ]
  },
  {
   "cell_type": "code",
   "execution_count": 80,
   "metadata": {},
   "outputs": [
    {
     "data": {
      "text/plain": [
       "1.259921049894873"
      ]
     },
     "execution_count": 80,
     "metadata": {},
     "output_type": "execute_result"
    }
   ],
   "source": [
    "# função no formato MAS ('x' dos dois lados)\n",
    "f = lambda x, r, i: 1/2 * (r / x ** (i - 1) + x)\n",
    "\n",
    "# chute inicial\n",
    "chute_inicial = 10\n",
    "\n",
    "# número que a raiz será calculada\n",
    "r = 2\n",
    "\n",
    "# índice da raiz que será calculada sobre o número 'r'\n",
    "indice_raiz = 3\n",
    "\n",
    "# contador de iterações (variável de controle do laço de repetição)\n",
    "i = 0\n",
    "\n",
    "# calcula o primeiro valor antes de começar o laço de repetição\n",
    "x = f(chute_inicial, r, indice_raiz)\n",
    "while i <= qtd_iteracoes:\n",
    "\n",
    "    # atualiza o valor de 'x' até que 'i' seja maior que 'qtd_iteracoes'\n",
    "    x = f(x, r, indice_raiz)\n",
    "\n",
    "    # incrementa o contador\n",
    "    i += 1\n",
    "\n",
    "# testa o valor final das iterações (deve ser a raiz 'i-ésima' de 'r')\n",
    "x"
   ]
  },
  {
   "cell_type": "code",
   "execution_count": 81,
   "metadata": {},
   "outputs": [],
   "source": [
    "def mas_raiz_iesima(f, r, chute_inicial, \n",
    "                    indice_raiz, qtd_iteracoes=100):\n",
    "    \n",
    "    \"\"\"\n",
    "    Args:\n",
    "    f: função que representa a equação que se deseja resolver (no caso, \n",
    "    a raiz dessa função representa a raiz 'i-ésima' de 'r')\n",
    "    r: número cuja raiz se deseja encontrar\n",
    "    chute_inicial: valor inicial para as iterações\n",
    "    indice_raiz: índice da raiz que será calculada sobre o número 'r'\n",
    "\n",
    "    return: a raiz 'i-ésima' de r\n",
    "    \"\"\"\n",
    "\n",
    "    i = 0\n",
    "    x = chute_inicial\n",
    "    while i <= qtd_iteracoes:\n",
    "        x = f(x=x, r=r, i=indice_raiz)\n",
    "        i += 1\n",
    "    \n",
    "    return x"
   ]
  },
  {
   "cell_type": "code",
   "execution_count": 82,
   "metadata": {},
   "outputs": [
    {
     "data": {
      "text/plain": [
       "1.2599210498948734"
      ]
     },
     "execution_count": 82,
     "metadata": {},
     "output_type": "execute_result"
    }
   ],
   "source": [
    "r = 2\n",
    "indice_raiz = 3\n",
    "chute_inicial = 10\n",
    "mas_raiz_iesima(f, r, chute_inicial, indice_raiz)"
   ]
  },
  {
   "cell_type": "markdown",
   "metadata": {},
   "source": [
    "---\n",
    "# Para criar uma função `independente` do número de argumentos da função `f`, é necessário usar o conceito de `agrupar` e `desagrupar` argumentos."
   ]
  },
  {
   "cell_type": "code",
   "execution_count": 83,
   "metadata": {},
   "outputs": [],
   "source": [
    "# * e ** agrupando parametros posionais e nomeados, respectivamente,\n",
    "# para a tupla (args) e o dicionario (kwargs)\n",
    "def teste(*args, **kwargs):\n",
    "    print(args)\n",
    "    print(kwargs)"
   ]
  },
  {
   "cell_type": "code",
   "execution_count": 84,
   "metadata": {},
   "outputs": [
    {
     "name": "stdout",
     "output_type": "stream",
     "text": [
      "(2, 3, 4)\n",
      "{'a': 7, 'b': 10}\n"
     ]
    }
   ],
   "source": [
    "# os parametros posicionais (2, 3 e 4) serão agrupados na tupla 'args'\n",
    "# e os parametros nomeados (a=7 e b=10) serão agrupados no dicionário 'kwargs'\n",
    "teste(2, 3, 4, a=7, b=10)"
   ]
  },
  {
   "cell_type": "code",
   "execution_count": 85,
   "metadata": {},
   "outputs": [],
   "source": [
    "# quando a função não apresenta agrupamento de parâmetros\n",
    "def outro_teste(a, b):\n",
    "    return a + b"
   ]
  },
  {
   "cell_type": "code",
   "execution_count": 86,
   "metadata": {},
   "outputs": [
    {
     "data": {
      "text/plain": [
       "3"
      ]
     },
     "execution_count": 86,
     "metadata": {},
     "output_type": "execute_result"
    }
   ],
   "source": [
    "# 'desagrupando' uma lista para invocar a função 'outro_teste'\n",
    "lista = [1, 2]\n",
    "outro_teste(*lista)"
   ]
  },
  {
   "cell_type": "code",
   "execution_count": 87,
   "metadata": {},
   "outputs": [
    {
     "data": {
      "text/plain": [
       "3"
      ]
     },
     "execution_count": 87,
     "metadata": {},
     "output_type": "execute_result"
    }
   ],
   "source": [
    "# 'desagrupando' uma tupla para invocar a função 'outro_teste'\n",
    "tupla = (1, 2)\n",
    "outro_teste(*tupla)"
   ]
  },
  {
   "cell_type": "code",
   "execution_count": 88,
   "metadata": {},
   "outputs": [
    {
     "data": {
      "text/plain": [
       "3"
      ]
     },
     "execution_count": 88,
     "metadata": {},
     "output_type": "execute_result"
    }
   ],
   "source": [
    "# 'desagrupando' um dicionario para invocar a função 'outro_teste'\n",
    "dicionario = {\"a\":1, \"b\":2}\n",
    "outro_teste(**dicionario)"
   ]
  },
  {
   "cell_type": "code",
   "execution_count": 91,
   "metadata": {},
   "outputs": [],
   "source": [
    "def mas(f, chute_inicial, parametros_f: list, qtd_iteracoes: int = 100):\n",
    "\n",
    "    \"\"\"\n",
    "    Args:\n",
    "    f: função que representa a equação que se deseja resolver\n",
    "    parametros_f: lista de parametros para a função 'f'\n",
    "    qtd_iteracoes: quantidade de iterações\n",
    "\n",
    "    return: resultado da função 'f' após 'qtd_iteracoes'\n",
    "    \"\"\"\n",
    "\n",
    "    # contador de iterações (variável de controle do laço de repetição)\n",
    "    i = 0\n",
    "\n",
    "    # calcula o primeiro valor antes de começar o laço de repetição\n",
    "    x = f(chute_inicial, *parametros_f)\n",
    "    while i <= qtd_iteracoes:\n",
    "        # atualiza o valor de 'x' até que 'i' seja maior que 'qtd_iteracoes'\n",
    "        x = f(x, *parametros_f)\n",
    "\n",
    "        # incrementa o contador\n",
    "        i += 1\n",
    "    \n",
    "    # retorna o valor final das iterações\n",
    "    return x"
   ]
  },
  {
   "cell_type": "code",
   "execution_count": 92,
   "metadata": {},
   "outputs": [
    {
     "data": {
      "text/plain": [
       "2.23606797749979"
      ]
     },
     "execution_count": 92,
     "metadata": {},
     "output_type": "execute_result"
    }
   ],
   "source": [
    "f = lambda x, r, indice_raiz: 1/2 * (r / x ** (indice_raiz - 1) + x)\n",
    "parametros = [5, 2]\n",
    "chute_inicial = 10\n",
    "mas(f, chute_inicial, parametros, qtd_iteracoes=1000)"
   ]
  },
  {
   "cell_type": "code",
   "execution_count": 93,
   "metadata": {},
   "outputs": [
    {
     "data": {
      "text/plain": [
       "-0.35173371124919584"
      ]
     },
     "execution_count": 93,
     "metadata": {},
     "output_type": "execute_result"
    }
   ],
   "source": [
    "f = lambda x: -math.exp(x) / 2\n",
    "parametros = []\n",
    "chute_inicial = 10\n",
    "mas(f, chute_inicial, parametros, qtd_iteracoes=1000)"
   ]
  },
  {
   "cell_type": "code",
   "execution_count": null,
   "metadata": {},
   "outputs": [],
   "source": []
  }
 ],
 "metadata": {
  "kernelspec": {
   "display_name": "venv_cpp",
   "language": "python",
   "name": "python3"
  },
  "language_info": {
   "codemirror_mode": {
    "name": "ipython",
    "version": 3
   },
   "file_extension": ".py",
   "mimetype": "text/x-python",
   "name": "python",
   "nbconvert_exporter": "python",
   "pygments_lexer": "ipython3",
   "version": "3.11.5"
  }
 },
 "nbformat": 4,
 "nbformat_minor": 2
}
