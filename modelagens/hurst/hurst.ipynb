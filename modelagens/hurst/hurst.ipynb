{
 "cells": [
  {
   "cell_type": "code",
   "execution_count": 1,
   "metadata": {},
   "outputs": [],
   "source": [
    "import statistics\n",
    "import math\n",
    "from mmq import metodo_minimos_quadrados\n",
    "import numpy as np"
   ]
  },
  {
   "cell_type": "code",
   "execution_count": null,
   "metadata": {},
   "outputs": [],
   "source": [
    "print(\"hurst\")"
   ]
  },
  {
   "cell_type": "code",
   "execution_count": 2,
   "metadata": {},
   "outputs": [
    {
     "data": {
      "text/plain": [
       "[1, 4, 9, 8, 5, 0, 2, 6, 8, 4, 5]"
      ]
     },
     "execution_count": 2,
     "metadata": {},
     "output_type": "execute_result"
    }
   ],
   "source": [
    "serie_dados = [1, 4, 9, 8, 5, 0, 2, 6, 8, 4, 5]\n",
    "serie_dados"
   ]
  },
  {
   "cell_type": "code",
   "execution_count": 3,
   "metadata": {},
   "outputs": [
    {
     "data": {
      "text/plain": [
       "9"
      ]
     },
     "execution_count": 3,
     "metadata": {},
     "output_type": "execute_result"
    }
   ],
   "source": [
    "serie_dados[2]"
   ]
  },
  {
   "cell_type": "code",
   "execution_count": 5,
   "metadata": {},
   "outputs": [
    {
     "data": {
      "text/plain": [
       "[2, 4, 8, 11]"
      ]
     },
     "execution_count": 5,
     "metadata": {},
     "output_type": "execute_result"
    }
   ],
   "source": [
    "sequencia_N = [2, 4, 8, 11]\n",
    "sequencia_N"
   ]
  },
  {
   "cell_type": "code",
   "execution_count": 6,
   "metadata": {},
   "outputs": [
    {
     "name": "stdout",
     "output_type": "stream",
     "text": [
      "[1.0, 2.0, 3.0, 3.4594316186372973]\n",
      "[0.0, 0.9061864984121143, 1.5462399594159157, 1.4818931302529683]\n"
     ]
    }
   ],
   "source": [
    "serie_dominus = []\n",
    "serie_functus = []\n",
    "for N in sequencia_N:\n",
    "    # print(serie_dados[:N])\n",
    "\n",
    "    dados = serie_dados[:N]\n",
    "    # print(dados)\n",
    "\n",
    "    media_N = statistics.mean(dados)\n",
    "    dp_N = statistics.pstdev(dados)\n",
    "\n",
    "    # print(media_N, dp_N)\n",
    "\n",
    "    colecao_y = [0]\n",
    "    for n in range(N):\n",
    "        # print(n, dados[n])\n",
    "        subtracao = dados[n] - media_N\n",
    "        y = subtracao + colecao_y[-1]\n",
    "        colecao_y.append(y)\n",
    "    \n",
    "    # print(colecao_y)\n",
    "    # print(\"-\" * 100)\n",
    "\n",
    "    colecao_y.pop(0)\n",
    "    # print(colecao_y)\n",
    "\n",
    "    max_y = max(colecao_y)\n",
    "    min_y = min(colecao_y)\n",
    "    range_N = max_y - min_y\n",
    "\n",
    "    # print(range_N)\n",
    "\n",
    "    log_N = math.log2(N)\n",
    "    log_r_dp = math.log2(range_N / dp_N)\n",
    "\n",
    "    # print(log_N, log_r_dp)\n",
    "\n",
    "    serie_dominus.append(log_N)\n",
    "    serie_functus.append(log_r_dp)\n",
    "\n",
    "print(serie_dominus)\n",
    "print(serie_functus)"
   ]
  },
  {
   "cell_type": "code",
   "execution_count": 7,
   "metadata": {},
   "outputs": [],
   "source": [
    "arr_dominus = np.array(serie_dominus)\n",
    "arr_functus = np.array(serie_functus)"
   ]
  },
  {
   "cell_type": "code",
   "execution_count": 14,
   "metadata": {},
   "outputs": [
    {
     "data": {
      "text/plain": [
       "array([1.        , 2.        , 3.        , 3.45943162])"
      ]
     },
     "execution_count": 14,
     "metadata": {},
     "output_type": "execute_result"
    }
   ],
   "source": [
    "arr_dominus"
   ]
  },
  {
   "cell_type": "code",
   "execution_count": 9,
   "metadata": {},
   "outputs": [
    {
     "data": {
      "text/plain": [
       "array([0.        , 0.9061865 , 1.54623996, 1.48189313])"
      ]
     },
     "execution_count": 9,
     "metadata": {},
     "output_type": "execute_result"
    }
   ],
   "source": [
    "arr_functus"
   ]
  },
  {
   "cell_type": "code",
   "execution_count": 13,
   "metadata": {},
   "outputs": [
    {
     "data": {
      "text/plain": [
       "array([ 0.63197281, -0.51094599])"
      ]
     },
     "execution_count": 13,
     "metadata": {},
     "output_type": "execute_result"
    }
   ],
   "source": [
    "coefs = metodo_minimos_quadrados.mmq(\n",
    "    arr_dominus,\n",
    "    arr_functus,\n",
    "    1)\n",
    "\n",
    "coefs"
   ]
  },
  {
   "cell_type": "code",
   "execution_count": 15,
   "metadata": {},
   "outputs": [
    {
     "name": "stdout",
     "output_type": "stream",
     "text": [
      "O coeficiente de Hurst é: 0.631972808594316\n"
     ]
    }
   ],
   "source": [
    "print(f\"O coeficiente de Hurst é: {coefs[0]}\")"
   ]
  },
  {
   "cell_type": "code",
   "execution_count": 16,
   "metadata": {},
   "outputs": [],
   "source": [
    "def gerar_sequencia_N(serie_dados):\n",
    "    \n",
    "    comprimento_lista = len(serie_dados)\n",
    "    \n",
    "    sequencia_N = []\n",
    "    \n",
    "    valor = 2\n",
    "    \n",
    "    while valor <= comprimento_lista:\n",
    "        sequencia_N.append(valor)\n",
    "        valor *= 2\n",
    "    \n",
    "    if max(sequencia_N) < comprimento_lista:\n",
    "        sequencia_N.append(comprimento_lista)\n",
    "    \n",
    "    return sequencia_N"
   ]
  },
  {
   "cell_type": "code",
   "execution_count": 19,
   "metadata": {},
   "outputs": [
    {
     "data": {
      "text/plain": [
       "[2, 4, 8, 9]"
      ]
     },
     "execution_count": 19,
     "metadata": {},
     "output_type": "execute_result"
    }
   ],
   "source": [
    "gerar_sequencia_N(serie_dados=np.array([2, 7, 1, 7, 2, 5, 8, 5, 3]))"
   ]
  },
  {
   "cell_type": "code",
   "execution_count": 48,
   "metadata": {},
   "outputs": [],
   "source": [
    "def hurst(serie_dados: list | np.ndarray) -> float:\n",
    "    \"\"\"\n",
    "    Esta função calcula o coeficiente de aleatoriedade da series\n",
    "    de dados fornecida no parametro 'serie_dados'.\n",
    "\n",
    "    param.:\n",
    "    series_dados: serie para calcular o coef. de aleatoriedade\n",
    "\n",
    "    return:\n",
    "    esta funcao retorna uma objeto do tipo float que representa a alea\n",
    "    \"\"\"\n",
    "\n",
    "    sequencia_N = gerar_sequencia_N(serie_dados)\n",
    "    \n",
    "    serie_dominus = []\n",
    "    serie_functus = []\n",
    "    for N in sequencia_N:\n",
    "        dados = serie_dados[:N]\n",
    "        \n",
    "        media_N = statistics.mean(dados)\n",
    "        dp_N = statistics.pstdev(dados)\n",
    "\n",
    "        if dp_N == 0:\n",
    "            continue\n",
    "\n",
    "        colecao_y = [0]\n",
    "        for n in range(N):\n",
    "            subtracao = dados[n] - media_N\n",
    "            y = subtracao + colecao_y[-1]\n",
    "            colecao_y.append(y)\n",
    "\n",
    "        colecao_y.pop(0)\n",
    "\n",
    "        max_y = max(colecao_y)\n",
    "        min_y = min(colecao_y)\n",
    "        range_N = max_y - min_y\n",
    "\n",
    "        log_N = math.log2(N)\n",
    "        log_r_dp = math.log2(range_N / dp_N)\n",
    "\n",
    "        serie_dominus.append(log_N)\n",
    "        serie_functus.append(log_r_dp)\n",
    "\n",
    "    if serie_dominus == [] or serie_functus == []:\n",
    "        return 1\n",
    "\n",
    "    if len(serie_dominus) == 1 or len(serie_functus) == 1:\n",
    "        raise Exception(\"\"\"Sua série de dados possui muito pouca variação\n",
    "                            de dados. Somente um ponto foi gerado\"\"\")\n",
    "\n",
    "    arr_dominus = np.array(serie_dominus)\n",
    "    arr_functus = np.array(serie_functus)\n",
    "\n",
    "    coefs = metodo_minimos_quadrados.mmq(\n",
    "        arr_dominus,\n",
    "        arr_functus,\n",
    "        1)\n",
    "    \n",
    "    return coefs[0]"
   ]
  },
  {
   "cell_type": "code",
   "execution_count": 53,
   "metadata": {},
   "outputs": [
    {
     "data": {
      "text/plain": [
       "0.8442306028037387"
      ]
     },
     "execution_count": 53,
     "metadata": {},
     "output_type": "execute_result"
    }
   ],
   "source": [
    "hurst([2, 5, 8, 3, 2])"
   ]
  }
 ],
 "metadata": {
  "kernelspec": {
   "display_name": "venv_cpp",
   "language": "python",
   "name": "python3"
  },
  "language_info": {
   "codemirror_mode": {
    "name": "ipython",
    "version": 3
   },
   "file_extension": ".py",
   "mimetype": "text/x-python",
   "name": "python",
   "nbconvert_exporter": "python",
   "pygments_lexer": "ipython3",
   "version": "3.11.5"
  }
 },
 "nbformat": 4,
 "nbformat_minor": 2
}
