{
 "cells": [
  {
   "cell_type": "code",
   "execution_count": 1,
   "metadata": {},
   "outputs": [],
   "source": [
    "import numpy as np"
   ]
  },
  {
   "cell_type": "code",
   "execution_count": 2,
   "metadata": {},
   "outputs": [],
   "source": [
    "g = 2"
   ]
  },
  {
   "cell_type": "code",
   "execution_count": 3,
   "metadata": {},
   "outputs": [
    {
     "data": {
      "text/plain": [
       "array([1, 2, 3])"
      ]
     },
     "execution_count": 3,
     "metadata": {},
     "output_type": "execute_result"
    }
   ],
   "source": [
    "entradas = np.array(object=[1, 2, 3])\n",
    "entradas"
   ]
  },
  {
   "cell_type": "code",
   "execution_count": 4,
   "metadata": {},
   "outputs": [
    {
     "data": {
      "text/plain": [
       "array([ 6, 12, 20])"
      ]
     },
     "execution_count": 4,
     "metadata": {},
     "output_type": "execute_result"
    }
   ],
   "source": [
    "saidas = np.array(object=[6, 12, 20])\n",
    "saidas"
   ]
  },
  {
   "cell_type": "code",
   "execution_count": 5,
   "metadata": {},
   "outputs": [
    {
     "data": {
      "text/plain": [
       "array([[0., 0., 0.],\n",
       "       [0., 0., 0.],\n",
       "       [0., 0., 0.]])"
      ]
     },
     "execution_count": 5,
     "metadata": {},
     "output_type": "execute_result"
    }
   ],
   "source": [
    "matriz_coefs = np.zeros(shape=(g+1, g+1))\n",
    "matriz_coefs"
   ]
  },
  {
   "cell_type": "code",
   "execution_count": 6,
   "metadata": {},
   "outputs": [
    {
     "data": {
      "text/plain": [
       "array([0., 0., 0.])"
      ]
     },
     "execution_count": 6,
     "metadata": {},
     "output_type": "execute_result"
    }
   ],
   "source": [
    "matriz_resultados = np.zeros(shape=g + 1)\n",
    "matriz_resultados"
   ]
  },
  {
   "cell_type": "code",
   "execution_count": 7,
   "metadata": {},
   "outputs": [
    {
     "data": {
      "text/plain": [
       "array([0., 0., 0., 0., 0.])"
      ]
     },
     "execution_count": 7,
     "metadata": {},
     "output_type": "execute_result"
    }
   ],
   "source": [
    "matriz_somatorios = np.zeros(shape=2 * g + 1)\n",
    "matriz_somatorios"
   ]
  },
  {
   "cell_type": "code",
   "execution_count": 10,
   "metadata": {},
   "outputs": [
    {
     "name": "stdout",
     "output_type": "stream",
     "text": [
      "[ 1 16 81]\n",
      "[ 1  8 27]\n",
      "[1 4 9]\n",
      "[1 2 3]\n",
      "[1 1 1]\n"
     ]
    }
   ],
   "source": [
    "for i in range(2 * g + 1, 0, -1):\n",
    "    \n",
    "    # print(i - 1)\n",
    "    print(entradas ** (i - 1))"
   ]
  },
  {
   "cell_type": "code",
   "execution_count": 15,
   "metadata": {},
   "outputs": [
    {
     "data": {
      "text/plain": [
       "array([ 3.,  6., 14., 36., 98.])"
      ]
     },
     "execution_count": 15,
     "metadata": {},
     "output_type": "execute_result"
    }
   ],
   "source": [
    "for i in range(2 * g, -1, -1):\n",
    "    # print(i)\n",
    "    # print(entradas ** i)\n",
    "    # print((entradas ** i).sum())\n",
    "    matriz_somatorios[i] = (entradas ** i).sum()\n",
    "\n",
    "matriz_somatorios"
   ]
  },
  {
   "cell_type": "code",
   "execution_count": 16,
   "metadata": {},
   "outputs": [
    {
     "data": {
      "text/plain": [
       "array([98., 36., 14.,  6.,  3.])"
      ]
     },
     "execution_count": 16,
     "metadata": {},
     "output_type": "execute_result"
    }
   ],
   "source": [
    "matriz_somatorios[::-1]"
   ]
  },
  {
   "cell_type": "code",
   "execution_count": 17,
   "metadata": {},
   "outputs": [
    {
     "data": {
      "text/plain": [
       "array([98., 36., 14.,  6.,  3.])"
      ]
     },
     "execution_count": 17,
     "metadata": {},
     "output_type": "execute_result"
    }
   ],
   "source": [
    "matriz_somatorios = matriz_somatorios[::-1]\n",
    "matriz_somatorios"
   ]
  },
  {
   "cell_type": "code",
   "execution_count": 22,
   "metadata": {},
   "outputs": [
    {
     "data": {
      "text/plain": [
       "array([[98., 36., 14.],\n",
       "       [36., 14.,  6.],\n",
       "       [14.,  6.,  3.]])"
      ]
     },
     "execution_count": 22,
     "metadata": {},
     "output_type": "execute_result"
    }
   ],
   "source": [
    "for i in range(0, g + 1, 1):\n",
    "    # print(i)\n",
    "    # print(matriz_somatorios[i:i + g + 1])\n",
    "\n",
    "    matriz_coefs[i, :] = matriz_somatorios[i:i + g + 1]\n",
    "\n",
    "matriz_coefs"
   ]
  },
  {
   "cell_type": "code",
   "execution_count": 26,
   "metadata": {},
   "outputs": [
    {
     "data": {
      "text/plain": [
       "array([ 38.,  90., 234.])"
      ]
     },
     "execution_count": 26,
     "metadata": {},
     "output_type": "execute_result"
    }
   ],
   "source": [
    "for i in range(0, g + 1, 1):\n",
    "    # print(i)\n",
    "    array_x = entradas ** i\n",
    "    array_y = saidas ** 1\n",
    "    # print(array_x)\n",
    "    # print(array_y)\n",
    "    # print(\"-\" * 100)\n",
    "    array_mult = array_x * array_y\n",
    "    somatoria = array_mult.sum()\n",
    "\n",
    "    matriz_resultados[i] = somatoria\n",
    "\n",
    "matriz_resultados"
   ]
  },
  {
   "cell_type": "code",
   "execution_count": 27,
   "metadata": {},
   "outputs": [
    {
     "data": {
      "text/plain": [
       "array([234.,  90.,  38.])"
      ]
     },
     "execution_count": 27,
     "metadata": {},
     "output_type": "execute_result"
    }
   ],
   "source": [
    "matriz_resultados = matriz_resultados[::-1]\n",
    "matriz_resultados"
   ]
  },
  {
   "cell_type": "code",
   "execution_count": 30,
   "metadata": {},
   "outputs": [
    {
     "data": {
      "text/plain": [
       "array([[  1.5,  -6. ,   5. ],\n",
       "       [ -6. ,  24.5, -21. ],\n",
       "       [  5. , -21. ,  19. ]])"
      ]
     },
     "execution_count": 30,
     "metadata": {},
     "output_type": "execute_result"
    }
   ],
   "source": [
    "matriz_coefs_inv = np.linalg.inv(matriz_coefs)\n",
    "matriz_coefs_inv"
   ]
  },
  {
   "cell_type": "code",
   "execution_count": 31,
   "metadata": {},
   "outputs": [
    {
     "data": {
      "text/plain": [
       "array([1., 3., 2.])"
      ]
     },
     "execution_count": 31,
     "metadata": {},
     "output_type": "execute_result"
    }
   ],
   "source": [
    "matriz_coefs_inv.dot(matriz_resultados)"
   ]
  },
  {
   "cell_type": "code",
   "execution_count": 32,
   "metadata": {},
   "outputs": [],
   "source": [
    "def mmq(entradas: np.ndarray,\n",
    "        saidas: np.ndarray,\n",
    "        g:int) -> np.ndarray:\n",
    "    \n",
    "    \"\"\"\n",
    "    Função que calcula o método dos mínimos quadrados para um polinômio de grau 'g'.\n",
    "\n",
    "    Args:\n",
    "    entradas (np.ndarray): Array de entradas do polinômio que se deseja ajustar.\n",
    "    saidas (np.ndarray): Array de saídas do polinômio que se deseja ajustar.\n",
    "    g (int): Grau do polinômio que se deseja ajustar.\n",
    "\n",
    "    Returns:\n",
    "    np.ndarray: Array com os coeficientes do polinômio ajustado.\n",
    "    (a, b, c, ...)\n",
    "    \"\"\"\n",
    "    \n",
    "    if g < 1:\n",
    "        raise Exception(f\"Não é possível usar o mmq para g < 0. {g}\")\n",
    "    \n",
    "    if not isinstance(g, int):\n",
    "        raise Exception(f\"O objeto no parametro 'g' deve ser um 'int'. Foi fornecido um objeto do tipo {type(g)}\")\n",
    "    \n",
    "    matriz_coefs = np.zeros(shape=(g+1, g+1))\n",
    "    matriz_resultados = np.zeros(shape=g + 1)\n",
    "    matriz_somatorios = np.zeros(shape=2 * g + 1)\n",
    "\n",
    "    for i in range(2 * g, -1, -1):\n",
    "        matriz_somatorios[i] = (entradas ** i).sum()\n",
    "\n",
    "    matriz_somatorios = matriz_somatorios[::-1]\n",
    "\n",
    "    for i in range(0, g + 1, 1):\n",
    "        matriz_coefs[i, :] = matriz_somatorios[i:i + g + 1]\n",
    "\n",
    "    for i in range(0, g + 1, 1):\n",
    "        array_x = entradas ** i\n",
    "        array_y = saidas ** 1\n",
    "        array_mult = array_x * array_y\n",
    "        somatoria = array_mult.sum()\n",
    "\n",
    "        matriz_resultados[i] = somatoria\n",
    "    \n",
    "    matriz_resultados = matriz_resultados[::-1]\n",
    "    matriz_coefs_inv = np.linalg.inv(matriz_coefs)\n",
    "\n",
    "    coefs = matriz_coefs_inv.dot(matriz_resultados)\n",
    "\n",
    "    return coefs"
   ]
  },
  {
   "cell_type": "code",
   "execution_count": 33,
   "metadata": {},
   "outputs": [
    {
     "data": {
      "text/plain": [
       "array([1., 3., 2.])"
      ]
     },
     "execution_count": 33,
     "metadata": {},
     "output_type": "execute_result"
    }
   ],
   "source": [
    "mmq(entradas=entradas, saidas=saidas, g=2)"
   ]
  }
 ],
 "metadata": {
  "kernelspec": {
   "display_name": "cpp",
   "language": "python",
   "name": "python3"
  },
  "language_info": {
   "codemirror_mode": {
    "name": "ipython",
    "version": 3
   },
   "file_extension": ".py",
   "mimetype": "text/x-python",
   "name": "python",
   "nbconvert_exporter": "python",
   "pygments_lexer": "ipython3",
   "version": "3.11.5"
  }
 },
 "nbformat": 4,
 "nbformat_minor": 2
}
