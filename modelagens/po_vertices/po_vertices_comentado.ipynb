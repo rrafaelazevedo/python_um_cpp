{
 "cells": [
  {
   "cell_type": "markdown",
   "metadata": {},
   "source": [
    "---\n",
    "# Problema de `Máximo`\n",
    "### Problema da `venda de roupas (lucro)`"
   ]
  },
  {
   "cell_type": "code",
   "execution_count": 26,
   "metadata": {},
   "outputs": [],
   "source": [
    "# criando a função (lambda) que deve ser maximizada\n",
    "fo = lambda x1, x2: (300 * x1) + (500 * x2)"
   ]
  },
  {
   "cell_type": "code",
   "execution_count": 27,
   "metadata": {},
   "outputs": [
    {
     "data": {
      "text/plain": [
       "800"
      ]
     },
     "execution_count": 27,
     "metadata": {},
     "output_type": "execute_result"
    }
   ],
   "source": [
    "# testando a função objetivo para o ponto (1, 1)\n",
    "fo(1, 1)"
   ]
  },
  {
   "cell_type": "code",
   "execution_count": 15,
   "metadata": {},
   "outputs": [],
   "source": [
    "lambda_restricao = lambda alpha, x1, beta, x2, gama: (alpha * x1) + (beta * x2) <= gama"
   ]
  },
  {
   "cell_type": "code",
   "execution_count": 16,
   "metadata": {},
   "outputs": [
    {
     "data": {
      "text/plain": [
       "True"
      ]
     },
     "execution_count": 16,
     "metadata": {},
     "output_type": "execute_result"
    }
   ],
   "source": [
    "# testando a funcao de restricao para o ponto (1, 1) 2x1 + 1x2 <= 16\n",
    "lambda_restricao(2, 1, 1, 1, 16)"
   ]
  },
  {
   "cell_type": "code",
   "execution_count": 3,
   "metadata": {},
   "outputs": [],
   "source": [
    "# foi escolhido o tipo lista de dicionarios (list[dict]) para representar as restrições\n",
    "restricoes = [\n",
    "                {\"alpha\": 2, \"beta\": 1, \"gama\": 16},    # 2m de algodao por terno e 1m por vestido (16m disponíveis)\n",
    "                {\"alpha\": 1, \"beta\": 2, \"gama\": 11},    # 1m de linho por terno e 2m por vestido (11m disponíveis)\n",
    "                {\"alpha\": 1, \"beta\": 3, \"gama\": 15},    # 1m de lã por terno e 3m por vestido (15m disponíveis)\n",
    "            ]"
   ]
  },
  {
   "cell_type": "code",
   "execution_count": 4,
   "metadata": {},
   "outputs": [
    {
     "data": {
      "text/plain": [
       "[{'a': -2.0, 'b': 16.0},\n",
       " {'a': -0.5, 'b': 5.5},\n",
       " {'a': -0.3333333333333333, 'b': 5.0}]"
      ]
     },
     "execution_count": 4,
     "metadata": {},
     "output_type": "execute_result"
    }
   ],
   "source": [
    "# criando a lista de dicionários contendo os valores de 'a' (coeficiente angulas) e 'b' (coeficiente linear) de cada restrição das restrições\n",
    "# convertidas em retas\n",
    "\n",
    "# versão \"for clássico\"\n",
    "retas = []\n",
    "for restricao in restricoes:\n",
    "    a = -restricao[\"alpha\"] / restricao[\"beta\"]\n",
    "    b = restricao[\"gama\"] / restricao[\"beta\"]\n",
    "    retas.append({\"a\": a, \"b\": b})\n",
    "retas"
   ]
  },
  {
   "cell_type": "code",
   "execution_count": 11,
   "metadata": {},
   "outputs": [
    {
     "data": {
      "text/plain": [
       "[(0, 16.0), (8.0, 0), (0, 5.5), (11.0, 0), (0, 5.0), (15.0, 0)]"
      ]
     },
     "execution_count": 11,
     "metadata": {},
     "output_type": "execute_result"
    }
   ],
   "source": [
    "# criando os pontos possíveis de solução\n",
    "# primeiramente, comparando cada reta com os eixos x1 e x2\n",
    "pontos_solucoes = []\n",
    "for reta in retas:\n",
    "    vertice_v = (0, reta[\"b\"])\n",
    "    vertice_h = (-reta[\"b\"] / reta[\"a\"], 0)\n",
    "    pontos_solucoes.append(vertice_v)\n",
    "    pontos_solucoes.append(vertice_h)\n",
    "\n",
    "# checar esses pontos no desmos...\n",
    "pontos_solucoes"
   ]
  },
  {
   "cell_type": "code",
   "execution_count": 8,
   "metadata": {},
   "outputs": [],
   "source": [
    "# segundamente, comparando cada reta com as demais retas\n",
    "# para isto vamos usar a classe combinations do módulo itertools...\n",
    "# a 'função' combinations gera a combinacao dos elementos de um iterável (sem repetição)\n",
    "from itertools import combinations"
   ]
  },
  {
   "cell_type": "code",
   "execution_count": 10,
   "metadata": {},
   "outputs": [
    {
     "data": {
      "text/plain": [
       "[({'a': -2.0, 'b': 16.0}, {'a': -0.5, 'b': 5.5}),\n",
       " ({'a': -2.0, 'b': 16.0}, {'a': -0.3333333333333333, 'b': 5.0}),\n",
       " ({'a': -0.5, 'b': 5.5}, {'a': -0.3333333333333333, 'b': 5.0})]"
      ]
     },
     "execution_count": 10,
     "metadata": {},
     "output_type": "execute_result"
    }
   ],
   "source": [
    "# vamos testar com um exemplo simples. O comando 'list' foi usado para imprimir o resultado\n",
    "# de forma mais agradável\n",
    "list(combinations(retas, 2))"
   ]
  },
  {
   "cell_type": "code",
   "execution_count": 12,
   "metadata": {},
   "outputs": [
    {
     "data": {
      "text/plain": [
       "[(0, 16.0),\n",
       " (8.0, 0),\n",
       " (0, 5.5),\n",
       " (11.0, 0),\n",
       " (0, 5.0),\n",
       " (15.0, 0),\n",
       " (7.0, 2.0),\n",
       " (6.6, 2.8000000000000007),\n",
       " (2.9999999999999996, 4.0)]"
      ]
     },
     "execution_count": 12,
     "metadata": {},
     "output_type": "execute_result"
    }
   ],
   "source": [
    "comb = combinations(retas, 2)\n",
    "for reta1, reta2 in comb:\n",
    "    a1, b1 = reta1[\"a\"], reta1[\"b\"]\n",
    "    a2, b2 = reta2[\"a\"], reta2[\"b\"]\n",
    "\n",
    "    x2_cruzamento = (b2 - b1) / (a1 - a2)\n",
    "    y2_cruzamento = a1 * x2_cruzamento + b1\n",
    "\n",
    "    pontos_solucoes.append((x2_cruzamento, y2_cruzamento))\n",
    "\n",
    "# checar esses pontos no desmos...\n",
    "pontos_solucoes"
   ]
  },
  {
   "cell_type": "code",
   "execution_count": 13,
   "metadata": {},
   "outputs": [
    {
     "name": "stdout",
     "output_type": "stream",
     "text": [
      "<itertools.combinations object at 0x0000028E03001E40>\n",
      "[]\n"
     ]
    }
   ],
   "source": [
    "print(comb)             # comb é um objeto do tipo combinations e mesmo após ser percorrido, ele ainda existe...\n",
    "print(list(comb))       # ... porém, está esvaziado!!! Por isso, não dá para percorrer duas vezes o mesmo objeto do tipo combinations (generator)"
   ]
  },
  {
   "cell_type": "code",
   "execution_count": 23,
   "metadata": {},
   "outputs": [
    {
     "name": "stdout",
     "output_type": "stream",
     "text": [
      "O ponto (0, 16.0) respeita a restrição id 2: False\n"
     ]
    }
   ],
   "source": [
    "# pontos_solucoes[0], restricoes[0]\n",
    "id_ponto = 0\n",
    "id_restricao = 2\n",
    "x1 = pontos_solucoes[id_ponto][0]\n",
    "x2 = pontos_solucoes[id_ponto][1]\n",
    "\n",
    "# testando cada ponto com cada restrição manualmente\n",
    "print(f\"O ponto ({x1}, {x2}) respeita a restrição id {id_restricao}:\",\n",
    "lambda_restricao(alpha=restricoes[id_restricao][\"alpha\"], x1=x1, \n",
    "                beta=restricoes[id_restricao][\"beta\"], x2=x2, \n",
    "                gama=restricoes[id_restricao][\"gama\"])\n",
    ")"
   ]
  },
  {
   "cell_type": "code",
   "execution_count": 24,
   "metadata": {},
   "outputs": [
    {
     "data": {
      "text/plain": [
       "[(8.0, 0), (0, 5.0), (7.0, 2.0), (2.9999999999999996, 4.0)]"
      ]
     },
     "execution_count": 24,
     "metadata": {},
     "output_type": "execute_result"
    }
   ],
   "source": [
    "# criando uma lista de pontos que respeitam todas as restrições.\n",
    "pontos_solucoes_filtrados = []\n",
    "for ponto_solucao in pontos_solucoes:\n",
    "    for restricao in restricoes:\n",
    "        alpha = restricao[\"alpha\"]\n",
    "        beta = restricao[\"beta\"]\n",
    "        gama = restricao[\"gama\"]\n",
    "\n",
    "        x1 = ponto_solucao[0]\n",
    "        x2 = ponto_solucao[1]\n",
    "        respeita_rest = lambda_restricao(alpha=alpha, x1=x1, beta=beta, x2=x2, gama=gama)\n",
    "        if not respeita_rest:\n",
    "            break\n",
    "    else:\n",
    "        # O interpretador só cairá aqui se o 'for' terminar sem passar pelo break... Ou seja, se o ponto respeitar TODAS as restrições\n",
    "        pontos_solucoes_filtrados.append(ponto_solucao)     # perceber que o append já atualiza a lista...\n",
    "\n",
    "pontos_solucoes_filtrados"
   ]
  },
  {
   "cell_type": "code",
   "execution_count": 28,
   "metadata": {},
   "outputs": [
    {
     "name": "stdout",
     "output_type": "stream",
     "text": [
      "O ponto: (8.0, 0) tem valor: 2400.0\n",
      "O ponto: (0, 5.0) tem valor: 2500.0\n",
      "O ponto: (7.0, 2.0) tem valor: 3100.0\n",
      "O ponto: (2.9999999999999996, 4.0) tem valor: 2900.0\n",
      "O ponto que maximiza a função objetivo é: (7.0, 2.0) com valor: 3100.0\n"
     ]
    }
   ],
   "source": [
    "# verificando qual desses pontos maximiza a função objetivo...\n",
    "maximo = float(\"-inf\")\n",
    "ponto_maximo = None\n",
    "for ponto in pontos_solucoes_filtrados:\n",
    "    valor = fo(x1=ponto[0], x2=ponto[1])\n",
    "    print(f\"O ponto: {ponto} tem valor: {valor}\")\n",
    "    if valor > maximo:\n",
    "        maximo = valor\n",
    "        ponto_maximo = ponto\n",
    "\n",
    "print(f\"O ponto que maximiza a função objetivo é: {ponto_maximo} com valor: {maximo}\")"
   ]
  },
  {
   "cell_type": "markdown",
   "metadata": {},
   "source": [
    "---\n",
    "# Problema de `Mínimo`\n",
    "### Problema de `Cuidados Agronômicos (custos)`"
   ]
  },
  {
   "cell_type": "code",
   "execution_count": 29,
   "metadata": {},
   "outputs": [],
   "source": [
    "# criando uma função que deve ser minimizada\n",
    "fo = lambda x1, x2: 3 * x1 + 2 * x2"
   ]
  },
  {
   "cell_type": "code",
   "execution_count": 30,
   "metadata": {},
   "outputs": [
    {
     "data": {
      "text/plain": [
       "5"
      ]
     },
     "execution_count": 30,
     "metadata": {},
     "output_type": "execute_result"
    }
   ],
   "source": [
    "# testando a função\n",
    "fo(1, 1)"
   ]
  },
  {
   "cell_type": "code",
   "execution_count": 31,
   "metadata": {},
   "outputs": [],
   "source": [
    "# foi escolhido o tipo lista de dicionarios (list[dict]) para representar as restrições\n",
    "restricoes = [\n",
    "                {\"alpha\": 5, \"beta\": 1, \"gama\": 10},    # 5 un. do ingrediente A por vidro do produto 1 e 1 un. por caixa do produto 2 (10 un. necessárias)\n",
    "                {\"alpha\": 2, \"beta\": 2, \"gama\": 12},    # 2 un. do ingrediente B por vidro do produto 1 e 2 un. por caixa do produto 2 (12 un. necessárias)\n",
    "                {\"alpha\": 1, \"beta\": 4, \"gama\": 12},    # 1 un. do ingrediente C por vidro do produto 1 e 4 un. por caixa do produto 2 (12 un. necessárias)\n",
    "            ]"
   ]
  },
  {
   "cell_type": "code",
   "execution_count": 32,
   "metadata": {},
   "outputs": [
    {
     "data": {
      "text/plain": [
       "[{'a': -5.0, 'b': 10.0}, {'a': -1.0, 'b': 6.0}, {'a': -0.25, 'b': 3.0}]"
      ]
     },
     "execution_count": 32,
     "metadata": {},
     "output_type": "execute_result"
    }
   ],
   "source": [
    "# criando a lista de dicionários contendo os valores de a (coeficiente angulas) e b (coeficiente linear) de cada restrição\n",
    "# versão \"for clássico\"\n",
    "retas = []\n",
    "for restricao in restricoes:\n",
    "    a = -restricao[\"alpha\"] / restricao[\"beta\"]\n",
    "    b = restricao[\"gama\"] / restricao[\"beta\"]\n",
    "    retas.append({\"a\": a, \"b\": b})\n",
    "retas"
   ]
  },
  {
   "cell_type": "code",
   "execution_count": 33,
   "metadata": {},
   "outputs": [
    {
     "data": {
      "text/plain": [
       "[(0, 10.0), (2.0, 0), (0, 6.0), (6.0, 0), (0, 3.0), (12.0, 0)]"
      ]
     },
     "execution_count": 33,
     "metadata": {},
     "output_type": "execute_result"
    }
   ],
   "source": [
    "# criando os pontos possíveis de solução\n",
    "# primeiramente, comparando cada reta com os eixos x1 e x2\n",
    "pontos_solucoes = []\n",
    "for reta in retas:\n",
    "    ponto_um = (0, reta[\"b\"])\n",
    "    ponto_dois = (-reta[\"b\"] / reta[\"a\"], 0)\n",
    "    pontos_solucoes.append(ponto_um)\n",
    "    pontos_solucoes.append(ponto_dois)\n",
    "\n",
    "pontos_solucoes"
   ]
  },
  {
   "cell_type": "code",
   "execution_count": 34,
   "metadata": {},
   "outputs": [
    {
     "data": {
      "text/plain": [
       "[(0, 10.0),\n",
       " (2.0, 0),\n",
       " (0, 6.0),\n",
       " (6.0, 0),\n",
       " (0, 3.0),\n",
       " (12.0, 0),\n",
       " (1.0, 5.0),\n",
       " (1.4736842105263157, 2.6315789473684212),\n",
       " (4.0, 2.0)]"
      ]
     },
     "execution_count": 34,
     "metadata": {},
     "output_type": "execute_result"
    }
   ],
   "source": [
    "# segundamente, comparando cada reta com as outras retas\n",
    "# para isto vamos usar a classe combinations do módulo itertools...\n",
    "\n",
    "comb = combinations(retas, 2)\n",
    "for reta1, reta2 in comb:\n",
    "    a1, b1 = reta1[\"a\"], reta1[\"b\"]\n",
    "    a2, b2 = reta2[\"a\"], reta2[\"b\"]\n",
    "\n",
    "    x2_cruzamento = (b2 - b1) / (a1 - a2)\n",
    "    y2_cruzamento = a1 * x2_cruzamento + b1\n",
    "\n",
    "    pontos_solucoes.append((x2_cruzamento, y2_cruzamento))\n",
    "\n",
    "pontos_solucoes"
   ]
  },
  {
   "cell_type": "code",
   "execution_count": 35,
   "metadata": {},
   "outputs": [
    {
     "name": "stdout",
     "output_type": "stream",
     "text": [
      "<itertools.combinations object at 0x0000028E0359ECF0>\n",
      "[]\n"
     ]
    }
   ],
   "source": [
    "print(comb)             # comb é um objeto do tipo combinations e mesmo após ser percorrido, ele ainda existe...\n",
    "print(list(comb))       # ... porém, está esvaziado!!! Por isso, não dá para percorrer duas vezes o mesmo objeto do tipo combinations (generator)"
   ]
  },
  {
   "cell_type": "code",
   "execution_count": 37,
   "metadata": {},
   "outputs": [],
   "source": [
    "# verificar qual desses pontos respeitam todas as restrições...\n",
    "# primeiro, vamos criar uma função que verifica se um ponto respeita todas as restrições\n",
    "lambda_restricao = lambda alpha, x1, beta, x2, gama: alpha * x1 + beta * x2 >= gama"
   ]
  },
  {
   "cell_type": "code",
   "execution_count": 38,
   "metadata": {},
   "outputs": [
    {
     "name": "stdout",
     "output_type": "stream",
     "text": [
      "O ponto (12.0, 0) respeita a restrição id 2: True\n"
     ]
    }
   ],
   "source": [
    "id_ponto = 5\n",
    "id_restricao = 2\n",
    "x1 = pontos_solucoes[id_ponto][0]\n",
    "x2 = pontos_solucoes[id_ponto][1]\n",
    "\n",
    "print(f\"O ponto ({x1}, {x2}) respeita a restrição id {id_restricao}:\",\n",
    "lambda_restricao(alpha=restricoes[id_restricao][\"alpha\"], x1=x1, \n",
    "                beta=restricoes[id_restricao][\"beta\"], x2=x2, \n",
    "                gama=restricoes[id_restricao][\"gama\"])\n",
    "\n",
    ")"
   ]
  },
  {
   "cell_type": "code",
   "execution_count": 40,
   "metadata": {},
   "outputs": [
    {
     "data": {
      "text/plain": [
       "[(0, 10.0), (12.0, 0), (1.0, 5.0), (4.0, 2.0)]"
      ]
     },
     "execution_count": 40,
     "metadata": {},
     "output_type": "execute_result"
    }
   ],
   "source": [
    "# criando uma lista de pontos que respeitam todas as restrições. Não dá para usar list comprehension porque não dá para fazer o append de dois elementos de uma vez\n",
    "pontos_solucoes_filtrados = []\n",
    "for ponto_solucao in pontos_solucoes:\n",
    "    for restricao in restricoes:\n",
    "        respeita_rest = lambda_restricao(alpha=restricao[\"alpha\"], x1=ponto_solucao[0], beta=restricao[\"beta\"], x2=ponto_solucao[1], gama=restricao[\"gama\"])\n",
    "        if not respeita_rest:\n",
    "            break\n",
    "    else:\n",
    "        # O interpretador só cairá aqui se o 'for' terminar sem passar pelo break... Ou seja, se o ponto respeitar todas as restrições\n",
    "        pontos_solucoes_filtrados.append(ponto_solucao)     # perceber que o append já atualiza a lista...\n",
    "\n",
    "pontos_solucoes_filtrados"
   ]
  },
  {
   "cell_type": "code",
   "execution_count": 41,
   "metadata": {},
   "outputs": [
    {
     "name": "stdout",
     "output_type": "stream",
     "text": [
      "O ponto: (0, 10.0) tem valor: 20.0\n",
      "O ponto: (12.0, 0) tem valor: 36.0\n",
      "O ponto: (1.0, 5.0) tem valor: 13.0\n",
      "O ponto: (4.0, 2.0) tem valor: 16.0\n",
      "O ponto que minimiza a função objetivo é: (1.0, 5.0) com valor: 13.0\n"
     ]
    }
   ],
   "source": [
    "# verificando qual desses pontos maximiza a função objetivo...\n",
    "minimo = float(\"inf\")\n",
    "ponto_minimo = None\n",
    "for ponto in pontos_solucoes_filtrados:\n",
    "    valor = fo(x1=ponto[0], x2=ponto[1])\n",
    "    print(f\"O ponto: {ponto} tem valor: {valor}\")\n",
    "    if valor < minimo:\n",
    "        minimo = valor\n",
    "        ponto_minimo = ponto\n",
    "\n",
    "print(f\"O ponto que minimiza a função objetivo é: {ponto_minimo} com valor: {minimo}\")"
   ]
  },
  {
   "cell_type": "code",
   "execution_count": 42,
   "metadata": {},
   "outputs": [
    {
     "data": {
      "text/plain": [
       "inf"
      ]
     },
     "execution_count": 42,
     "metadata": {},
     "output_type": "execute_result"
    }
   ],
   "source": [
    "# gera um float de valor infinito\n",
    "float(\"inf\")"
   ]
  },
  {
   "cell_type": "code",
   "execution_count": 43,
   "metadata": {},
   "outputs": [
    {
     "data": {
      "text/plain": [
       "-inf"
      ]
     },
     "execution_count": 43,
     "metadata": {},
     "output_type": "execute_result"
    }
   ],
   "source": [
    "# gera um float de valor negativo infinito\n",
    "float(\"-inf\")"
   ]
  },
  {
   "cell_type": "code",
   "execution_count": 44,
   "metadata": {},
   "outputs": [],
   "source": [
    "from typing import Callable"
   ]
  },
  {
   "cell_type": "code",
   "execution_count": 54,
   "metadata": {},
   "outputs": [],
   "source": [
    "def po_vertices(fo: Callable, restricoes: list, tipo: str=\"max\"):\n",
    "    \"\"\"\n",
    "    Função para resolver um problema de programação linear com duas variáveis de decisão\n",
    "    usando o método dos vértices\n",
    "\n",
    "    Args:\n",
    "        fo (function): função objetivo\n",
    "        restricoes (list): lista de dicionários contendo as restrições\n",
    "        tipo (str, opcional): Tipo de problema. \"max\" ou \"min\".\n",
    "\n",
    "    Returns:\n",
    "        tuple: tupla contendo o ponto que maximiza ou minimiza a função objetivo e o valor da função objetivo\n",
    "    \"\"\"\n",
    "\n",
    "    retas = []\n",
    "    for restricao in restricoes:\n",
    "        a = -restricao[\"alpha\"] / restricao[\"beta\"]\n",
    "        b = restricao[\"gama\"] / restricao[\"beta\"]\n",
    "        retas.append({\"a\": a, \"b\": b})\n",
    "\n",
    "    pontos_solucoes = []\n",
    "    for reta in retas:\n",
    "        vertice_v = (0, reta[\"b\"])\n",
    "        vertice_h = (-reta[\"b\"] / reta[\"a\"], 0)\n",
    "        pontos_solucoes.append(vertice_v)\n",
    "        pontos_solucoes.append(vertice_h)\n",
    "\n",
    "    comb = combinations(retas, 2)\n",
    "    for reta1, reta2 in comb:\n",
    "\n",
    "        a1, b1 = reta1[\"a\"], reta1[\"b\"]\n",
    "        a2, b2 = reta2[\"a\"], reta2[\"b\"]\n",
    "\n",
    "        if a1 == a2:\n",
    "            continue\n",
    "\n",
    "        x1_cruzamento = (b2 - b1) / (a1 - a2)\n",
    "        x2_cruzamento = a1 * x1_cruzamento + b1\n",
    "\n",
    "        pontos_solucoes.append((x1_cruzamento, x2_cruzamento))\n",
    "    \n",
    "    lambda_restricao = \\\n",
    "        lambda alpha, x1, beta, x2, gama: alpha * x1 + beta * x2 <= gama if tipo == \"max\" \\\n",
    "            else alpha * x1 + beta * x2 >= gama\n",
    "\n",
    "    pontos_solucoes_filtrados = []\n",
    "    for ponto_solucao in pontos_solucoes:\n",
    "        for restricao in restricoes:\n",
    "            alpha = restricao[\"alpha\"]\n",
    "            beta = restricao[\"beta\"]\n",
    "            gama = restricao[\"gama\"]\n",
    "\n",
    "            x1 = ponto_solucao[0]\n",
    "            x2 = ponto_solucao[1]\n",
    "            respeita_rest = lambda_restricao(alpha=alpha, x1=x1, beta=beta, x2=x2, gama=gama)\n",
    "            if not respeita_rest:\n",
    "                break\n",
    "        else:\n",
    "            pontos_solucoes_filtrados.append(ponto_solucao)\n",
    "    \n",
    "    valor_solucao = float(\"-inf\") if tipo == \"max\" else float(\"inf\")\n",
    "    ponto_solucao = None\n",
    "    for x1, x2 in pontos_solucoes_filtrados:\n",
    "        valor_vertice = fo(x1=x1, x2=x2)\n",
    "        print(f\"O ponto: ({x1}, {x2}) tem valor: {valor_vertice}\")\n",
    "        if tipo == \"max\" and valor_vertice > valor_solucao:\n",
    "            valor_solucao = valor_vertice\n",
    "            ponto_solucao = (x1, x2)\n",
    "        elif tipo == \"min\" and valor_vertice < valor_solucao:\n",
    "            valor_solucao = valor_vertice\n",
    "            ponto_solucao = (x1, x2)\n",
    "\n",
    "    return ponto_solucao, valor_solucao"
   ]
  },
  {
   "cell_type": "code",
   "execution_count": 55,
   "metadata": {},
   "outputs": [
    {
     "name": "stdout",
     "output_type": "stream",
     "text": [
      "O ponto: (8.0, 0) tem valor: 2400.0\n",
      "O ponto: (0, 5.0) tem valor: 2500.0\n",
      "O ponto: (7.0, 2.0) tem valor: 3100.0\n",
      "O ponto: (2.9999999999999996, 4.0) tem valor: 2900.0\n",
      "----------------------------------------------------------------------------------------------------\n",
      "Deve-se produzir 7.0 ternos e 2.0 vestidos para obter um lucro de 3100.0 reais\n"
     ]
    }
   ],
   "source": [
    "fo_um = lambda x1, x2: (300 * x1) + (500 * x2)          # 300 reais de lucro por terno e 500 reais de lucro por vestido\n",
    "restricoes_um = [\n",
    "                {\"alpha\": 2, \"beta\": 1, \"gama\": 16},    # 2m de algodao por terno e 1m por vestido (16m disponíveis)\n",
    "                {\"alpha\": 1, \"beta\": 2, \"gama\": 11},    # 1m de linho por terno e 2m por vestido (11m disponíveis)\n",
    "                {\"alpha\": 1, \"beta\": 3, \"gama\": 15},    # 1m de lã por terno e 3m por vestido (15m disponíveis)\n",
    "                ]\n",
    "\n",
    "(x1_sol, x2_sol), valor_solucao = po_vertices(fo=fo_um, restricoes=restricoes_um, tipo=\"max\")\n",
    "print(\"-\" * 100)\n",
    "print(f\"Deve-se produzir {x1_sol} ternos e {x2_sol} vestidos para obter um lucro de {valor_solucao} reais\")"
   ]
  },
  {
   "cell_type": "code",
   "execution_count": 56,
   "metadata": {},
   "outputs": [
    {
     "name": "stdout",
     "output_type": "stream",
     "text": [
      "O ponto: (0, 10.0) tem valor: 20.0\n",
      "O ponto: (12.0, 0) tem valor: 36.0\n",
      "O ponto: (1.0, 5.0) tem valor: 13.0\n",
      "O ponto: (4.0, 2.0) tem valor: 16.0\n",
      "----------------------------------------------------------------------------------------------------\n",
      "Deve-se adquirir 5.0 vidros do produto 1 e 1.0 caixas do produto 2 para obter um custo de 13.0 unidades monetárias\n"
     ]
    }
   ],
   "source": [
    "fo_dois = lambda x1, x2: 3 * x1 + 2 * x2                # 3 un. de custo por vidro do produto 1 e 2 un. de custo por caixa do produto 2\n",
    "restricoes_dois = [\n",
    "                {\"alpha\": 5, \"beta\": 1, \"gama\": 10},    # 5 un. do ingrediente A por vidro do produto 1 e 1 un. por caixa do produto 2 (10 un. necessárias)\n",
    "                {\"alpha\": 2, \"beta\": 2, \"gama\": 12},    # 2 un. do ingrediente B por vidro do produto 1 e 2 un. por caixa do produto 2 (12 un. necessárias)\n",
    "                {\"alpha\": 1, \"beta\": 4, \"gama\": 12},    # 1 un. do ingrediente C por vidro do produto 1 e 4 un. por caixa do produto 2 (12 un. necessárias)\n",
    "                ]\n",
    "\n",
    "(x2_sol, x1_sol), valor_solucao = po_vertices(fo=fo_dois, restricoes=restricoes_dois, tipo=\"min\")\n",
    "print(\"-\" * 100)\n",
    "print(f\"Deve-se adquirir {x1_sol} vidros do produto 1 e {x2_sol} caixas do produto 2 para obter um custo de {valor_solucao} unidades monetárias\")"
   ]
  },
  {
   "cell_type": "code",
   "execution_count": 57,
   "metadata": {},
   "outputs": [
    {
     "data": {
      "text/plain": [
       "[1.0, 2.0]"
      ]
     },
     "execution_count": 57,
     "metadata": {},
     "output_type": "execute_result"
    }
   ],
   "source": [
    "coefs = []\n",
    "for _ in range(2):\n",
    "    coef = float(input(\"Digite o coeficiente de x1 na FO: \"))\n",
    "    coefs.append(coef)\n",
    "\n",
    "coefs"
   ]
  },
  {
   "cell_type": "code",
   "execution_count": 58,
   "metadata": {},
   "outputs": [],
   "source": [
    "fo = lambda x1, x2: coefs[0] * x1 + coefs[1] * x2"
   ]
  },
  {
   "cell_type": "code",
   "execution_count": 59,
   "metadata": {},
   "outputs": [],
   "source": [
    "qtd_restricoes = int(input(\"Digite a quantidade de restrições: \"))"
   ]
  },
  {
   "cell_type": "code",
   "execution_count": 61,
   "metadata": {},
   "outputs": [
    {
     "data": {
      "text/plain": [
       "[{'alpha': 2.0, 'beta': 4.0, 'gama': 3.0},\n",
       " {'alpha': 4.0, 'beta': 5.0, 'gama': 6.0}]"
      ]
     },
     "execution_count": 61,
     "metadata": {},
     "output_type": "execute_result"
    }
   ],
   "source": [
    "restricoes = []\n",
    "for i in range(qtd_restricoes):\n",
    "    alpha = float(input(f\"Digite o coeficiente de x1 na restrição: \"))\n",
    "    beta = float(input(f\"Digite o coeficiente de x2 na restrição: \"))\n",
    "    gama = float(input(f\"Digite o valor da restrição: \"))\n",
    "    restricao = {\"alpha\": alpha, \"beta\": beta, \"gama\": gama}\n",
    "    restricoes.append(restricao)\n",
    "\n",
    "restricoes"
   ]
  },
  {
   "cell_type": "code",
   "execution_count": 63,
   "metadata": {},
   "outputs": [
    {
     "name": "stdout",
     "output_type": "stream",
     "text": [
      "O ponto: (1.5, 0) tem valor: 1.5\n",
      "O ponto: (0, 1.2) tem valor: 2.4\n"
     ]
    },
    {
     "data": {
      "text/plain": [
       "((1.5, 0), 1.5)"
      ]
     },
     "execution_count": 63,
     "metadata": {},
     "output_type": "execute_result"
    }
   ],
   "source": [
    "po_vertices(fo=fo, restricoes=restricoes, tipo=\"min\")"
   ]
  },
  {
   "cell_type": "code",
   "execution_count": null,
   "metadata": {},
   "outputs": [],
   "source": []
  }
 ],
 "metadata": {
  "kernelspec": {
   "display_name": "cpp",
   "language": "python",
   "name": "python3"
  },
  "language_info": {
   "codemirror_mode": {
    "name": "ipython",
    "version": 3
   },
   "file_extension": ".py",
   "mimetype": "text/x-python",
   "name": "python",
   "nbconvert_exporter": "python",
   "pygments_lexer": "ipython3",
   "version": "3.11.5"
  }
 },
 "nbformat": 4,
 "nbformat_minor": 2
}
