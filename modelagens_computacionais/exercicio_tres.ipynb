{
 "cells": [
  {
   "cell_type": "code",
   "execution_count": 17,
   "metadata": {},
   "outputs": [],
   "source": [
    "quantidade_elementos_lista = 8"
   ]
  },
  {
   "cell_type": "code",
   "execution_count": 18,
   "metadata": {},
   "outputs": [
    {
     "name": "stdout",
     "output_type": "stream",
     "text": [
      "[1.0, 2.0, 3.0, 4.0, 5.0, 6.0, 7.0, 8.0]\n",
      "8\n"
     ]
    }
   ],
   "source": [
    "lista = []\n",
    "\n",
    "# usando 'while'\n",
    "i = 1\n",
    "while i <= quantidade_elementos_lista:\n",
    "    valor = float(input(f\"Insira um valor numérico (int/float): {i}/{quantidade_elementos_lista}\"))\n",
    "    lista.append(valor)\n",
    "\n",
    "    i += 1\n",
    "\n",
    "print(lista)\n",
    "print(len(lista))"
   ]
  },
  {
   "cell_type": "code",
   "execution_count": 20,
   "metadata": {},
   "outputs": [
    {
     "name": "stdout",
     "output_type": "stream",
     "text": [
      "[1.0, 2.0, 3.0, 4.0, 5.0, 6.0, 7.0, 8.0]\n",
      "8\n"
     ]
    }
   ],
   "source": [
    "# usando 'for'\n",
    "lista = []\n",
    "for i in range(1, quantidade_elementos_lista + 1, 1):\n",
    "    valor = float(input(f\"Insira um valor numérico (int/float): {i}/{quantidade_elementos_lista}\"))\n",
    "    lista.append(valor)\n",
    "\n",
    "print(lista)\n",
    "print(len(lista))"
   ]
  },
  {
   "cell_type": "code",
   "execution_count": null,
   "metadata": {},
   "outputs": [],
   "source": []
  }
 ],
 "metadata": {
  "kernelspec": {
   "display_name": "venv_cpp",
   "language": "python",
   "name": "python3"
  },
  "language_info": {
   "codemirror_mode": {
    "name": "ipython",
    "version": 3
   },
   "file_extension": ".py",
   "mimetype": "text/x-python",
   "name": "python",
   "nbconvert_exporter": "python",
   "pygments_lexer": "ipython3",
   "version": "3.11.5"
  }
 },
 "nbformat": 4,
 "nbformat_minor": 2
}
