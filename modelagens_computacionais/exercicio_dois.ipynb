{
 "cells": [
  {
   "cell_type": "code",
   "execution_count": 1,
   "metadata": {},
   "outputs": [],
   "source": [
    "# criando a lista manualmente. Chamei de lista, pois não sabia o significado do que iria dentro\n",
    "lista = [3, 6, 1, 0, 5]"
   ]
  },
  {
   "cell_type": "markdown",
   "metadata": {},
   "source": [
    "### Para realizar uma somatória de valores dentro de um ``for``, é necessário criar uma variável ``zerada``. Essa variável será incrementada com cada valor da lista para cada iteração do ``for``. Ao final, a variável ``zerada`` terá a somatória de todos os valores da lista."
   ]
  },
  {
   "cell_type": "code",
   "execution_count": 10,
   "metadata": {},
   "outputs": [
    {
     "name": "stdout",
     "output_type": "stream",
     "text": [
      "6\n"
     ]
    }
   ],
   "source": [
    "# usando o 'for'\n",
    "somatoria = 0\n",
    "for elemento in lista:\n",
    "\n",
    "    # se for par...\n",
    "    if elemento % 2 == 0:\n",
    "        somatoria += elemento\n",
    "\n",
    "# no final, imprime o valor dentro da variável 'somatoria'\n",
    "print(somatoria)"
   ]
  },
  {
   "cell_type": "code",
   "execution_count": 9,
   "metadata": {},
   "outputs": [
    {
     "name": "stdout",
     "output_type": "stream",
     "text": [
      "6\n"
     ]
    }
   ],
   "source": [
    "# usando o 'while' (foi necessário mais uma variável, o 'indice' para controlar o loop)\n",
    "somatoria = 0\n",
    "indice = 0\n",
    "while indice < len(lista):\n",
    "    elemento = lista[indice]\n",
    "    \n",
    "    # se for par...\n",
    "    if elemento % 2 == 0:\n",
    "        somatoria += elemento\n",
    "    \n",
    "    indice += 1\n",
    "\n",
    "# no final, imprime o valor dentro da variável 'somatoria'\n",
    "print(somatoria)"
   ]
  },
  {
   "cell_type": "code",
   "execution_count": null,
   "metadata": {},
   "outputs": [],
   "source": []
  }
 ],
 "metadata": {
  "kernelspec": {
   "display_name": "venv_cpp",
   "language": "python",
   "name": "python3"
  },
  "language_info": {
   "codemirror_mode": {
    "name": "ipython",
    "version": 3
   },
   "file_extension": ".py",
   "mimetype": "text/x-python",
   "name": "python",
   "nbconvert_exporter": "python",
   "pygments_lexer": "ipython3",
   "version": "3.11.5"
  }
 },
 "nbformat": 4,
 "nbformat_minor": 2
}
