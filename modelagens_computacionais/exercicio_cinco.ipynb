{
 "cells": [
  {
   "cell_type": "code",
   "execution_count": 4,
   "metadata": {},
   "outputs": [],
   "source": [
    "tamanho_sequencia = 6"
   ]
  },
  {
   "cell_type": "code",
   "execution_count": 7,
   "metadata": {},
   "outputs": [],
   "source": [
    "# devido ao fato de que a sequencia de fibonacci gera valores a partir dos dois valores anteriores,\n",
    "# é necessário iniciar a sequencia com os dois primeiros valores\n",
    "fibonacci = [1, 1]"
   ]
  },
  {
   "cell_type": "code",
   "execution_count": 6,
   "metadata": {},
   "outputs": [
    {
     "name": "stdout",
     "output_type": "stream",
     "text": [
      "[1, 1, 2, 3, 5, 8]\n"
     ]
    }
   ],
   "source": [
    "# i = 2 representa que a sequencia começa a partir do TERCEIRO valor\n",
    "i = 2\n",
    "while i < tamanho_sequencia:\n",
    "    proximo_valor = fibonacci[i - 1] + fibonacci[i - 2]\n",
    "    fibonacci.append(proximo_valor)\n",
    "\n",
    "    i += 1\n",
    "\n",
    "print(fibonacci)"
   ]
  },
  {
   "cell_type": "code",
   "execution_count": 8,
   "metadata": {},
   "outputs": [],
   "source": [
    "def fibonacci(tamanho_sequencia):\n",
    "    \"\"\"\n",
    "    Função que retorna uma lista contendo a sequencia de fibonacci.\n",
    "    Cuidado para não passar um valor muito grande para o tamanho da sequencia, \n",
    "    pois a função pode demorar para retornar.\n",
    "    \"\"\"\n",
    "    \n",
    "    fibonacci = [1, 1]\n",
    "    i = 2\n",
    "    while i < tamanho_sequencia:\n",
    "        proximo_valor = fibonacci[i - 1] + fibonacci[i - 2]\n",
    "        fibonacci.append(proximo_valor)\n",
    "\n",
    "        i += 1\n",
    "\n",
    "    return fibonacci"
   ]
  },
  {
   "cell_type": "code",
   "execution_count": 9,
   "metadata": {},
   "outputs": [
    {
     "data": {
      "text/plain": [
       "[1, 1, 2, 3, 5, 8]"
      ]
     },
     "execution_count": 9,
     "metadata": {},
     "output_type": "execute_result"
    }
   ],
   "source": [
    "fibonacci(6)"
   ]
  },
  {
   "cell_type": "code",
   "execution_count": 10,
   "metadata": {},
   "outputs": [
    {
     "data": {
      "text/plain": [
       "[1, 1, 2, 3, 5, 8, 13, 21, 34, 55]"
      ]
     },
     "execution_count": 10,
     "metadata": {},
     "output_type": "execute_result"
    }
   ],
   "source": [
    "fibonacci(10)"
   ]
  },
  {
   "cell_type": "code",
   "execution_count": 11,
   "metadata": {},
   "outputs": [
    {
     "data": {
      "text/plain": [
       "[1, 1, 2, 3, 5, 8, 13, 21, 34, 55, 89, 144, 233, 377, 610]"
      ]
     },
     "execution_count": 11,
     "metadata": {},
     "output_type": "execute_result"
    }
   ],
   "source": [
    "fibonacci(15)"
   ]
  },
  {
   "cell_type": "code",
   "execution_count": null,
   "metadata": {},
   "outputs": [],
   "source": []
  }
 ],
 "metadata": {
  "kernelspec": {
   "display_name": "venv_cpp",
   "language": "python",
   "name": "python3"
  },
  "language_info": {
   "codemirror_mode": {
    "name": "ipython",
    "version": 3
   },
   "file_extension": ".py",
   "mimetype": "text/x-python",
   "name": "python",
   "nbconvert_exporter": "python",
   "pygments_lexer": "ipython3",
   "version": "3.11.5"
  }
 },
 "nbformat": 4,
 "nbformat_minor": 2
}
