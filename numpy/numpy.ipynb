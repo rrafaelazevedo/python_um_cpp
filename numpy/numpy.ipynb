{
 "cells": [
  {
   "cell_type": "code",
   "execution_count": 1,
   "metadata": {},
   "outputs": [],
   "source": [
    "import numpy as np"
   ]
  },
  {
   "attachments": {},
   "cell_type": "markdown",
   "metadata": {},
   "source": [
    "## Diferença entre funções e métodos em python (apenas o básico)\n",
    "\n",
    "Funções em python são definidas usando a palavra chave `def`. A sintaxe é a seguinte:\n",
    "````python\n",
    "def elevado(base, exponente):\n",
    "    valor_retornar = base ** exponente\n",
    "    return valor_retornar\n",
    "````\n",
    "\n",
    "Métodos em python são definidos dentro de objetos (classes). A sintaxe é a seguinte:\n",
    "````python\n",
    "# A classe é algo como uma fábrica de objetos\n",
    "class Potencias:\n",
    "    # Este é um construtor (do objeto) - O objeto será da classe Potencias\n",
    "    def __init__(self, base):\n",
    "\n",
    "        # Este é um atributo/propriedade\n",
    "        self.base = base\n",
    "\n",
    "    # Este é um método (É uma função dentro do objeto/classe)\n",
    "    def elevado(self, exponente):\n",
    "        return self.base ** exponente\n",
    "````\n",
    "\n",
    "\n",
    "````python\t\n",
    "# Usando a função ----------------------------\n",
    "# retornaria 8\n",
    "elevado(base=2, exponente=3) \n",
    "# --------------------------------------------\n",
    "\n",
    "\n",
    "# Usando o método ----------------------------\n",
    "# Criando um objeto da classe Potencias\n",
    "potencia = Potencias(base=2)\n",
    "\n",
    "# O primeiro argumento do método é sempre o próprio objeto\n",
    "potencia.elevado(exponente=3) # Retornaria 8\n",
    "# --------------------------------------------\n",
    "````"
   ]
  },
  {
   "cell_type": "code",
   "execution_count": 1,
   "metadata": {},
   "outputs": [],
   "source": [
    "def elevado(base, exponente):\n",
    "    valor_retornar = base ** exponente\n",
    "    return valor_retornar"
   ]
  },
  {
   "cell_type": "code",
   "execution_count": 2,
   "metadata": {},
   "outputs": [
    {
     "name": "stdout",
     "output_type": "stream",
     "text": [
      "8\n"
     ]
    }
   ],
   "source": [
    "resultado = elevado(base=2, exponente=3)\n",
    "print(resultado)"
   ]
  },
  {
   "cell_type": "code",
   "execution_count": 37,
   "metadata": {},
   "outputs": [],
   "source": [
    "class Potencias:\n",
    "    # o construtor é chamado quando a classe instancia um objeto.\n",
    "    # ele deve ser preenchido com as propriedades que o objeto deve ter.\n",
    "    def __init__(x, base):\n",
    "        x.base = base\n",
    "        \n",
    "    # este é um método da classe, que pode ser chamado por qualquer objeto\n",
    "    def elevado(self, expoente):\n",
    "        return self.base ** expoente\n",
    "    \n",
    "    def __pow__(self, expoente):\n",
    "        return self.base + expoente\n",
    "    \n",
    "    def __repr__(self):\n",
    "        return f\"A base deste objeto é: {self.base}\""
   ]
  },
  {
   "cell_type": "code",
   "execution_count": 38,
   "metadata": {},
   "outputs": [],
   "source": [
    "# Criando o objeto da classe Potencias. O objeto abaixo tem como atributo base o valor 2.\n",
    "potencia = Potencias(base=2)"
   ]
  },
  {
   "cell_type": "code",
   "execution_count": 39,
   "metadata": {},
   "outputs": [],
   "source": [
    "# Criando o objeto da classe Potencias. O objeto abaixo tem como atributo base o valor 3.\n",
    "potencia_um = Potencias(base=3)"
   ]
  },
  {
   "cell_type": "code",
   "execution_count": 40,
   "metadata": {},
   "outputs": [
    {
     "name": "stdout",
     "output_type": "stream",
     "text": [
      "['__class__', '__delattr__', '__dict__', '__dir__', '__doc__', '__eq__', '__format__', '__ge__', '__getattribute__', '__getstate__', '__gt__', '__hash__', '__init__', '__init_subclass__', '__le__', '__lt__', '__module__', '__ne__', '__new__', '__pow__', '__reduce__', '__reduce_ex__', '__repr__', '__setattr__', '__sizeof__', '__str__', '__subclasshook__', '__weakref__', 'base', 'elevado']\n"
     ]
    }
   ],
   "source": [
    "# No objeto abaixo, note que existe o atributo 'base' e o método 'elevado'.\n",
    "print(dir(potencia))    # or print(dir(Potencias))"
   ]
  },
  {
   "cell_type": "code",
   "execution_count": 41,
   "metadata": {},
   "outputs": [
    {
     "data": {
      "text/plain": [
       "8"
      ]
     },
     "execution_count": 41,
     "metadata": {},
     "output_type": "execute_result"
    }
   ],
   "source": [
    "# Abaixo, o objeto potencia tem como atributo 'base' o valor 2. O método 'elevado' recebe como parâmetro 'expoente' o valor 3.\n",
    "# O método elevado retorna o valor 2 elevado a 3 (2³=8).\n",
    "potencia.elevado(expoente=3)"
   ]
  },
  {
   "cell_type": "code",
   "execution_count": 42,
   "metadata": {},
   "outputs": [
    {
     "data": {
      "text/plain": [
       "27"
      ]
     },
     "execution_count": 42,
     "metadata": {},
     "output_type": "execute_result"
    }
   ],
   "source": [
    "# Abaixo, o objeto potencia1 tem como atributo 'base' o valor 3. O método 'elevado' recebe como parâmetro 'expoente' o valor 3.\n",
    "# O método elevado retorna o valor 3 elevado a 3 (3³=27).\n",
    "potencia_um.elevado(expoente=3)"
   ]
  },
  {
   "cell_type": "code",
   "execution_count": 43,
   "metadata": {},
   "outputs": [
    {
     "data": {
      "text/plain": [
       "['__class__',\n",
       " '__delattr__',\n",
       " '__dict__',\n",
       " '__dir__',\n",
       " '__doc__',\n",
       " '__eq__',\n",
       " '__format__',\n",
       " '__ge__',\n",
       " '__getattribute__',\n",
       " '__getstate__',\n",
       " '__gt__',\n",
       " '__hash__',\n",
       " '__init__',\n",
       " '__init_subclass__',\n",
       " '__le__',\n",
       " '__lt__',\n",
       " '__module__',\n",
       " '__ne__',\n",
       " '__new__',\n",
       " '__pow__',\n",
       " '__reduce__',\n",
       " '__reduce_ex__',\n",
       " '__repr__',\n",
       " '__setattr__',\n",
       " '__sizeof__',\n",
       " '__str__',\n",
       " '__subclasshook__',\n",
       " '__weakref__',\n",
       " 'base',\n",
       " 'elevado']"
      ]
     },
     "execution_count": 43,
     "metadata": {},
     "output_type": "execute_result"
    }
   ],
   "source": [
    "dir(potencia) # ou dir(Potencias)"
   ]
  },
  {
   "cell_type": "code",
   "execution_count": 44,
   "metadata": {},
   "outputs": [
    {
     "data": {
      "text/plain": [
       "False"
      ]
     },
     "execution_count": 44,
     "metadata": {},
     "output_type": "execute_result"
    }
   ],
   "source": [
    "# o comando abaixo chama o método especial '__eq__'\n",
    "# como não programamos esse método ele retorna um valor padrão\n",
    "potencia == potencia_um"
   ]
  },
  {
   "cell_type": "code",
   "execution_count": 45,
   "metadata": {},
   "outputs": [
    {
     "data": {
      "text/plain": [
       "5"
      ]
     },
     "execution_count": 45,
     "metadata": {},
     "output_type": "execute_result"
    }
   ],
   "source": [
    "# o operador ** é um atalho para o método 'mágico'\n",
    "# __pow__ da classe Potencias.\n",
    "# 2 (potencia.base) + 3 = 5\n",
    "potencia ** 3"
   ]
  },
  {
   "cell_type": "code",
   "execution_count": 46,
   "metadata": {},
   "outputs": [
    {
     "name": "stdout",
     "output_type": "stream",
     "text": [
      "A base deste objeto é: 2\n"
     ]
    }
   ],
   "source": [
    "print(potencia)"
   ]
  },
  {
   "cell_type": "code",
   "execution_count": 47,
   "metadata": {},
   "outputs": [
    {
     "name": "stdout",
     "output_type": "stream",
     "text": [
      "A base deste objeto é: 3\n"
     ]
    }
   ],
   "source": [
    "print(potencia_um)"
   ]
  },
  {
   "attachments": {},
   "cell_type": "markdown",
   "metadata": {},
   "source": [
    "### potencia é um objeto da classe Potencias (criamos um novo tipo de variável)"
   ]
  },
  {
   "attachments": {},
   "cell_type": "markdown",
   "metadata": {},
   "source": [
    "---"
   ]
  },
  {
   "cell_type": "code",
   "execution_count": 49,
   "metadata": {},
   "outputs": [],
   "source": [
    "import numpy as np"
   ]
  },
  {
   "cell_type": "code",
   "execution_count": null,
   "metadata": {},
   "outputs": [],
   "source": [
    "# numpy main usages\n",
    "# 1: np.array([1, 2, 3])\n",
    "# 2: np.array([1, 2, 3], dtype=np.float32)                  # convert to numpy array with float32\n",
    "# 3: np.array([1, 2, 3], dtype=np.float32).dtype            # check the type of the array\n",
    "# 4: np.array([1, 2, 3], dtype=np.float32).shape            # check the shape of the array\n",
    "# 5: np.array([1, 2, 3], dtype=np.float32).ndim             # check the number of dimensions of the array\n",
    "# 6: np.array([1, 2, 3], dtype=np.float32).size             # check the size of the array\n",
    "# 7: np.array([1, 2, 3], dtype=np.float32).itemsize         # check the size of each item of the array\n",
    "# 8: np.array([1, 2, 3], dtype=np.float32).nbytes\n",
    "# 9: np.array([1, 2, 3], dtype=np.float32).data\n",
    "# 10: np.array([1, 2, 3], dtype=np.float32).data.obj"
   ]
  },
  {
   "cell_type": "code",
   "execution_count": 50,
   "metadata": {},
   "outputs": [
    {
     "data": {
      "text/plain": [
       "array([[384737792,       613, 384738464,       613],\n",
       "       [384739216,       613, 384739216,       613],\n",
       "       [384739216,       613, 384729504,       613]])"
      ]
     },
     "execution_count": 50,
     "metadata": {},
     "output_type": "execute_result"
    }
   ],
   "source": [
    "arr = np.ndarray(shape=(3, 4), dtype=int)\n",
    "arr"
   ]
  },
  {
   "cell_type": "code",
   "execution_count": 51,
   "metadata": {},
   "outputs": [],
   "source": [
    "lista1 = [1, 2, 3]\n",
    "lista2 = [4, 5, 6]\n",
    "lista2d = [[1, 2, 3], \n",
    "           [4, 5, 6]]"
   ]
  },
  {
   "cell_type": "code",
   "execution_count": 52,
   "metadata": {},
   "outputs": [
    {
     "data": {
      "text/plain": [
       "array([1, 2, 3])"
      ]
     },
     "execution_count": 52,
     "metadata": {},
     "output_type": "execute_result"
    }
   ],
   "source": [
    "# convertendo o objeto 'lista' num objeto 'numpy.array'\n",
    "arr = np.array(lista1, dtype=int)\n",
    "arr"
   ]
  },
  {
   "cell_type": "code",
   "execution_count": 53,
   "metadata": {},
   "outputs": [
    {
     "name": "stdout",
     "output_type": "stream",
     "text": [
      "['all', 'any', 'argmax', 'argmin', 'argpartition', 'argsort', 'astype', 'base', 'byteswap', 'choose', 'clip', 'compress', 'conj', 'conjugate', 'copy', 'ctypes', 'cumprod', 'cumsum', 'data', 'diagonal', 'dot', 'dtype', 'dump', 'dumps', 'fill', 'flags', 'flat', 'flatten', 'getfield', 'imag', 'item', 'itemset', 'itemsize', 'max', 'mean', 'min', 'nbytes', 'ndim', 'newbyteorder', 'nonzero', 'partition', 'prod', 'ptp', 'put', 'ravel', 'real', 'repeat', 'reshape', 'resize', 'round', 'searchsorted', 'setfield', 'setflags', 'shape', 'size', 'sort', 'squeeze', 'std', 'strides', 'sum', 'swapaxes', 'take', 'tobytes', 'tofile', 'tolist', 'tostring', 'trace', 'transpose', 'var', 'view']\n"
     ]
    }
   ],
   "source": [
    "# um array possui 70 métodos/propriedades\n",
    "print(dir(arr)[96:])"
   ]
  },
  {
   "attachments": {},
   "cell_type": "markdown",
   "metadata": {},
   "source": [
    "# Atributos do objeto **array**\n",
    "### **Arrays Numpy** são mais similares a vetores/matriz matemáticos!!!"
   ]
  },
  {
   "cell_type": "code",
   "execution_count": null,
   "metadata": {},
   "outputs": [],
   "source": [
    "# Principais propriedades (características) de um array numpy\n",
    "# 1: arr.ndim\n",
    "# 2: arr.shape\n",
    "# 3: arr.size\n",
    "# 4: arr.dtype\n",
    "# 5: arr.nbytes"
   ]
  },
  {
   "cell_type": "code",
   "execution_count": 54,
   "metadata": {},
   "outputs": [
    {
     "name": "stdout",
     "output_type": "stream",
     "text": [
      "[1 2 3]\n",
      "\n",
      "[[1 2 3]\n",
      " [4 5 6]]\n"
     ]
    }
   ],
   "source": [
    "numpy_array = np.array(lista1, dtype=int)\n",
    "numpy_array2d = np.array(lista2d, dtype=int)\n",
    "\n",
    "# o print de um objeto 'numpy array' é diferente do print de uma lista (embora pareça igual)\n",
    "# note a falta das vírgulas entre os elementos do array\n",
    "print(numpy_array)\n",
    "print()\n",
    "print(numpy_array2d)"
   ]
  },
  {
   "cell_type": "code",
   "execution_count": 55,
   "metadata": {},
   "outputs": [
    {
     "name": "stdout",
     "output_type": "stream",
     "text": [
      "1\n"
     ]
    }
   ],
   "source": [
    "# 1 porpriedade: ndim\n",
    "print(numpy_array.ndim)         # returns the number of dimensions of the array: 1"
   ]
  },
  {
   "cell_type": "code",
   "execution_count": 56,
   "metadata": {},
   "outputs": [
    {
     "name": "stdout",
     "output_type": "stream",
     "text": [
      "2\n"
     ]
    }
   ],
   "source": [
    "# 1 porpriedade: ndim\n",
    "print(numpy_array2d.ndim)       # returns the number of dimensions of the array: 2"
   ]
  },
  {
   "cell_type": "code",
   "execution_count": 57,
   "metadata": {},
   "outputs": [
    {
     "name": "stdout",
     "output_type": "stream",
     "text": [
      "(3,)\n"
     ]
    }
   ],
   "source": [
    "# 2 porpriedade: shape\n",
    "print(numpy_array.shape)        # returns a tuple with the shape of the array: (3,) -> 3 rows, 1 column"
   ]
  },
  {
   "cell_type": "code",
   "execution_count": 58,
   "metadata": {},
   "outputs": [
    {
     "name": "stdout",
     "output_type": "stream",
     "text": [
      "(2, 3)\n"
     ]
    }
   ],
   "source": [
    "# 2 porpriedade: shape\n",
    "print(numpy_array2d.shape)"
   ]
  },
  {
   "cell_type": "code",
   "execution_count": 62,
   "metadata": {},
   "outputs": [
    {
     "name": "stdout",
     "output_type": "stream",
     "text": [
      "<class 'list'>\n",
      "<class 'int'>\n",
      "<class 'tuple'>\n"
     ]
    }
   ],
   "source": [
    "# para criar uma tupla com UM elemento, você precisa adicionar uma vírgula após o elemento\n",
    "\n",
    "print(type([3,]))\n",
    "print(type((3)))\n",
    "print(type((3,)))"
   ]
  },
  {
   "cell_type": "code",
   "execution_count": 63,
   "metadata": {},
   "outputs": [
    {
     "name": "stdout",
     "output_type": "stream",
     "text": [
      "3\n"
     ]
    }
   ],
   "source": [
    "# 3 porpriedade: size\n",
    "print(numpy_array.size)         # returns the number of elements of the array: 3"
   ]
  },
  {
   "cell_type": "code",
   "execution_count": 64,
   "metadata": {},
   "outputs": [
    {
     "name": "stdout",
     "output_type": "stream",
     "text": [
      "6\n"
     ]
    }
   ],
   "source": [
    "# 3 porpriedade: size\n",
    "print(numpy_array2d.size)       # returns the number of elements of the array: 6"
   ]
  },
  {
   "cell_type": "code",
   "execution_count": 65,
   "metadata": {},
   "outputs": [
    {
     "name": "stdout",
     "output_type": "stream",
     "text": [
      "int32\n"
     ]
    }
   ],
   "source": [
    "# 4 porpriedade: dtype\n",
    "print(numpy_array.dtype)        # returns the type of the elements of the array: int32"
   ]
  },
  {
   "attachments": {},
   "cell_type": "markdown",
   "metadata": {},
   "source": [
    "## É importante saber disso porque isso afetará o uso da memória do array"
   ]
  },
  {
   "cell_type": "code",
   "execution_count": null,
   "metadata": {},
   "outputs": [],
   "source": [
    "# limites de um int32: -2.147.483.648 to 2.147.483.647            ou -2**31 até 2**31 - 1\n",
    "# limites de um uint32: 0 to 4.294.967.295                        ou  0     até 2**32 - 1"
   ]
  },
  {
   "cell_type": "code",
   "execution_count": null,
   "metadata": {},
   "outputs": [],
   "source": [
    "# limites de um intk:  -2 ** (k-1) até 2 ** (k-1) - 1\n",
    "# limites de um uintk: 0           até 2 ** k - 1"
   ]
  },
  {
   "cell_type": "code",
   "execution_count": null,
   "metadata": {},
   "outputs": [],
   "source": [
    "# representação binária de um uint3\n",
    "\n",
    "# 0 0 0  -> 0\n",
    "# 0 0 1  -> 1\n",
    "# 0 1 0  -> 2\n",
    "# 0 1 1  -> 3\n",
    "# 1 0 0  -> 4\n",
    "# 1 0 1  -> 5\n",
    "# 1 1 0  -> 6\n",
    "# 1 1 1  -> 7\n",
    "\n",
    "# representação binária de um int3\n",
    "\n",
    "# 1 0 0  -> -4\n",
    "# 1 0 1  -> -3\n",
    "# 1 1 0  -> -2\n",
    "# 1 1 1  -> -1\n",
    "# 0 0 0  -> +0\n",
    "# 0 0 1  -> +1\n",
    "# 0 1 0  -> +2\n",
    "# 0 1 1  -> +3"
   ]
  },
  {
   "cell_type": "code",
   "execution_count": 66,
   "metadata": {},
   "outputs": [
    {
     "name": "stdout",
     "output_type": "stream",
     "text": [
      "int32\n"
     ]
    },
    {
     "data": {
      "text/plain": [
       "array([1, 2, 3])"
      ]
     },
     "execution_count": 66,
     "metadata": {},
     "output_type": "execute_result"
    }
   ],
   "source": [
    "print(numpy_array.dtype)\n",
    "numpy_array                     # int32 (4 bytes)"
   ]
  },
  {
   "cell_type": "code",
   "execution_count": 67,
   "metadata": {},
   "outputs": [
    {
     "name": "stdout",
     "output_type": "stream",
     "text": [
      "12\n"
     ]
    }
   ],
   "source": [
    "# 5 porpriedade: nbytes\n",
    "print(numpy_array.nbytes)       # returns the number of bytes of the array: 12"
   ]
  },
  {
   "cell_type": "code",
   "execution_count": 68,
   "metadata": {},
   "outputs": [
    {
     "data": {
      "text/plain": [
       "array([[1, 4],\n",
       "       [2, 5],\n",
       "       [3, 6]])"
      ]
     },
     "execution_count": 68,
     "metadata": {},
     "output_type": "execute_result"
    }
   ],
   "source": [
    "# 6 propriedade T (transpose/transposta)\n",
    "numpy_array2d.T          # returns the transpose of the array"
   ]
  },
  {
   "cell_type": "code",
   "execution_count": 69,
   "metadata": {},
   "outputs": [
    {
     "data": {
      "text/plain": [
       "array([[1, 4],\n",
       "       [2, 5],\n",
       "       [3, 6]])"
      ]
     },
     "execution_count": 69,
     "metadata": {},
     "output_type": "execute_result"
    }
   ],
   "source": [
    "numpy_array2d.transpose()"
   ]
  },
  {
   "cell_type": "markdown",
   "metadata": {},
   "source": [
    "#### Criando cria-se um array numpy é necessário haver uma **estimativa** do tamanho dos valores que estarão contidos no array\n",
    "#### Para que na criação do array numpy seja alocado o espaço **necessário** para armazenar os valores!!!\n",
    "---\n",
    "## Operações com array"
   ]
  },
  {
   "cell_type": "code",
   "execution_count": 72,
   "metadata": {},
   "outputs": [],
   "source": [
    "# criando um array numpy declarando que cada elemento será do tipo float com 32 bits (float32)\n",
    "arr1 = np.array([6, 4, 3], dtype=np.float32)\n",
    "arr2 = np.array([1, 2, 3], dtype=np.float32)"
   ]
  },
  {
   "cell_type": "code",
   "execution_count": 73,
   "metadata": {},
   "outputs": [
    {
     "data": {
      "text/plain": [
       "array([6., 8., 9.], dtype=float32)"
      ]
     },
     "execution_count": 73,
     "metadata": {},
     "output_type": "execute_result"
    }
   ],
   "source": [
    "arr1 * arr2            # multiplicação elemento a elemento"
   ]
  },
  {
   "cell_type": "code",
   "execution_count": 74,
   "metadata": {},
   "outputs": [
    {
     "ename": "TypeError",
     "evalue": "can't multiply sequence by non-int of type 'list'",
     "output_type": "error",
     "traceback": [
      "\u001b[1;31m---------------------------------------------------------------------------\u001b[0m",
      "\u001b[1;31mTypeError\u001b[0m                                 Traceback (most recent call last)",
      "Cell \u001b[1;32mIn[74], line 1\u001b[0m\n\u001b[1;32m----> 1\u001b[0m \u001b[43mlista1\u001b[49m\u001b[43m \u001b[49m\u001b[38;5;241;43m*\u001b[39;49m\u001b[43m \u001b[49m\u001b[43mlista2\u001b[49m        \u001b[38;5;66;03m# multiplicação elemento a elemento\u001b[39;00m\n",
      "\u001b[1;31mTypeError\u001b[0m: can't multiply sequence by non-int of type 'list'"
     ]
    }
   ],
   "source": [
    "lista1 * lista2        # multiplicação elemento a elemento"
   ]
  },
  {
   "cell_type": "code",
   "execution_count": 75,
   "metadata": {},
   "outputs": [
    {
     "data": {
      "text/plain": [
       "array([7., 6., 6.], dtype=float32)"
      ]
     },
     "execution_count": 75,
     "metadata": {},
     "output_type": "execute_result"
    }
   ],
   "source": [
    "arr1 + arr2            # soma elemento a elemento"
   ]
  },
  {
   "cell_type": "code",
   "execution_count": 76,
   "metadata": {},
   "outputs": [
    {
     "data": {
      "text/plain": [
       "[1, 2, 3, 4, 5, 6]"
      ]
     },
     "execution_count": 76,
     "metadata": {},
     "output_type": "execute_result"
    }
   ],
   "source": [
    "lista1 + lista2        # concatenação de listas"
   ]
  },
  {
   "cell_type": "code",
   "execution_count": 77,
   "metadata": {},
   "outputs": [
    {
     "data": {
      "text/plain": [
       "array([6., 2., 1.], dtype=float32)"
      ]
     },
     "execution_count": 77,
     "metadata": {},
     "output_type": "execute_result"
    }
   ],
   "source": [
    "arr1 / arr2            # divisão elemento a elemento"
   ]
  },
  {
   "cell_type": "code",
   "execution_count": 78,
   "metadata": {},
   "outputs": [
    {
     "data": {
      "text/plain": [
       "array([5., 2., 0.], dtype=float32)"
      ]
     },
     "execution_count": 78,
     "metadata": {},
     "output_type": "execute_result"
    }
   ],
   "source": [
    "arr1 - arr2             # subtração elemento a elemento"
   ]
  },
  {
   "cell_type": "code",
   "execution_count": 79,
   "metadata": {},
   "outputs": [
    {
     "data": {
      "text/plain": [
       "array([ 6., 16., 27.], dtype=float32)"
      ]
     },
     "execution_count": 79,
     "metadata": {},
     "output_type": "execute_result"
    }
   ],
   "source": [
    "arr1 ** arr2            # potencia elemento a elemento"
   ]
  },
  {
   "cell_type": "code",
   "execution_count": 80,
   "metadata": {},
   "outputs": [
    {
     "data": {
      "text/plain": [
       "array([6., 2., 1.], dtype=float32)"
      ]
     },
     "execution_count": 80,
     "metadata": {},
     "output_type": "execute_result"
    }
   ],
   "source": [
    "arr1 // arr2            # divisão inteira elemento a elemento"
   ]
  },
  {
   "cell_type": "code",
   "execution_count": 81,
   "metadata": {},
   "outputs": [
    {
     "data": {
      "text/plain": [
       "array([0., 0., 0.], dtype=float32)"
      ]
     },
     "execution_count": 81,
     "metadata": {},
     "output_type": "execute_result"
    }
   ],
   "source": [
    "arr1 % arr2            # mod (resto da divisão) elemento a elemento"
   ]
  },
  {
   "cell_type": "code",
   "execution_count": 82,
   "metadata": {},
   "outputs": [
    {
     "data": {
      "text/plain": [
       "array([ True,  True, False])"
      ]
     },
     "execution_count": 82,
     "metadata": {},
     "output_type": "execute_result"
    }
   ],
   "source": [
    "arr1 > arr2            # comparação elemento a elemento"
   ]
  },
  {
   "cell_type": "code",
   "execution_count": 85,
   "metadata": {},
   "outputs": [
    {
     "data": {
      "text/plain": [
       "True"
      ]
     },
     "execution_count": 85,
     "metadata": {},
     "output_type": "execute_result"
    }
   ],
   "source": [
    "# arr1 > arr2 retorna um array (ver acima)\n",
    "(arr1 > arr2).any()"
   ]
  },
  {
   "cell_type": "code",
   "execution_count": 86,
   "metadata": {},
   "outputs": [
    {
     "data": {
      "text/plain": [
       "False"
      ]
     },
     "execution_count": 86,
     "metadata": {},
     "output_type": "execute_result"
    }
   ],
   "source": [
    "(arr1 > arr2).all()"
   ]
  },
  {
   "attachments": {},
   "cell_type": "markdown",
   "metadata": {},
   "source": [
    "---\n",
    "## array slicing"
   ]
  },
  {
   "cell_type": "code",
   "execution_count": 15,
   "metadata": {},
   "outputs": [
    {
     "data": {
      "text/plain": [
       "array([[  1,   2,   3,   4,   5,   6,   7,   8,   9,  10],\n",
       "       [  2,   4,   6,   8,  10,  12,  14,  16,  18,  20],\n",
       "       [  3,   6,   9,  12,  15,  18,  21,  24,  27,  30],\n",
       "       [  4,   8,  12,  16,  20,  24,  28,  32,  36,  40],\n",
       "       [  5,  10,  15,  20,  25,  30,  35,  40,  45,  50],\n",
       "       [  6,  12,  18,  24,  30,  36,  42,  48,  54,  60],\n",
       "       [  7,  14,  21,  28,  35,  42,  49,  56,  63,  70],\n",
       "       [  8,  16,  24,  32,  40,  48,  56,  64,  72,  80],\n",
       "       [  9,  18,  27,  36,  45,  54,  63,  72,  81,  90],\n",
       "       [ 10,  20,  30,  40,  50,  60,  70,  80,  90, 100]])"
      ]
     },
     "execution_count": 15,
     "metadata": {},
     "output_type": "execute_result"
    }
   ],
   "source": [
    "# regras para fatiar um array numpy...\n",
    "# 1: array[start:end] -> o parametro start é 'inclusivo' e o parametro 'end' é exclusivo\n",
    "# 2: array[start:] -> start is inclusive and end is the last element\n",
    "# 3: array[:end] -> start is the first element and end is exclusive\n",
    "# 4: array[:] -> start is the first element and end is the last element\n",
    "# 5: array[start:end:step] -> step is the step size\n",
    "\n",
    "# np.zeros ou no.ones são métodos do numpy para criar arrays numpy com valores específicos. Depois disso, você pode alterar os valores\n",
    "arr = np.zeros(shape=(10, 10), dtype=int)\n",
    "for row in range(1, arr.shape[0] + 1):\n",
    "    for col in range(1, arr.shape[1] + 1):\n",
    "        arr[row - 1, col - 1] = int(row * col)\n",
    "\n",
    "arr"
   ]
  },
  {
   "cell_type": "code",
   "execution_count": 88,
   "metadata": {},
   "outputs": [
    {
     "data": {
      "text/plain": [
       "dtype('int32')"
      ]
     },
     "execution_count": 88,
     "metadata": {},
     "output_type": "execute_result"
    }
   ],
   "source": [
    "arr.dtype"
   ]
  },
  {
   "cell_type": "code",
   "execution_count": 94,
   "metadata": {},
   "outputs": [
    {
     "name": "stdout",
     "output_type": "stream",
     "text": [
      "1\n"
     ]
    }
   ],
   "source": [
    "print(arr[0, 0])          # primeiro elemento. Em listas, seria arr[0][0]"
   ]
  },
  {
   "cell_type": "code",
   "execution_count": 95,
   "metadata": {},
   "outputs": [
    {
     "name": "stdout",
     "output_type": "stream",
     "text": [
      "10\n"
     ]
    }
   ],
   "source": [
    "print(arr[0, -1])         # último elemento da primeira linha. Em listas, seria arr[0][-1]"
   ]
  },
  {
   "cell_type": "code",
   "execution_count": 96,
   "metadata": {},
   "outputs": [
    {
     "name": "stdout",
     "output_type": "stream",
     "text": [
      "10\n"
     ]
    }
   ],
   "source": [
    "print(arr[-1, 0])         # primeiro elemento da última linha. Em listas, seria arr[-1][0]"
   ]
  },
  {
   "cell_type": "code",
   "execution_count": 97,
   "metadata": {},
   "outputs": [
    {
     "name": "stdout",
     "output_type": "stream",
     "text": [
      "100\n"
     ]
    }
   ],
   "source": [
    "print(arr[-1, -1])        # último elemento da última linha. Em listas, seria arr[-1][-1]"
   ]
  },
  {
   "cell_type": "code",
   "execution_count": 98,
   "metadata": {},
   "outputs": [
    {
     "name": "stdout",
     "output_type": "stream",
     "text": [
      "[ 1  2  3  4  5  6  7  8  9 10]\n"
     ]
    }
   ],
   "source": [
    "print(arr[0, :])          # primeira linha (0) e todas as colunas (:). Em listas, seria arr[0][:]"
   ]
  },
  {
   "cell_type": "code",
   "execution_count": 99,
   "metadata": {},
   "outputs": [
    {
     "name": "stdout",
     "output_type": "stream",
     "text": [
      "[ 10  20  30  40  50  60  70  80  90 100]\n"
     ]
    }
   ],
   "source": [
    "print(arr[-1, :])         # última linha (-1) e todas as colunas (:). Em listas, seria arr[-1][:]"
   ]
  },
  {
   "cell_type": "code",
   "execution_count": 100,
   "metadata": {},
   "outputs": [
    {
     "name": "stdout",
     "output_type": "stream",
     "text": [
      "[ 1  2  3  4  5  6  7  8  9 10]\n"
     ]
    }
   ],
   "source": [
    "print(arr[:, 0])          # todas as linhas (:) e a primeira coluna (0). Em listas, seria arr[:][0]"
   ]
  },
  {
   "cell_type": "code",
   "execution_count": 101,
   "metadata": {},
   "outputs": [
    {
     "name": "stdout",
     "output_type": "stream",
     "text": [
      "[ 10  20  30  40  50  60  70  80  90 100]\n"
     ]
    }
   ],
   "source": [
    "print(arr[:, -1])         # todas as linhas (:) e a última coluna (-1). Em listas, seria arr[:][-1]"
   ]
  },
  {
   "cell_type": "code",
   "execution_count": 103,
   "metadata": {},
   "outputs": [
    {
     "name": "stdout",
     "output_type": "stream",
     "text": [
      "[[1 2 3]\n",
      " [2 4 6]\n",
      " [3 6 9]]\n"
     ]
    }
   ],
   "source": [
    "print(arr[0:3, 0:3])      # primeiras 3 linhas e primeiras 3 colunas. Em listas, seria arr[0:3][0:3]"
   ]
  },
  {
   "cell_type": "code",
   "execution_count": 107,
   "metadata": {},
   "outputs": [
    {
     "name": "stdout",
     "output_type": "stream",
     "text": [
      "[[ 1  2  3  4  5  6  7  8  9 10]\n",
      " [ 2  4  6  8 10 12 14 16 18 20]\n",
      " [ 3  6  9 12 15 18 21 24 27 30]]\n"
     ]
    }
   ],
   "source": [
    "print(arr[:3, :])        # primeiras 3 linhas e todas as colunas. Em listas, seria arr[0:3][:]"
   ]
  },
  {
   "cell_type": "code",
   "execution_count": 108,
   "metadata": {},
   "outputs": [
    {
     "name": "stdout",
     "output_type": "stream",
     "text": [
      "[[ 1  2  3]\n",
      " [ 2  4  6]\n",
      " [ 3  6  9]\n",
      " [ 4  8 12]\n",
      " [ 5 10 15]\n",
      " [ 6 12 18]\n",
      " [ 7 14 21]\n",
      " [ 8 16 24]\n",
      " [ 9 18 27]\n",
      " [10 20 30]]\n"
     ]
    }
   ],
   "source": [
    "print(arr[:, 0:3])        # todas as linhas e primeiras 3 colunas. Em listas, seria arr[:][0:3]"
   ]
  },
  {
   "cell_type": "code",
   "execution_count": 109,
   "metadata": {},
   "outputs": [
    {
     "name": "stdout",
     "output_type": "stream",
     "text": [
      "[[  1   2   3   4   5   6   7   8   9  10]\n",
      " [  2   4   6   8  10  12  14  16  18  20]\n",
      " [  3   6   9  12  15  18  21  24  27  30]\n",
      " [  4   8  12  16  20  24  28  32  36  40]\n",
      " [  5  10  15  20  25  30  35  40  45  50]\n",
      " [  6  12  18  24  30  36  42  48  54  60]\n",
      " [  7  14  21  28  35  42  49  56  63  70]\n",
      " [  8  16  24  32  40  48  56  64  72  80]\n",
      " [  9  18  27  36  45  54  63  72  81  90]\n",
      " [ 10  20  30  40  50  60  70  80  90 100]]\n"
     ]
    }
   ],
   "source": [
    "print(arr[:, :])          # todas as linhas e todas as colunas. Em listas, seria arr[:][:]"
   ]
  },
  {
   "cell_type": "code",
   "execution_count": 110,
   "metadata": {},
   "outputs": [
    {
     "name": "stdout",
     "output_type": "stream",
     "text": [
      "[[ 3  6  9]\n",
      " [ 9 18 27]\n",
      " [15 30 45]]\n"
     ]
    }
   ],
   "source": [
    "print(arr[0:6:2, 2:9:3])        # linhas pares e colunas pares"
   ]
  },
  {
   "cell_type": "code",
   "execution_count": 111,
   "metadata": {},
   "outputs": [
    {
     "name": "stdout",
     "output_type": "stream",
     "text": [
      "[[  2   4   6   8  10  12  14  16  18  20]\n",
      " [  4   8  12  16  20  24  28  32  36  40]\n",
      " [  6  12  18  24  30  36  42  48  54  60]\n",
      " [  8  16  24  32  40  48  56  64  72  80]\n",
      " [ 10  20  30  40  50  60  70  80  90 100]]\n"
     ]
    }
   ],
   "source": [
    "print(arr[1:11:2, 0:11:1])        # linhas ímpares e colunas ímpares"
   ]
  },
  {
   "cell_type": "code",
   "execution_count": 112,
   "metadata": {},
   "outputs": [
    {
     "name": "stdout",
     "output_type": "stream",
     "text": [
      "[[100  90  80  70  60  50  40  30  20]\n",
      " [ 80  72  64  56  48  40  32  24  16]\n",
      " [ 60  54  48  42  36  30  24  18  12]\n",
      " [ 40  36  32  28  24  20  16  12   8]]\n"
     ]
    }
   ],
   "source": [
    "print(arr[9:1:-2, 9:0:-1])        # linhas pares e colunas pares invertidas"
   ]
  },
  {
   "cell_type": "code",
   "execution_count": 114,
   "metadata": {},
   "outputs": [
    {
     "name": "stdout",
     "output_type": "stream",
     "text": [
      "[ 4  8 12 16 20 24 28 32 36 40]\n"
     ]
    }
   ],
   "source": [
    "# imprimindo a quarta linha (indice 3)\n",
    "print(arr[3])\n",
    "\n",
    "# índices: [ 0  1  2  3  4  5  6  7  8  9]\n",
    "# valores: [ 4  8 12 16 20 24 28 32 36 40]"
   ]
  },
  {
   "cell_type": "code",
   "execution_count": null,
   "metadata": {},
   "outputs": [],
   "source": [
    "# classificando os valores da quarta linha em ordem crescente\n",
    "print(arr[3][[0, 1, 2, 3, 4, 5, 6, 7, 8, 9]])\n",
    "print()\n",
    "# classificando os valores da quarta linha em ordem decrescente\n",
    "print(arr[3][[9, 8, 7, 6, 5, 4, 3, 2, 1, 0]])"
   ]
  },
  {
   "cell_type": "code",
   "execution_count": 121,
   "metadata": {},
   "outputs": [
    {
     "name": "stdout",
     "output_type": "stream",
     "text": [
      "[24 32 28 20 36]\n"
     ]
    }
   ],
   "source": [
    "# filtrando os valores da quarta linha com os indices 5, 7, 6, 4, 8\n",
    "print(arr[3, [5, 7, 6, 4, 8]])"
   ]
  },
  {
   "cell_type": "code",
   "execution_count": 122,
   "metadata": {},
   "outputs": [
    {
     "data": {
      "text/plain": [
       "array([[[0.74831625, 0.90289049, 0.07053098],\n",
       "        [0.70211532, 0.1904878 , 0.02453786]],\n",
       "\n",
       "       [[0.75930542, 0.25383276, 0.64223637],\n",
       "        [0.67099676, 0.25971298, 0.81243924]]])"
      ]
     },
     "execution_count": 122,
     "metadata": {},
     "output_type": "execute_result"
    }
   ],
   "source": [
    "np.random.random(size=(2, 2, 3))"
   ]
  },
  {
   "cell_type": "code",
   "execution_count": 123,
   "metadata": {},
   "outputs": [
    {
     "data": {
      "text/plain": [
       "array([[[215,  63,   1],\n",
       "        [219, 100, 234]],\n",
       "\n",
       "       [[ 82, 136,  68],\n",
       "        [ 16,  35, 242]]], dtype=uint8)"
      ]
     },
     "execution_count": 123,
     "metadata": {},
     "output_type": "execute_result"
    }
   ],
   "source": [
    "(np.random.random(size=(2, 2, 3)) * 255).astype(np.uint8)"
   ]
  },
  {
   "cell_type": "code",
   "execution_count": 124,
   "metadata": {},
   "outputs": [
    {
     "data": {
      "text/plain": [
       "array([[[ 71,  48, 209],\n",
       "        [213,   0, 214]],\n",
       "\n",
       "       [[ 94, 217, 179],\n",
       "        [ 27, 181,  30]]], dtype=uint8)"
      ]
     },
     "execution_count": 124,
     "metadata": {},
     "output_type": "execute_result"
    }
   ],
   "source": [
    "imagem = (np.random.random(size=(2, 2, 3)) * 255).astype(np.uint8)\n",
    "imagem"
   ]
  },
  {
   "cell_type": "code",
   "execution_count": 130,
   "metadata": {},
   "outputs": [
    {
     "data": {
      "text/plain": [
       "array([[ 71, 213],\n",
       "       [ 94,  27]], dtype=uint8)"
      ]
     },
     "execution_count": 130,
     "metadata": {},
     "output_type": "execute_result"
    }
   ],
   "source": [
    "# operador ellipsys\n",
    "imagem[..., 0]      # canal vermelho (mesmo que imagem[:, :, 0])"
   ]
  },
  {
   "cell_type": "code",
   "execution_count": 126,
   "metadata": {},
   "outputs": [
    {
     "data": {
      "text/plain": [
       "array([[ 48,   0],\n",
       "       [217, 181]], dtype=uint8)"
      ]
     },
     "execution_count": 126,
     "metadata": {},
     "output_type": "execute_result"
    }
   ],
   "source": [
    "imagem[..., 1]      # canal verde (mesmo que imagem[:, :, 1])"
   ]
  },
  {
   "cell_type": "code",
   "execution_count": 127,
   "metadata": {},
   "outputs": [
    {
     "data": {
      "text/plain": [
       "array([[209, 214],\n",
       "       [179,  30]], dtype=uint8)"
      ]
     },
     "execution_count": 127,
     "metadata": {},
     "output_type": "execute_result"
    }
   ],
   "source": [
    "imagem[..., 2]      # canal azul (mesmo que imagem[:, :, 2])"
   ]
  },
  {
   "cell_type": "code",
   "execution_count": 131,
   "metadata": {},
   "outputs": [
    {
     "data": {
      "text/plain": [
       "array([[109, 142],\n",
       "       [163,  79]], dtype=uint8)"
      ]
     },
     "execution_count": 131,
     "metadata": {},
     "output_type": "execute_result"
    }
   ],
   "source": [
    "np.mean(imagem, axis=2).astype(np.uint8)     # média dos 3 canais (imagem em escala de cinza)"
   ]
  },
  {
   "attachments": {},
   "cell_type": "markdown",
   "metadata": {},
   "source": [
    "---\n",
    "# Métodos de arrays numpy"
   ]
  },
  {
   "cell_type": "code",
   "execution_count": null,
   "metadata": {},
   "outputs": [],
   "source": [
    "# mostrando todos os métodos e propriedades de um array numpy (exceto os métodos especiais)\n",
    "print(dir(arr1)[96:])\n",
    "\n",
    "# 'all' está dentro de todos os objetos numpy array (método)\n",
    "# 'any' está dentro de todos os objetos numpy array (método)\n",
    "# 'argmax' está dentro de todos os objetos numpy array (método)\n",
    "# ..."
   ]
  },
  {
   "cell_type": "code",
   "execution_count": null,
   "metadata": {},
   "outputs": [],
   "source": [
    "# Métodos mais utilizados de um array numpy\n",
    "# 1: array.argmax\n",
    "# 2: array.argmin\n",
    "# 3: array.argsort\n",
    "# 4: array.max\n",
    "# 5: array.min\n",
    "# 6: array.mean\n",
    "# 7: array.std\n",
    "# 8: array.sum\n",
    "# 9: array.var\n",
    "# 10: array.reshape\n",
    "# 11: array.ravel\n",
    "# 12: array.unique\n",
    "# 13: np.random.randint\n",
    "# 14: np.random.randn\n",
    "# 15: np.random.choice\n",
    "# 16: np.arange\n",
    "# 17: np.random.shuffle\n",
    "# 18: np.random.seed\n",
    "# 19: np.concatenate\n",
    "# 20: np.where\n",
    "# 21: np.linspace"
   ]
  },
  {
   "cell_type": "code",
   "execution_count": 1,
   "metadata": {},
   "outputs": [],
   "source": [
    "# função usada apenas para criar arrays aleatórios\n",
    "def criar_array_aleatorio(rows, cols):\n",
    "    return np.random.randint(0, 100, size=(rows, cols))     # cria um array numpy com valores aleatórios entre 0 e 100"
   ]
  },
  {
   "attachments": {},
   "cell_type": "markdown",
   "metadata": {},
   "source": [
    "---"
   ]
  },
  {
   "attachments": {},
   "cell_type": "markdown",
   "metadata": {},
   "source": [
    "# 1: array.argmax"
   ]
  },
  {
   "cell_type": "code",
   "execution_count": 4,
   "metadata": {},
   "outputs": [
    {
     "data": {
      "text/plain": [
       "array([[93, 37, 34, 66],\n",
       "       [ 4, 25, 89, 18],\n",
       "       [84, 55,  6, 51]])"
      ]
     },
     "execution_count": 4,
     "metadata": {},
     "output_type": "execute_result"
    }
   ],
   "source": [
    "arr1 = criar_array_aleatorio(3, 4)\n",
    "arr1"
   ]
  },
  {
   "cell_type": "code",
   "execution_count": 5,
   "metadata": {},
   "outputs": [
    {
     "name": "stdout",
     "output_type": "stream",
     "text": [
      "[0 2 1 0]\n",
      "\n",
      "[0 2 0]\n"
     ]
    }
   ],
   "source": [
    "# arr1.argmax(axis=0) = [indmax da coluna 0 | indmax da coluna 1 | indmax da coluna 2 | indmax da coluna 3]\n",
    "# arr1.argmax(axis=1) = [indmax da linha 0 | indmax da linha 1 | indmax da linha 2]\n",
    "\n",
    "print(arr1.argmax(axis=0))             # retorna o índice do maior valor do array considerando o eixo 0 (linhas)\n",
    "print()\n",
    "print(arr1.argmax(axis=1))             # retorna o índice do maior valor do array considerando o eixo 1 (colunas)                                "
   ]
  },
  {
   "attachments": {},
   "cell_type": "markdown",
   "metadata": {},
   "source": [
    "---"
   ]
  },
  {
   "attachments": {},
   "cell_type": "markdown",
   "metadata": {},
   "source": [
    "# 2: array.argmin"
   ]
  },
  {
   "cell_type": "code",
   "execution_count": 6,
   "metadata": {},
   "outputs": [
    {
     "data": {
      "text/plain": [
       "array([[ 1,  6, 53, 98],\n",
       "       [78, 64, 57,  2],\n",
       "       [48, 43,  1, 79]])"
      ]
     },
     "execution_count": 6,
     "metadata": {},
     "output_type": "execute_result"
    }
   ],
   "source": [
    "arr2 = criar_array_aleatorio(3, 4)\n",
    "arr2"
   ]
  },
  {
   "cell_type": "code",
   "execution_count": 7,
   "metadata": {},
   "outputs": [
    {
     "name": "stdout",
     "output_type": "stream",
     "text": [
      "[0 0 2 1]\n",
      "\n",
      "[0 3 2]\n"
     ]
    }
   ],
   "source": [
    "# arr2.argmin(axis=0) = [indmin of column 0 | indmin of column 1 | indmin of column 2 | indmin of column 3]\n",
    "# arr2.argmin(axis=1) = [indmin of row 0 | indmin of row 1 | indmin of row 2]\n",
    "\n",
    "print(arr2.argmin(axis=0))\n",
    "print()\n",
    "print(arr2.argmin(axis=1))"
   ]
  },
  {
   "attachments": {},
   "cell_type": "markdown",
   "metadata": {},
   "source": [
    "---"
   ]
  },
  {
   "attachments": {},
   "cell_type": "markdown",
   "metadata": {},
   "source": [
    "# 3: array.argsort"
   ]
  },
  {
   "cell_type": "code",
   "execution_count": 8,
   "metadata": {},
   "outputs": [
    {
     "data": {
      "text/plain": [
       "array([[23, 78, 83, 65],\n",
       "       [82, 60, 45, 39]])"
      ]
     },
     "execution_count": 8,
     "metadata": {},
     "output_type": "execute_result"
    }
   ],
   "source": [
    "# 3. argsort\n",
    "arr3 = criar_array_aleatorio(2, 4)\n",
    "arr3"
   ]
  },
  {
   "cell_type": "code",
   "execution_count": 9,
   "metadata": {},
   "outputs": [
    {
     "data": {
      "text/plain": [
       "array([23, 78, 83, 65, 82, 60, 45, 39])"
      ]
     },
     "execution_count": 9,
     "metadata": {},
     "output_type": "execute_result"
    }
   ],
   "source": [
    "# foi utilizado o ravel abaixo para retornar o array 'achatado' (1 dimensão). Isto é diferente de uma matriz 1x8 ou 8x1\n",
    "arr3 = arr3.ravel()                # retorna o array 'achatado' (1 dimensão)\n",
    "arr3"
   ]
  },
  {
   "cell_type": "code",
   "execution_count": 10,
   "metadata": {},
   "outputs": [
    {
     "data": {
      "text/plain": [
       "(8,)"
      ]
     },
     "execution_count": 10,
     "metadata": {},
     "output_type": "execute_result"
    }
   ],
   "source": [
    "# oito elementos na única dimensão do array\n",
    "arr3.shape"
   ]
  },
  {
   "cell_type": "code",
   "execution_count": 12,
   "metadata": {},
   "outputs": [
    {
     "data": {
      "text/plain": [
       "array([23, 78, 83, 65, 82, 60, 45, 39])"
      ]
     },
     "execution_count": 12,
     "metadata": {},
     "output_type": "execute_result"
    }
   ],
   "source": [
    "arr3"
   ]
  },
  {
   "cell_type": "code",
   "execution_count": 11,
   "metadata": {},
   "outputs": [
    {
     "name": "stdout",
     "output_type": "stream",
     "text": [
      "[0 7 6 5 3 1 4 2]\n"
     ]
    }
   ],
   "source": [
    "# arr3.argsort() = [ indice do valor minimo  |  indice do 2nd valor minimo  |  indice do 3rd valor minimo  |  ...]\n",
    "argsort = arr3.argsort()     # retorna os índices dos valores que classificariam o array\n",
    "print(argsort)"
   ]
  },
  {
   "cell_type": "code",
   "execution_count": 20,
   "metadata": {},
   "outputs": [
    {
     "data": {
      "text/plain": [
       "array([50,  5, 20, 10, 30, 25, 40, 15, 35, 45])"
      ]
     },
     "execution_count": 20,
     "metadata": {},
     "output_type": "execute_result"
    }
   ],
   "source": [
    "# ranqueando o array (arr[4]) em ordem decrescente\n",
    "arr[4][[9, 8, 7, 6, 5, 4, 3, 2, 1, 0]]"
   ]
  },
  {
   "cell_type": "code",
   "execution_count": 21,
   "metadata": {},
   "outputs": [
    {
     "data": {
      "text/plain": [
       "array([0, 7, 6, 5, 3, 1, 4, 2], dtype=int64)"
      ]
     },
     "execution_count": 21,
     "metadata": {},
     "output_type": "execute_result"
    }
   ],
   "source": [
    "# resultado do método argsort aplicado no objeto arr3\n",
    "argsort"
   ]
  },
  {
   "cell_type": "code",
   "execution_count": 24,
   "metadata": {},
   "outputs": [
    {
     "data": {
      "text/plain": [
       "array([2, 4, 1, 3, 5, 6, 7, 0], dtype=int64)"
      ]
     },
     "execution_count": 24,
     "metadata": {},
     "output_type": "execute_result"
    }
   ],
   "source": [
    "# invertendo a ordem do resultado do argsort\n",
    "argsort[::-1]"
   ]
  },
  {
   "cell_type": "code",
   "execution_count": 23,
   "metadata": {},
   "outputs": [
    {
     "data": {
      "text/plain": [
       "array([23, 39, 45, 60, 65, 78, 82, 83])"
      ]
     },
     "execution_count": 23,
     "metadata": {},
     "output_type": "execute_result"
    }
   ],
   "source": [
    "arr3[argsort]                           # retorna o array classificado"
   ]
  },
  {
   "cell_type": "code",
   "execution_count": 26,
   "metadata": {},
   "outputs": [
    {
     "data": {
      "text/plain": [
       "array([83, 82, 78, 65, 60, 45, 39, 23])"
      ]
     },
     "execution_count": 26,
     "metadata": {},
     "output_type": "execute_result"
    }
   ],
   "source": [
    "arr3[argsort[::-1]]"
   ]
  },
  {
   "cell_type": "code",
   "execution_count": null,
   "metadata": {},
   "outputs": [],
   "source": [
    "arr3 = criar_array_aleatorio(2, 4)\n",
    "arr3"
   ]
  },
  {
   "cell_type": "code",
   "execution_count": null,
   "metadata": {},
   "outputs": [],
   "source": [
    "arr3.argsort(axis=0)                    # retorna os indices que ordenariam o array considerando o eixo 0 (linhas)"
   ]
  },
  {
   "cell_type": "code",
   "execution_count": null,
   "metadata": {},
   "outputs": [],
   "source": [
    "arr3.argsort(axis=1)                    # retorna os indices que ordenariam o array considerando o eixo 1 (colunas)"
   ]
  },
  {
   "attachments": {},
   "cell_type": "markdown",
   "metadata": {},
   "source": [
    "---"
   ]
  },
  {
   "attachments": {},
   "cell_type": "markdown",
   "metadata": {},
   "source": [
    "# 4: array.max"
   ]
  },
  {
   "cell_type": "code",
   "execution_count": 28,
   "metadata": {},
   "outputs": [
    {
     "data": {
      "text/plain": [
       "array([[82, 91, 79, 79],\n",
       "       [68, 89, 83,  5],\n",
       "       [68, 83, 91,  9]])"
      ]
     },
     "execution_count": 28,
     "metadata": {},
     "output_type": "execute_result"
    }
   ],
   "source": [
    "arr4 = criar_array_aleatorio(3, cols=4)\n",
    "arr4"
   ]
  },
  {
   "cell_type": "code",
   "execution_count": 29,
   "metadata": {},
   "outputs": [
    {
     "name": "stdout",
     "output_type": "stream",
     "text": [
      "91\n"
     ]
    }
   ],
   "source": [
    "print(arr4.max())                   # retorna o valor máximo do array inteiro"
   ]
  },
  {
   "cell_type": "code",
   "execution_count": 30,
   "metadata": {},
   "outputs": [
    {
     "name": "stdout",
     "output_type": "stream",
     "text": [
      "[82 91 91 79]\n"
     ]
    }
   ],
   "source": [
    "print(arr4.max(axis=0))             # retorna o valor máximo do array considerando o eixo 0 (linhas)"
   ]
  },
  {
   "cell_type": "code",
   "execution_count": 31,
   "metadata": {},
   "outputs": [
    {
     "name": "stdout",
     "output_type": "stream",
     "text": [
      "[91 89 91]\n"
     ]
    }
   ],
   "source": [
    "print(arr4.max(axis=1))             # retorna o valor máximo do array considerando o eixo 1 (colunas)"
   ]
  },
  {
   "attachments": {},
   "cell_type": "markdown",
   "metadata": {},
   "source": [
    "---"
   ]
  },
  {
   "attachments": {},
   "cell_type": "markdown",
   "metadata": {},
   "source": [
    "# 5: array.min"
   ]
  },
  {
   "cell_type": "code",
   "execution_count": 32,
   "metadata": {},
   "outputs": [
    {
     "data": {
      "text/plain": [
       "array([[33, 53, 39, 15],\n",
       "       [82, 82, 15, 83],\n",
       "       [22, 45, 15, 51]])"
      ]
     },
     "execution_count": 32,
     "metadata": {},
     "output_type": "execute_result"
    }
   ],
   "source": [
    "arr5 = criar_array_aleatorio(3, 4)\n",
    "arr5"
   ]
  },
  {
   "cell_type": "code",
   "execution_count": 33,
   "metadata": {},
   "outputs": [
    {
     "name": "stdout",
     "output_type": "stream",
     "text": [
      "15\n"
     ]
    }
   ],
   "source": [
    "print(arr5.min())                   # retorna o valor mínimo do array inteiro"
   ]
  },
  {
   "cell_type": "code",
   "execution_count": 34,
   "metadata": {},
   "outputs": [
    {
     "name": "stdout",
     "output_type": "stream",
     "text": [
      "[22 45 15 15]\n"
     ]
    }
   ],
   "source": [
    "print(arr5.min(axis=0))             # retorna o valor mínimo do array considerando o eixo 0 (linhas)"
   ]
  },
  {
   "cell_type": "code",
   "execution_count": 35,
   "metadata": {},
   "outputs": [
    {
     "name": "stdout",
     "output_type": "stream",
     "text": [
      "[15 15 15]\n"
     ]
    }
   ],
   "source": [
    "print(arr5.min(axis=1))             # retorna o valor mínimo do array considerando o eixo 1 (colunas)"
   ]
  },
  {
   "attachments": {},
   "cell_type": "markdown",
   "metadata": {},
   "source": [
    "---"
   ]
  },
  {
   "attachments": {},
   "cell_type": "markdown",
   "metadata": {},
   "source": [
    "# 6: array.mean"
   ]
  },
  {
   "cell_type": "code",
   "execution_count": 36,
   "metadata": {},
   "outputs": [
    {
     "data": {
      "text/plain": [
       "array([[46, 46, 33, 58],\n",
       "       [99, 39, 90, 35],\n",
       "       [67,  0, 21,  1]])"
      ]
     },
     "execution_count": 36,
     "metadata": {},
     "output_type": "execute_result"
    }
   ],
   "source": [
    "arr6 = criar_array_aleatorio(3, 4)\n",
    "arr6"
   ]
  },
  {
   "cell_type": "code",
   "execution_count": 37,
   "metadata": {},
   "outputs": [
    {
     "name": "stdout",
     "output_type": "stream",
     "text": [
      "44.583333333333336\n"
     ]
    }
   ],
   "source": [
    "print(arr6.mean())                   # retorna a média do array inteiro"
   ]
  },
  {
   "cell_type": "code",
   "execution_count": 38,
   "metadata": {},
   "outputs": [
    {
     "name": "stdout",
     "output_type": "stream",
     "text": [
      "[70.66666667 28.33333333 48.         31.33333333]\n"
     ]
    }
   ],
   "source": [
    "print(arr6.mean(axis=0))             # retorna a média do array considerando o eixo 0 (linhas)"
   ]
  },
  {
   "cell_type": "code",
   "execution_count": 39,
   "metadata": {},
   "outputs": [
    {
     "name": "stdout",
     "output_type": "stream",
     "text": [
      "[45.75 65.75 22.25]\n"
     ]
    }
   ],
   "source": [
    "print(arr6.mean(axis=1))             # retorna a média do array considerando o eixo 1 (colunas)"
   ]
  },
  {
   "attachments": {},
   "cell_type": "markdown",
   "metadata": {},
   "source": [
    "---"
   ]
  },
  {
   "attachments": {},
   "cell_type": "markdown",
   "metadata": {},
   "source": [
    "# 7: array.std"
   ]
  },
  {
   "cell_type": "code",
   "execution_count": 40,
   "metadata": {},
   "outputs": [
    {
     "data": {
      "text/plain": [
       "array([[92, 75, 23, 77],\n",
       "       [73, 15,  5, 18],\n",
       "       [ 6, 42, 88,  6]])"
      ]
     },
     "execution_count": 40,
     "metadata": {},
     "output_type": "execute_result"
    }
   ],
   "source": [
    "arr7 = criar_array_aleatorio(3, 4)\n",
    "arr7"
   ]
  },
  {
   "cell_type": "code",
   "execution_count": 41,
   "metadata": {},
   "outputs": [
    {
     "name": "stdout",
     "output_type": "stream",
     "text": [
      "33.536878540231235\n"
     ]
    }
   ],
   "source": [
    "print(arr7.std())                   # retorna o desvio padrão do array inteiro"
   ]
  },
  {
   "cell_type": "code",
   "execution_count": 42,
   "metadata": {},
   "outputs": [
    {
     "name": "stdout",
     "output_type": "stream",
     "text": [
      "[36.88721549 24.53568829 35.64952859 31.03045099]\n"
     ]
    }
   ],
   "source": [
    "print(arr7.std(axis=0))             # retorna o desvio padrão do array considerando o eixo 0 (linhas)"
   ]
  },
  {
   "cell_type": "code",
   "execution_count": 43,
   "metadata": {},
   "outputs": [
    {
     "name": "stdout",
     "output_type": "stream",
     "text": [
      "[26.09956896 26.56477931 33.68605053]\n"
     ]
    }
   ],
   "source": [
    "print(arr7.std(axis=1))             # retorna o desvio padrão do array considerando o eixo 1 (colunas)"
   ]
  },
  {
   "cell_type": "code",
   "execution_count": 44,
   "metadata": {},
   "outputs": [
    {
     "name": "stdout",
     "output_type": "stream",
     "text": [
      "[26.1  26.56 33.69]\n"
     ]
    }
   ],
   "source": [
    "# usando o método round no array que retornou do metodo 'std'\n",
    "print(arr7.std(axis=1).round(1+1))"
   ]
  },
  {
   "attachments": {},
   "cell_type": "markdown",
   "metadata": {},
   "source": [
    "---"
   ]
  },
  {
   "attachments": {},
   "cell_type": "markdown",
   "metadata": {},
   "source": [
    "# 8: array.sum"
   ]
  },
  {
   "cell_type": "code",
   "execution_count": 46,
   "metadata": {},
   "outputs": [
    {
     "data": {
      "text/plain": [
       "array([[37,  5, 91,  8, 98, 82, 52, 73, 11],\n",
       "       [ 5, 95, 65,  3, 18, 22, 47, 51, 18],\n",
       "       [10, 32, 44, 17, 48, 39, 82, 20, 43]])"
      ]
     },
     "execution_count": 46,
     "metadata": {},
     "output_type": "execute_result"
    }
   ],
   "source": [
    "arr8 = criar_array_aleatorio(3, 9)\n",
    "arr8"
   ]
  },
  {
   "cell_type": "code",
   "execution_count": 47,
   "metadata": {},
   "outputs": [
    {
     "name": "stdout",
     "output_type": "stream",
     "text": [
      "1116\n"
     ]
    }
   ],
   "source": [
    "print(arr8.sum())                   # retorna a soma do array inteiro"
   ]
  },
  {
   "cell_type": "code",
   "execution_count": 48,
   "metadata": {},
   "outputs": [
    {
     "name": "stdout",
     "output_type": "stream",
     "text": [
      "[ 52 132 200  28 164 143 181 144  72]\n"
     ]
    }
   ],
   "source": [
    "print(arr8.sum(axis=0))             # retorna a soma do array considerando o eixo 0 (linhas)"
   ]
  },
  {
   "cell_type": "code",
   "execution_count": 49,
   "metadata": {},
   "outputs": [
    {
     "name": "stdout",
     "output_type": "stream",
     "text": [
      "[457 324 335]\n"
     ]
    }
   ],
   "source": [
    "print(arr8.sum(axis=1))             # retorna a soma do array considerando o eixo 1 (colunas)"
   ]
  },
  {
   "attachments": {},
   "cell_type": "markdown",
   "metadata": {},
   "source": [
    "---"
   ]
  },
  {
   "attachments": {},
   "cell_type": "markdown",
   "metadata": {},
   "source": [
    "# 9: array.var"
   ]
  },
  {
   "cell_type": "code",
   "execution_count": 50,
   "metadata": {},
   "outputs": [
    {
     "data": {
      "text/plain": [
       "array([[12, 10, 93, 97],\n",
       "       [ 8, 59, 68, 44],\n",
       "       [46, 91, 56, 19]])"
      ]
     },
     "execution_count": 50,
     "metadata": {},
     "output_type": "execute_result"
    }
   ],
   "source": [
    "arr9 = criar_array_aleatorio(3, 4)\n",
    "arr9"
   ]
  },
  {
   "cell_type": "code",
   "execution_count": 51,
   "metadata": {},
   "outputs": [
    {
     "name": "stdout",
     "output_type": "stream",
     "text": [
      "1000.0208333333334\n"
     ]
    }
   ],
   "source": [
    "print(arr9.var())                   # retorna a variância do array inteiro"
   ]
  },
  {
   "cell_type": "code",
   "execution_count": 52,
   "metadata": {},
   "outputs": [
    {
     "name": "stdout",
     "output_type": "stream",
     "text": [
      "[ 290.66666667 1109.55555556  237.55555556 1057.55555556]\n"
     ]
    }
   ],
   "source": [
    "print(arr9.var(axis=0))             # retorna a variância do array considerando o eixo 0 (linhas)"
   ]
  },
  {
   "cell_type": "code",
   "execution_count": 53,
   "metadata": {},
   "outputs": [
    {
     "name": "stdout",
     "output_type": "stream",
     "text": [
      "[1766.5     523.6875  664.5   ]\n"
     ]
    }
   ],
   "source": [
    "print(arr9.var(axis=1))             # retorna a variância do array considerando o eixo 1 (colunas)"
   ]
  },
  {
   "attachments": {},
   "cell_type": "markdown",
   "metadata": {},
   "source": [
    "---"
   ]
  },
  {
   "attachments": {},
   "cell_type": "markdown",
   "metadata": {},
   "source": [
    "# 10: array.reshape"
   ]
  },
  {
   "cell_type": "code",
   "execution_count": 54,
   "metadata": {},
   "outputs": [
    {
     "data": {
      "text/plain": [
       "array([[81,  9, 19, 58],\n",
       "       [78, 34, 43, 30],\n",
       "       [ 0, 25, 16, 35]])"
      ]
     },
     "execution_count": 54,
     "metadata": {},
     "output_type": "execute_result"
    }
   ],
   "source": [
    "# 10. array.reshape\n",
    "arr10 = criar_array_aleatorio(3, 4)\n",
    "arr10"
   ]
  },
  {
   "cell_type": "code",
   "execution_count": 59,
   "metadata": {},
   "outputs": [
    {
     "name": "stdout",
     "output_type": "stream",
     "text": [
      "[[81  9 19]\n",
      " [58 78 34]\n",
      " [43 30  0]\n",
      " [25 16 35]]\n",
      "\n",
      "[[81  9 19 58 78 34]\n",
      " [43 30  0 25 16 35]]\n",
      "\n",
      "[[81  9 19 58 78 34 43 30  0 25 16 35]]\n"
     ]
    }
   ],
   "source": [
    "# a quantidade e elementos do array deve ser a mesma após o reshape\n",
    "print(arr10.reshape(4, 3))  # retorna o array com a nova forma (diferente de transpor o array)\n",
    "print()\n",
    "print(arr10.reshape(2, 6))  # retorna o array com a nova forma\n",
    "print()\n",
    "print(arr10.reshape(1, 12)) # retorna o array com a nova forma"
   ]
  },
  {
   "cell_type": "code",
   "execution_count": 61,
   "metadata": {},
   "outputs": [
    {
     "data": {
      "text/plain": [
       "array([[37,  5, 91,  8, 98, 82, 52, 73, 11,  5, 95, 65,  3, 18, 22, 47,\n",
       "        51, 18, 10, 32, 44, 17, 48, 39, 82, 20, 43]])"
      ]
     },
     "execution_count": 61,
     "metadata": {},
     "output_type": "execute_result"
    }
   ],
   "source": [
    "arr8.reshape(1, np.multiply(*arr8.shape))"
   ]
  },
  {
   "cell_type": "code",
   "execution_count": 62,
   "metadata": {},
   "outputs": [
    {
     "data": {
      "text/plain": [
       "array([[37,  5, 91,  8, 98, 82, 52, 73, 11,  5, 95, 65,  3, 18, 22, 47,\n",
       "        51, 18, 10, 32, 44, 17, 48, 39, 82, 20, 43]])"
      ]
     },
     "execution_count": 62,
     "metadata": {},
     "output_type": "execute_result"
    }
   ],
   "source": [
    "# retorna um outro array com uma linha e todos os outros elementos\n",
    "# nas colunas \n",
    "arr8.reshape(1, -1)"
   ]
  },
  {
   "cell_type": "code",
   "execution_count": 63,
   "metadata": {},
   "outputs": [
    {
     "data": {
      "text/plain": [
       "array([[37],\n",
       "       [ 5],\n",
       "       [91],\n",
       "       [ 8],\n",
       "       [98],\n",
       "       [82],\n",
       "       [52],\n",
       "       [73],\n",
       "       [11],\n",
       "       [ 5],\n",
       "       [95],\n",
       "       [65],\n",
       "       [ 3],\n",
       "       [18],\n",
       "       [22],\n",
       "       [47],\n",
       "       [51],\n",
       "       [18],\n",
       "       [10],\n",
       "       [32],\n",
       "       [44],\n",
       "       [17],\n",
       "       [48],\n",
       "       [39],\n",
       "       [82],\n",
       "       [20],\n",
       "       [43]])"
      ]
     },
     "execution_count": 63,
     "metadata": {},
     "output_type": "execute_result"
    }
   ],
   "source": [
    "arr8.reshape(-1, 1)"
   ]
  },
  {
   "cell_type": "code",
   "execution_count": 66,
   "metadata": {},
   "outputs": [
    {
     "data": {
      "text/plain": [
       "True"
      ]
     },
     "execution_count": 66,
     "metadata": {},
     "output_type": "execute_result"
    }
   ],
   "source": [
    "(arr8.reshape(-1) == arr8.ravel()).all()"
   ]
  },
  {
   "attachments": {},
   "cell_type": "markdown",
   "metadata": {},
   "source": [
    "---"
   ]
  },
  {
   "attachments": {},
   "cell_type": "markdown",
   "metadata": {},
   "source": [
    "# 11: array.ravel"
   ]
  },
  {
   "cell_type": "code",
   "execution_count": 67,
   "metadata": {},
   "outputs": [
    {
     "data": {
      "text/plain": [
       "array([[53, 97, 98, 92],\n",
       "       [84, 52,  3, 56],\n",
       "       [24, 15, 98, 24]])"
      ]
     },
     "execution_count": 67,
     "metadata": {},
     "output_type": "execute_result"
    }
   ],
   "source": [
    "# 11. array.ravel\n",
    "arr11 = criar_array_aleatorio(3, 4)\n",
    "arr11"
   ]
  },
  {
   "cell_type": "code",
   "execution_count": 68,
   "metadata": {},
   "outputs": [
    {
     "name": "stdout",
     "output_type": "stream",
     "text": [
      "[53 97 98 92 84 52  3 56 24 15 98 24]\n"
     ]
    }
   ],
   "source": [
    "print(arr11.ravel())                 # returns a new array with the new shape"
   ]
  },
  {
   "attachments": {},
   "cell_type": "markdown",
   "metadata": {},
   "source": [
    "---\n",
    "# Numpy Functions"
   ]
  },
  {
   "cell_type": "code",
   "execution_count": null,
   "metadata": {},
   "outputs": [],
   "source": [
    "# existem 509 funções do pacote numpy\n",
    "print(dir(np)[82:])"
   ]
  },
  {
   "attachments": {},
   "cell_type": "markdown",
   "metadata": {},
   "source": [
    "# 12: np.unique"
   ]
  },
  {
   "cell_type": "code",
   "execution_count": 71,
   "metadata": {},
   "outputs": [
    {
     "data": {
      "text/plain": [
       "array([[54, 22, 74, 89, 75, 28, 70,  1, 29,  4, 56, 73, 43, 61, 32, 14,\n",
       "        59, 13,  2, 83, 32, 95, 20, 56, 69, 35, 20, 85, 38, 91, 30, 14,\n",
       "        49, 90, 13, 79,  1, 59, 63, 71, 85, 63, 54,  0, 41, 71, 57, 78,\n",
       "        72, 22]])"
      ]
     },
     "execution_count": 71,
     "metadata": {},
     "output_type": "execute_result"
    }
   ],
   "source": [
    "# 12. np.unique\n",
    "arr12 = criar_array_aleatorio(1, 50)\n",
    "arr12"
   ]
  },
  {
   "cell_type": "code",
   "execution_count": 72,
   "metadata": {},
   "outputs": [
    {
     "data": {
      "text/plain": [
       "module"
      ]
     },
     "execution_count": 72,
     "metadata": {},
     "output_type": "execute_result"
    }
   ],
   "source": [
    "type(np)"
   ]
  },
  {
   "cell_type": "code",
   "execution_count": 73,
   "metadata": {},
   "outputs": [
    {
     "data": {
      "text/plain": [
       "array([ 0,  1,  2,  4, 13, 14, 20, 22, 28, 29, 30, 32, 35, 38, 41, 43, 49,\n",
       "       54, 56, 57, 59, 61, 63, 69, 70, 71, 72, 73, 74, 75, 78, 79, 83, 85,\n",
       "       89, 90, 91, 95])"
      ]
     },
     "execution_count": 73,
     "metadata": {},
     "output_type": "execute_result"
    }
   ],
   "source": [
    "np.unique(arr12)         # remove os valores duplicados do array e classifica os valores"
   ]
  },
  {
   "attachments": {},
   "cell_type": "markdown",
   "metadata": {},
   "source": [
    "---"
   ]
  },
  {
   "attachments": {},
   "cell_type": "markdown",
   "metadata": {},
   "source": [
    "# 13: np.random.randint"
   ]
  },
  {
   "cell_type": "code",
   "execution_count": 86,
   "metadata": {},
   "outputs": [
    {
     "data": {
      "text/plain": [
       "array([[61, 69, 64, 90],\n",
       "       [10, 59, 63, 42],\n",
       "       [70, 82, 43, 10]])"
      ]
     },
     "execution_count": 86,
     "metadata": {},
     "output_type": "execute_result"
    }
   ],
   "source": [
    "# 13. np.random.randint\n",
    "arr13 = np.random.randint(low=0, high=100, size=(3, 4))     # cria um array com dimensao 3x4 com valores aleatórios entre 0 e 100\n",
    "arr13"
   ]
  },
  {
   "cell_type": "code",
   "execution_count": 91,
   "metadata": {},
   "outputs": [
    {
     "data": {
      "text/plain": [
       "array([[2, 9],\n",
       "       [2, 9],\n",
       "       [2, 9]])"
      ]
     },
     "execution_count": 91,
     "metadata": {},
     "output_type": "execute_result"
    }
   ],
   "source": [
    "# a primeira coluna vai ser entre 2 e 5 - 1 e a segunda coluna vai ser entre 3 e 10 - 1\n",
    "# low das colunas e high das colunas\n",
    "np.random.randint(low=[2, 3], high=[3, 10], size=(3, 2))  # mude os valores de low e high para ver o resultado"
   ]
  },
  {
   "attachments": {},
   "cell_type": "markdown",
   "metadata": {},
   "source": [
    "---"
   ]
  },
  {
   "attachments": {},
   "cell_type": "markdown",
   "metadata": {},
   "source": [
    "# 14: np.random.randn"
   ]
  },
  {
   "cell_type": "code",
   "execution_count": 92,
   "metadata": {},
   "outputs": [
    {
     "data": {
      "text/plain": [
       "array([[ 0.83914177, -0.70638163, -0.59341855, -1.61294462],\n",
       "       [ 1.71546176,  0.34713944,  1.49714078, -0.69338652],\n",
       "       [ 0.47348011,  0.38027155,  1.03366572, -0.97566627]])"
      ]
     },
     "execution_count": 92,
     "metadata": {},
     "output_type": "execute_result"
    }
   ],
   "source": [
    "# 14. np.random;randn\n",
    "arr14 = np.random.randn(3, 4)     # cria um array que respeita a distribuição normal (gaussiana) com média 0 e desvio padrão 1\n",
    "arr14"
   ]
  },
  {
   "attachments": {},
   "cell_type": "markdown",
   "metadata": {},
   "source": [
    "---"
   ]
  },
  {
   "attachments": {},
   "cell_type": "markdown",
   "metadata": {},
   "source": [
    "# 15: np.random.choice"
   ]
  },
  {
   "cell_type": "code",
   "execution_count": 95,
   "metadata": {},
   "outputs": [
    {
     "name": "stdout",
     "output_type": "stream",
     "text": [
      "2\n"
     ]
    }
   ],
   "source": [
    "# 15. np.random.choice\n",
    "choice = np.random.choice([1, 2, 3, 4, 5, 6])                                # escolhe um elemento aleatório da lista\n",
    "print(choice)"
   ]
  },
  {
   "cell_type": "code",
   "execution_count": 96,
   "metadata": {},
   "outputs": [
    {
     "name": "stdout",
     "output_type": "stream",
     "text": [
      "[4 1 3]\n"
     ]
    }
   ],
   "source": [
    "arr16 = np.random.choice([1, 2, 3, 4, 5, 6], size=3, replace=False)     # escolhe 3 elementos aleatórios da lista sem reposição\n",
    "print(arr16)"
   ]
  },
  {
   "cell_type": "code",
   "execution_count": 97,
   "metadata": {},
   "outputs": [
    {
     "name": "stdout",
     "output_type": "stream",
     "text": [
      "[[3 5]\n",
      " [1 3]\n",
      " [5 2]]\n"
     ]
    }
   ],
   "source": [
    "arr17 = np.random.choice([1, 2, 3, 4, 5, 6], size=(3, 2), replace=True)                   # escolhe 6 elementos aleatórios da lista com reposição\n",
    "print(arr17)"
   ]
  },
  {
   "attachments": {},
   "cell_type": "markdown",
   "metadata": {},
   "source": [
    "---"
   ]
  },
  {
   "attachments": {},
   "cell_type": "markdown",
   "metadata": {},
   "source": [
    "# 16: np.arange"
   ]
  },
  {
   "cell_type": "code",
   "execution_count": 98,
   "metadata": {},
   "outputs": [
    {
     "name": "stdout",
     "output_type": "stream",
     "text": [
      "[0 1 2 3 4 5 6 7 8 9]\n"
     ]
    }
   ],
   "source": [
    "print(np.arange(0, 10))         # mesmo que range(0, 10)"
   ]
  },
  {
   "cell_type": "code",
   "execution_count": 99,
   "metadata": {},
   "outputs": [
    {
     "name": "stdout",
     "output_type": "stream",
     "text": [
      "[0 2 4 6 8]\n"
     ]
    }
   ],
   "source": [
    "# o zero é inclusive, o 10 é exclusive e o 2 é o passo (inteiro)\n",
    "print(np.arange(0, 10, 2))      # mesmo que range(0, 10, 2)"
   ]
  },
  {
   "cell_type": "code",
   "execution_count": 100,
   "metadata": {},
   "outputs": [
    {
     "name": "stdout",
     "output_type": "stream",
     "text": [
      "[0.  0.5 1.  1.5 2.  2.5 3.  3.5 4.  4.5]\n"
     ]
    }
   ],
   "source": [
    "# o zero é inclusive, o 5 é exclusive e o 0.5 é o passo (float)\n",
    "print(np.arange(0, 5, 0.5))     # assim não existe equivalencia com range"
   ]
  },
  {
   "attachments": {},
   "cell_type": "markdown",
   "metadata": {},
   "source": [
    "---"
   ]
  },
  {
   "attachments": {},
   "cell_type": "markdown",
   "metadata": {},
   "source": [
    "# 17: np.random.shuffle"
   ]
  },
  {
   "cell_type": "code",
   "execution_count": 104,
   "metadata": {},
   "outputs": [
    {
     "name": "stdout",
     "output_type": "stream",
     "text": [
      "[0 1 2 3 4 5 6 7 8 9]\n",
      "[4 6 9 8 1 7 0 2 3 5]\n"
     ]
    }
   ],
   "source": [
    "# 17. np.random.shuffle (shuffle = embaralhar)\n",
    "arr18 = np.arange(10)\n",
    "print(arr18)\n",
    "np.random.shuffle(arr18)            # embaralha o array inplace (não retorna nada)\n",
    "print(arr18)"
   ]
  },
  {
   "cell_type": "code",
   "execution_count": 102,
   "metadata": {},
   "outputs": [
    {
     "name": "stdout",
     "output_type": "stream",
     "text": [
      "None\n"
     ]
    }
   ],
   "source": [
    "print(np.random.shuffle(arr18))"
   ]
  },
  {
   "attachments": {},
   "cell_type": "markdown",
   "metadata": {},
   "source": [
    "---"
   ]
  },
  {
   "attachments": {},
   "cell_type": "markdown",
   "metadata": {},
   "source": [
    "# 18: np.random.seed"
   ]
  },
  {
   "cell_type": "code",
   "execution_count": 106,
   "metadata": {},
   "outputs": [
    {
     "data": {
      "text/plain": [
       "array([[51, 92, 14, 71],\n",
       "       [60, 20, 82, 86],\n",
       "       [74, 74, 87, 99]])"
      ]
     },
     "execution_count": 106,
     "metadata": {},
     "output_type": "execute_result"
    }
   ],
   "source": [
    "# np.random.seed\n",
    "np.random.seed(42)  # fixa a semente para que os números aleatórios sejam sempre os mesmos para um mesmo seed\n",
    "arr19 = np.random.randint(0, 100, size=(3, 4))\n",
    "arr19"
   ]
  },
  {
   "attachments": {},
   "cell_type": "markdown",
   "metadata": {},
   "source": [
    "---"
   ]
  },
  {
   "attachments": {},
   "cell_type": "markdown",
   "metadata": {},
   "source": [
    "# 19: np.concatenate"
   ]
  },
  {
   "cell_type": "code",
   "execution_count": 107,
   "metadata": {},
   "outputs": [],
   "source": [
    "# 19. np.concatenate\n",
    "arr20 = np.random.randint(0, 100, size=(3, 4))\n",
    "arr21 = np.random.randint(0, 100, size=(7, 4))"
   ]
  },
  {
   "cell_type": "code",
   "execution_count": 108,
   "metadata": {},
   "outputs": [
    {
     "data": {
      "text/plain": [
       "array([[23,  2, 21, 52],\n",
       "       [ 1, 87, 29, 37],\n",
       "       [ 1, 63, 59, 20]])"
      ]
     },
     "execution_count": 108,
     "metadata": {},
     "output_type": "execute_result"
    }
   ],
   "source": [
    "arr20"
   ]
  },
  {
   "cell_type": "code",
   "execution_count": 109,
   "metadata": {},
   "outputs": [
    {
     "data": {
      "text/plain": [
       "array([[32, 75, 57, 21],\n",
       "       [88, 48, 90, 58],\n",
       "       [41, 91, 59, 79],\n",
       "       [14, 61, 61, 46],\n",
       "       [61, 50, 54, 63],\n",
       "       [ 2, 50,  6, 20],\n",
       "       [72, 38, 17,  3]])"
      ]
     },
     "execution_count": 109,
     "metadata": {},
     "output_type": "execute_result"
    }
   ],
   "source": [
    "arr21"
   ]
  },
  {
   "cell_type": "code",
   "execution_count": 110,
   "metadata": {},
   "outputs": [
    {
     "data": {
      "text/plain": [
       "array([[23,  2, 21, 52],\n",
       "       [ 1, 87, 29, 37],\n",
       "       [ 1, 63, 59, 20],\n",
       "       [32, 75, 57, 21],\n",
       "       [88, 48, 90, 58],\n",
       "       [41, 91, 59, 79],\n",
       "       [14, 61, 61, 46],\n",
       "       [61, 50, 54, 63],\n",
       "       [ 2, 50,  6, 20],\n",
       "       [72, 38, 17,  3]])"
      ]
     },
     "execution_count": 110,
     "metadata": {},
     "output_type": "execute_result"
    }
   ],
   "source": [
    "# perceba que os arrays a serem concatenados devem ser passados dentro de uma lista\n",
    "np.concatenate([arr20, arr21], axis=0)        # concatena verticalmente"
   ]
  },
  {
   "attachments": {},
   "cell_type": "markdown",
   "metadata": {},
   "source": [
    "---\n",
    "# 20: np.where"
   ]
  },
  {
   "cell_type": "code",
   "execution_count": 111,
   "metadata": {},
   "outputs": [
    {
     "data": {
      "text/plain": [
       "array([5, 6, 7, 8, 9])"
      ]
     },
     "execution_count": 111,
     "metadata": {},
     "output_type": "execute_result"
    }
   ],
   "source": [
    "arr22 = np.arange(5, 10)\n",
    "arr22"
   ]
  },
  {
   "cell_type": "code",
   "execution_count": 112,
   "metadata": {},
   "outputs": [
    {
     "data": {
      "text/plain": [
       "(array([2, 3, 4], dtype=int64),)"
      ]
     },
     "execution_count": 112,
     "metadata": {},
     "output_type": "execute_result"
    }
   ],
   "source": [
    "np.where(arr22 >= 7)                              # retorna os indices dos elementos que satisfazem a condição"
   ]
  },
  {
   "cell_type": "code",
   "execution_count": 113,
   "metadata": {},
   "outputs": [
    {
     "data": {
      "text/plain": [
       "array(['no', 'no', 'yes', 'yes', 'yes'], dtype='<U3')"
      ]
     },
     "execution_count": 113,
     "metadata": {},
     "output_type": "execute_result"
    }
   ],
   "source": [
    "res_where = np.where(arr22 >= 7, 'yes', 'no')   # insere nos indices que satisfazem a condição o valor 'yes' e nos demais o valor 'no'\n",
    "res_where"
   ]
  },
  {
   "cell_type": "code",
   "execution_count": 114,
   "metadata": {},
   "outputs": [
    {
     "data": {
      "text/plain": [
       "array([[88, 59, 13,  8],\n",
       "       [89, 52,  1, 83],\n",
       "       [91, 59, 70, 43]])"
      ]
     },
     "execution_count": 114,
     "metadata": {},
     "output_type": "execute_result"
    }
   ],
   "source": [
    "arr23 = criar_array_aleatorio(3, 4)\n",
    "arr23"
   ]
  },
  {
   "cell_type": "code",
   "execution_count": 121,
   "metadata": {},
   "outputs": [
    {
     "name": "stdout",
     "output_type": "stream",
     "text": [
      "88\n",
      "59\n",
      "89\n",
      "52\n",
      "83\n",
      "91\n",
      "59\n",
      "70\n"
     ]
    }
   ],
   "source": [
    "for lin, col in zip(**np.where(arr23 > 50)):\n",
    "    print(arr23[lin, col])"
   ]
  },
  {
   "cell_type": "markdown",
   "metadata": {},
   "source": [
    "---\n",
    "# np.linspace"
   ]
  },
  {
   "cell_type": "code",
   "execution_count": 120,
   "metadata": {},
   "outputs": [
    {
     "data": {
      "text/plain": [
       "array([ 0.        ,  0.20408163,  0.40816327,  0.6122449 ,  0.81632653,\n",
       "        1.02040816,  1.2244898 ,  1.42857143,  1.63265306,  1.83673469,\n",
       "        2.04081633,  2.24489796,  2.44897959,  2.65306122,  2.85714286,\n",
       "        3.06122449,  3.26530612,  3.46938776,  3.67346939,  3.87755102,\n",
       "        4.08163265,  4.28571429,  4.48979592,  4.69387755,  4.89795918,\n",
       "        5.10204082,  5.30612245,  5.51020408,  5.71428571,  5.91836735,\n",
       "        6.12244898,  6.32653061,  6.53061224,  6.73469388,  6.93877551,\n",
       "        7.14285714,  7.34693878,  7.55102041,  7.75510204,  7.95918367,\n",
       "        8.16326531,  8.36734694,  8.57142857,  8.7755102 ,  8.97959184,\n",
       "        9.18367347,  9.3877551 ,  9.59183673,  9.79591837, 10.        ])"
      ]
     },
     "execution_count": 120,
     "metadata": {},
     "output_type": "execute_result"
    }
   ],
   "source": [
    "np.linspace(0, 10, 50)       # retorna 5 elementos entre 0 e 10 (inclusive)"
   ]
  },
  {
   "attachments": {},
   "cell_type": "markdown",
   "metadata": {},
   "source": [
    "---\n",
    "# Operações com vetores (produto escalar e produto vetorial)"
   ]
  },
  {
   "cell_type": "code",
   "execution_count": null,
   "metadata": {},
   "outputs": [],
   "source": [
    "arr23 = np.array([2, 4, 1])\n",
    "arr24 = np.array([3, 0, 1])"
   ]
  },
  {
   "cell_type": "code",
   "execution_count": null,
   "metadata": {},
   "outputs": [],
   "source": [
    "arr23 @ arr24                               # mesmo que np.dot(arr23, arr24) ou arr23.dot(arr24)"
   ]
  },
  {
   "cell_type": "code",
   "execution_count": null,
   "metadata": {},
   "outputs": [],
   "source": [
    "np.cross(arr23, arr24)                      # produto vetorial"
   ]
  },
  {
   "cell_type": "code",
   "execution_count": null,
   "metadata": {},
   "outputs": [],
   "source": [
    "np.cross(arr23, arr24)"
   ]
  },
  {
   "cell_type": "code",
   "execution_count": null,
   "metadata": {},
   "outputs": [],
   "source": [
    "np.cross(arr23, arr24) ** 2"
   ]
  },
  {
   "cell_type": "code",
   "execution_count": null,
   "metadata": {},
   "outputs": [],
   "source": [
    "(np.cross(arr23, arr24) ** 2).sum()"
   ]
  },
  {
   "cell_type": "code",
   "execution_count": null,
   "metadata": {},
   "outputs": [],
   "source": [
    "(np.cross(arr23, arr24) ** 2).sum() ** (1/2)"
   ]
  }
 ],
 "metadata": {
  "kernelspec": {
   "display_name": "envCursoCRT",
   "language": "python",
   "name": "python3"
  },
  "language_info": {
   "codemirror_mode": {
    "name": "ipython",
    "version": 3
   },
   "file_extension": ".py",
   "mimetype": "text/x-python",
   "name": "python",
   "nbconvert_exporter": "python",
   "pygments_lexer": "ipython3",
   "version": "3.11.5"
  },
  "orig_nbformat": 4
 },
 "nbformat": 4,
 "nbformat_minor": 2
}
